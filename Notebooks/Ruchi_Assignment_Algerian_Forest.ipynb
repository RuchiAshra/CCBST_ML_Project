{
  "cells": [
    {
      "cell_type": "code",
      "execution_count": 1,
      "metadata": {
        "id": "BmVZJmnxhGZP"
      },
      "outputs": [],
      "source": [
        "import pandas as pd\n",
        "import numpy as np\n",
        "import matplotlib.pyplot as plt\n",
        "import seaborn as sns\n",
        "import warnings\n",
        "warnings.filterwarnings('ignore')\n",
        "from sklearn.model_selection import train_test_split, GridSearchCV, RandomizedSearchCV, KFold, cross_val_score\n",
        "from sklearn.tree import DecisionTreeClassifier\n",
        "from sklearn import tree\n",
        "from sklearn.preprocessing import StandardScaler, LabelEncoder\n",
        "from sklearn.metrics import mean_absolute_error, mean_squared_error, r2_score, confusion_matrix, accuracy_score, precision_score, recall_score, f1_score, classification_report\n",
        "from sklearn.preprocessing import PolynomialFeatures\n",
        "from sklearn.linear_model import LinearRegression, Ridge, Lasso, ElasticNet, LogisticRegression\n"
      ]
    },
    {
      "cell_type": "markdown",
      "metadata": {
        "id": "0yXfqr-rhdvy"
      },
      "source": [
        "Load data\n"
      ]
    },
    {
      "cell_type": "code",
      "execution_count": 2,
      "metadata": {
        "colab": {
          "base_uri": "https://localhost:8080/",
          "height": 423
        },
        "id": "CAqAyv3ZhonJ",
        "outputId": "ab4bbbf9-3d8c-41f5-bfaa-3525d1ba04b6"
      },
      "outputs": [
        {
          "data": {
            "text/html": [
              "<div>\n",
              "<style scoped>\n",
              "    .dataframe tbody tr th:only-of-type {\n",
              "        vertical-align: middle;\n",
              "    }\n",
              "\n",
              "    .dataframe tbody tr th {\n",
              "        vertical-align: top;\n",
              "    }\n",
              "\n",
              "    .dataframe thead th {\n",
              "        text-align: right;\n",
              "    }\n",
              "</style>\n",
              "<table border=\"1\" class=\"dataframe\">\n",
              "  <thead>\n",
              "    <tr style=\"text-align: right;\">\n",
              "      <th></th>\n",
              "      <th>day</th>\n",
              "      <th>month</th>\n",
              "      <th>year</th>\n",
              "      <th>Temperature</th>\n",
              "      <th>RH</th>\n",
              "      <th>Ws</th>\n",
              "      <th>Rain</th>\n",
              "      <th>FFMC</th>\n",
              "      <th>DMC</th>\n",
              "      <th>DC</th>\n",
              "      <th>ISI</th>\n",
              "      <th>BUI</th>\n",
              "      <th>FWI</th>\n",
              "      <th>Classes</th>\n",
              "      <th>Region</th>\n",
              "    </tr>\n",
              "  </thead>\n",
              "  <tbody>\n",
              "    <tr>\n",
              "      <th>0</th>\n",
              "      <td>1</td>\n",
              "      <td>6</td>\n",
              "      <td>2012</td>\n",
              "      <td>29</td>\n",
              "      <td>57</td>\n",
              "      <td>18</td>\n",
              "      <td>0.0</td>\n",
              "      <td>65.7</td>\n",
              "      <td>3.4</td>\n",
              "      <td>7.6</td>\n",
              "      <td>1.3</td>\n",
              "      <td>3.4</td>\n",
              "      <td>0.5</td>\n",
              "      <td>not fire</td>\n",
              "      <td>0</td>\n",
              "    </tr>\n",
              "    <tr>\n",
              "      <th>1</th>\n",
              "      <td>2</td>\n",
              "      <td>6</td>\n",
              "      <td>2012</td>\n",
              "      <td>29</td>\n",
              "      <td>61</td>\n",
              "      <td>13</td>\n",
              "      <td>1.3</td>\n",
              "      <td>64.4</td>\n",
              "      <td>4.1</td>\n",
              "      <td>7.6</td>\n",
              "      <td>1.0</td>\n",
              "      <td>3.9</td>\n",
              "      <td>0.4</td>\n",
              "      <td>not fire</td>\n",
              "      <td>0</td>\n",
              "    </tr>\n",
              "    <tr>\n",
              "      <th>2</th>\n",
              "      <td>3</td>\n",
              "      <td>6</td>\n",
              "      <td>2012</td>\n",
              "      <td>26</td>\n",
              "      <td>82</td>\n",
              "      <td>22</td>\n",
              "      <td>13.1</td>\n",
              "      <td>47.1</td>\n",
              "      <td>2.5</td>\n",
              "      <td>7.1</td>\n",
              "      <td>0.3</td>\n",
              "      <td>2.7</td>\n",
              "      <td>0.1</td>\n",
              "      <td>not fire</td>\n",
              "      <td>0</td>\n",
              "    </tr>\n",
              "    <tr>\n",
              "      <th>3</th>\n",
              "      <td>4</td>\n",
              "      <td>6</td>\n",
              "      <td>2012</td>\n",
              "      <td>25</td>\n",
              "      <td>89</td>\n",
              "      <td>13</td>\n",
              "      <td>2.5</td>\n",
              "      <td>28.6</td>\n",
              "      <td>1.3</td>\n",
              "      <td>6.9</td>\n",
              "      <td>0.0</td>\n",
              "      <td>1.7</td>\n",
              "      <td>0.0</td>\n",
              "      <td>not fire</td>\n",
              "      <td>0</td>\n",
              "    </tr>\n",
              "    <tr>\n",
              "      <th>4</th>\n",
              "      <td>5</td>\n",
              "      <td>6</td>\n",
              "      <td>2012</td>\n",
              "      <td>27</td>\n",
              "      <td>77</td>\n",
              "      <td>16</td>\n",
              "      <td>0.0</td>\n",
              "      <td>64.8</td>\n",
              "      <td>3.0</td>\n",
              "      <td>14.2</td>\n",
              "      <td>1.2</td>\n",
              "      <td>3.9</td>\n",
              "      <td>0.5</td>\n",
              "      <td>not fire</td>\n",
              "      <td>0</td>\n",
              "    </tr>\n",
              "    <tr>\n",
              "      <th>...</th>\n",
              "      <td>...</td>\n",
              "      <td>...</td>\n",
              "      <td>...</td>\n",
              "      <td>...</td>\n",
              "      <td>...</td>\n",
              "      <td>...</td>\n",
              "      <td>...</td>\n",
              "      <td>...</td>\n",
              "      <td>...</td>\n",
              "      <td>...</td>\n",
              "      <td>...</td>\n",
              "      <td>...</td>\n",
              "      <td>...</td>\n",
              "      <td>...</td>\n",
              "      <td>...</td>\n",
              "    </tr>\n",
              "    <tr>\n",
              "      <th>238</th>\n",
              "      <td>26</td>\n",
              "      <td>9</td>\n",
              "      <td>2012</td>\n",
              "      <td>30</td>\n",
              "      <td>65</td>\n",
              "      <td>14</td>\n",
              "      <td>0.0</td>\n",
              "      <td>85.4</td>\n",
              "      <td>16.0</td>\n",
              "      <td>44.5</td>\n",
              "      <td>4.5</td>\n",
              "      <td>16.9</td>\n",
              "      <td>6.5</td>\n",
              "      <td>fire</td>\n",
              "      <td>1</td>\n",
              "    </tr>\n",
              "    <tr>\n",
              "      <th>239</th>\n",
              "      <td>27</td>\n",
              "      <td>9</td>\n",
              "      <td>2012</td>\n",
              "      <td>28</td>\n",
              "      <td>87</td>\n",
              "      <td>15</td>\n",
              "      <td>4.4</td>\n",
              "      <td>41.1</td>\n",
              "      <td>6.5</td>\n",
              "      <td>8.0</td>\n",
              "      <td>0.1</td>\n",
              "      <td>6.2</td>\n",
              "      <td>0.0</td>\n",
              "      <td>not fire</td>\n",
              "      <td>1</td>\n",
              "    </tr>\n",
              "    <tr>\n",
              "      <th>240</th>\n",
              "      <td>28</td>\n",
              "      <td>9</td>\n",
              "      <td>2012</td>\n",
              "      <td>27</td>\n",
              "      <td>87</td>\n",
              "      <td>29</td>\n",
              "      <td>0.5</td>\n",
              "      <td>45.9</td>\n",
              "      <td>3.5</td>\n",
              "      <td>7.9</td>\n",
              "      <td>0.4</td>\n",
              "      <td>3.4</td>\n",
              "      <td>0.2</td>\n",
              "      <td>not fire</td>\n",
              "      <td>1</td>\n",
              "    </tr>\n",
              "    <tr>\n",
              "      <th>241</th>\n",
              "      <td>29</td>\n",
              "      <td>9</td>\n",
              "      <td>2012</td>\n",
              "      <td>24</td>\n",
              "      <td>54</td>\n",
              "      <td>18</td>\n",
              "      <td>0.1</td>\n",
              "      <td>79.7</td>\n",
              "      <td>4.3</td>\n",
              "      <td>15.2</td>\n",
              "      <td>1.7</td>\n",
              "      <td>5.1</td>\n",
              "      <td>0.7</td>\n",
              "      <td>not fire</td>\n",
              "      <td>1</td>\n",
              "    </tr>\n",
              "    <tr>\n",
              "      <th>242</th>\n",
              "      <td>30</td>\n",
              "      <td>9</td>\n",
              "      <td>2012</td>\n",
              "      <td>24</td>\n",
              "      <td>64</td>\n",
              "      <td>15</td>\n",
              "      <td>0.2</td>\n",
              "      <td>67.3</td>\n",
              "      <td>3.8</td>\n",
              "      <td>16.5</td>\n",
              "      <td>1.2</td>\n",
              "      <td>4.8</td>\n",
              "      <td>0.5</td>\n",
              "      <td>not fire</td>\n",
              "      <td>1</td>\n",
              "    </tr>\n",
              "  </tbody>\n",
              "</table>\n",
              "<p>243 rows × 15 columns</p>\n",
              "</div>"
            ],
            "text/plain": [
              "     day  month  year  Temperature  RH  Ws  Rain  FFMC   DMC    DC  ISI   BUI  \\\n",
              "0      1      6  2012           29  57  18   0.0  65.7   3.4   7.6  1.3   3.4   \n",
              "1      2      6  2012           29  61  13   1.3  64.4   4.1   7.6  1.0   3.9   \n",
              "2      3      6  2012           26  82  22  13.1  47.1   2.5   7.1  0.3   2.7   \n",
              "3      4      6  2012           25  89  13   2.5  28.6   1.3   6.9  0.0   1.7   \n",
              "4      5      6  2012           27  77  16   0.0  64.8   3.0  14.2  1.2   3.9   \n",
              "..   ...    ...   ...          ...  ..  ..   ...   ...   ...   ...  ...   ...   \n",
              "238   26      9  2012           30  65  14   0.0  85.4  16.0  44.5  4.5  16.9   \n",
              "239   27      9  2012           28  87  15   4.4  41.1   6.5   8.0  0.1   6.2   \n",
              "240   28      9  2012           27  87  29   0.5  45.9   3.5   7.9  0.4   3.4   \n",
              "241   29      9  2012           24  54  18   0.1  79.7   4.3  15.2  1.7   5.1   \n",
              "242   30      9  2012           24  64  15   0.2  67.3   3.8  16.5  1.2   4.8   \n",
              "\n",
              "     FWI       Classes  Region  \n",
              "0    0.5   not fire          0  \n",
              "1    0.4   not fire          0  \n",
              "2    0.1   not fire          0  \n",
              "3    0.0   not fire          0  \n",
              "4    0.5   not fire          0  \n",
              "..   ...           ...     ...  \n",
              "238  6.5       fire          1  \n",
              "239  0.0   not fire          1  \n",
              "240  0.2   not fire          1  \n",
              "241  0.7   not fire          1  \n",
              "242  0.5  not fire           1  \n",
              "\n",
              "[243 rows x 15 columns]"
            ]
          },
          "execution_count": 2,
          "metadata": {},
          "output_type": "execute_result"
        }
      ],
      "source": [
        "df=pd.read_csv(r'C:\\Users\\User\\OneDrive\\Desktop\\Big data\\CCBST_Project\\CCBST_Project_123\\Dataset\\Algerian_forest_fires_cleaned.csv')\n",
        "df"
      ]
    },
    {
      "cell_type": "markdown",
      "metadata": {
        "id": "dndEJOGWhoYk"
      },
      "source": [
        "Basic Information about Data"
      ]
    },
    {
      "cell_type": "code",
      "execution_count": 3,
      "metadata": {
        "colab": {
          "base_uri": "https://localhost:8080/",
          "height": 206
        },
        "id": "3EYcmAEEhopL",
        "outputId": "8eac13c2-f01d-4a5e-98ba-b13fce44a9ca"
      },
      "outputs": [
        {
          "data": {
            "text/html": [
              "<div>\n",
              "<style scoped>\n",
              "    .dataframe tbody tr th:only-of-type {\n",
              "        vertical-align: middle;\n",
              "    }\n",
              "\n",
              "    .dataframe tbody tr th {\n",
              "        vertical-align: top;\n",
              "    }\n",
              "\n",
              "    .dataframe thead th {\n",
              "        text-align: right;\n",
              "    }\n",
              "</style>\n",
              "<table border=\"1\" class=\"dataframe\">\n",
              "  <thead>\n",
              "    <tr style=\"text-align: right;\">\n",
              "      <th></th>\n",
              "      <th>day</th>\n",
              "      <th>month</th>\n",
              "      <th>year</th>\n",
              "      <th>Temperature</th>\n",
              "      <th>RH</th>\n",
              "      <th>Ws</th>\n",
              "      <th>Rain</th>\n",
              "      <th>FFMC</th>\n",
              "      <th>DMC</th>\n",
              "      <th>DC</th>\n",
              "      <th>ISI</th>\n",
              "      <th>BUI</th>\n",
              "      <th>FWI</th>\n",
              "      <th>Classes</th>\n",
              "      <th>Region</th>\n",
              "    </tr>\n",
              "  </thead>\n",
              "  <tbody>\n",
              "    <tr>\n",
              "      <th>0</th>\n",
              "      <td>1</td>\n",
              "      <td>6</td>\n",
              "      <td>2012</td>\n",
              "      <td>29</td>\n",
              "      <td>57</td>\n",
              "      <td>18</td>\n",
              "      <td>0.0</td>\n",
              "      <td>65.7</td>\n",
              "      <td>3.4</td>\n",
              "      <td>7.6</td>\n",
              "      <td>1.3</td>\n",
              "      <td>3.4</td>\n",
              "      <td>0.5</td>\n",
              "      <td>not fire</td>\n",
              "      <td>0</td>\n",
              "    </tr>\n",
              "    <tr>\n",
              "      <th>1</th>\n",
              "      <td>2</td>\n",
              "      <td>6</td>\n",
              "      <td>2012</td>\n",
              "      <td>29</td>\n",
              "      <td>61</td>\n",
              "      <td>13</td>\n",
              "      <td>1.3</td>\n",
              "      <td>64.4</td>\n",
              "      <td>4.1</td>\n",
              "      <td>7.6</td>\n",
              "      <td>1.0</td>\n",
              "      <td>3.9</td>\n",
              "      <td>0.4</td>\n",
              "      <td>not fire</td>\n",
              "      <td>0</td>\n",
              "    </tr>\n",
              "    <tr>\n",
              "      <th>2</th>\n",
              "      <td>3</td>\n",
              "      <td>6</td>\n",
              "      <td>2012</td>\n",
              "      <td>26</td>\n",
              "      <td>82</td>\n",
              "      <td>22</td>\n",
              "      <td>13.1</td>\n",
              "      <td>47.1</td>\n",
              "      <td>2.5</td>\n",
              "      <td>7.1</td>\n",
              "      <td>0.3</td>\n",
              "      <td>2.7</td>\n",
              "      <td>0.1</td>\n",
              "      <td>not fire</td>\n",
              "      <td>0</td>\n",
              "    </tr>\n",
              "    <tr>\n",
              "      <th>3</th>\n",
              "      <td>4</td>\n",
              "      <td>6</td>\n",
              "      <td>2012</td>\n",
              "      <td>25</td>\n",
              "      <td>89</td>\n",
              "      <td>13</td>\n",
              "      <td>2.5</td>\n",
              "      <td>28.6</td>\n",
              "      <td>1.3</td>\n",
              "      <td>6.9</td>\n",
              "      <td>0.0</td>\n",
              "      <td>1.7</td>\n",
              "      <td>0.0</td>\n",
              "      <td>not fire</td>\n",
              "      <td>0</td>\n",
              "    </tr>\n",
              "    <tr>\n",
              "      <th>4</th>\n",
              "      <td>5</td>\n",
              "      <td>6</td>\n",
              "      <td>2012</td>\n",
              "      <td>27</td>\n",
              "      <td>77</td>\n",
              "      <td>16</td>\n",
              "      <td>0.0</td>\n",
              "      <td>64.8</td>\n",
              "      <td>3.0</td>\n",
              "      <td>14.2</td>\n",
              "      <td>1.2</td>\n",
              "      <td>3.9</td>\n",
              "      <td>0.5</td>\n",
              "      <td>not fire</td>\n",
              "      <td>0</td>\n",
              "    </tr>\n",
              "  </tbody>\n",
              "</table>\n",
              "</div>"
            ],
            "text/plain": [
              "   day  month  year  Temperature  RH  Ws  Rain  FFMC  DMC    DC  ISI  BUI  \\\n",
              "0    1      6  2012           29  57  18   0.0  65.7  3.4   7.6  1.3  3.4   \n",
              "1    2      6  2012           29  61  13   1.3  64.4  4.1   7.6  1.0  3.9   \n",
              "2    3      6  2012           26  82  22  13.1  47.1  2.5   7.1  0.3  2.7   \n",
              "3    4      6  2012           25  89  13   2.5  28.6  1.3   6.9  0.0  1.7   \n",
              "4    5      6  2012           27  77  16   0.0  64.8  3.0  14.2  1.2  3.9   \n",
              "\n",
              "   FWI      Classes  Region  \n",
              "0  0.5  not fire          0  \n",
              "1  0.4  not fire          0  \n",
              "2  0.1  not fire          0  \n",
              "3  0.0  not fire          0  \n",
              "4  0.5  not fire          0  "
            ]
          },
          "execution_count": 3,
          "metadata": {},
          "output_type": "execute_result"
        }
      ],
      "source": [
        "df.head()"
      ]
    },
    {
      "cell_type": "code",
      "execution_count": 5,
      "metadata": {
        "colab": {
          "base_uri": "https://localhost:8080/"
        },
        "id": "ZXt0eBL3h3qq",
        "outputId": "a5f86375-06d1-4e36-d401-fd3c8d03beca"
      },
      "outputs": [
        {
          "name": "stdout",
          "output_type": "stream",
          "text": [
            "<class 'pandas.core.frame.DataFrame'>\n",
            "RangeIndex: 243 entries, 0 to 242\n",
            "Data columns (total 15 columns):\n",
            " #   Column       Non-Null Count  Dtype  \n",
            "---  ------       --------------  -----  \n",
            " 0   day          243 non-null    int64  \n",
            " 1   month        243 non-null    int64  \n",
            " 2   year         243 non-null    int64  \n",
            " 3   Temperature  243 non-null    int64  \n",
            " 4   RH           243 non-null    int64  \n",
            " 5   Ws           243 non-null    int64  \n",
            " 6   Rain         243 non-null    float64\n",
            " 7   FFMC         243 non-null    float64\n",
            " 8   DMC          243 non-null    float64\n",
            " 9   DC           243 non-null    float64\n",
            " 10  ISI          243 non-null    float64\n",
            " 11  BUI          243 non-null    float64\n",
            " 12  FWI          243 non-null    float64\n",
            " 13  Classes      243 non-null    object \n",
            " 14  Region       243 non-null    int64  \n",
            "dtypes: float64(7), int64(7), object(1)\n",
            "memory usage: 28.6+ KB\n"
          ]
        }
      ],
      "source": [
        "df.info()"
      ]
    },
    {
      "cell_type": "code",
      "execution_count": 6,
      "metadata": {
        "colab": {
          "base_uri": "https://localhost:8080/",
          "height": 320
        },
        "id": "EzNNzuGZhorr",
        "outputId": "c14a1c99-e64b-44a7-d1e2-13166d1e7df9"
      },
      "outputs": [
        {
          "data": {
            "application/vnd.google.colaboratory.intrinsic+json": {
              "summary": "{\n  \"name\": \"df\",\n  \"rows\": 8,\n  \"fields\": [\n    {\n      \"column\": \"day\",\n      \"properties\": {\n        \"dtype\": \"number\",\n        \"std\": 81.21385313233063,\n        \"min\": 1.0,\n        \"max\": 243.0,\n        \"num_unique_values\": 8,\n        \"samples\": [\n          15.761316872427983,\n          16.0,\n          243.0\n        ],\n        \"semantic_type\": \"\",\n        \"description\": \"\"\n      }\n    },\n    {\n      \"column\": \"month\",\n      \"properties\": {\n        \"dtype\": \"number\",\n        \"std\": 83.59407325480431,\n        \"min\": 1.1147934085625215,\n        \"max\": 243.0,\n        \"num_unique_values\": 7,\n        \"samples\": [\n          243.0,\n          7.502057613168724,\n          8.0\n        ],\n        \"semantic_type\": \"\",\n        \"description\": \"\"\n      }\n    },\n    {\n      \"column\": \"year\",\n      \"properties\": {\n        \"dtype\": \"number\",\n        \"std\": 877.5379417926694,\n        \"min\": 0.0,\n        \"max\": 2012.0,\n        \"num_unique_values\": 3,\n        \"samples\": [\n          243.0,\n          2012.0,\n          0.0\n        ],\n        \"semantic_type\": \"\",\n        \"description\": \"\"\n      }\n    },\n    {\n      \"column\": \"Temperature\",\n      \"properties\": {\n        \"dtype\": \"number\",\n        \"std\": 76.82734944863492,\n        \"min\": 3.6280394810147514,\n        \"max\": 243.0,\n        \"num_unique_values\": 8,\n        \"samples\": [\n          32.1522633744856,\n          32.0,\n          243.0\n        ],\n        \"semantic_type\": \"\",\n        \"description\": \"\"\n      }\n    },\n    {\n      \"column\": \"RH\",\n      \"properties\": {\n        \"dtype\": \"number\",\n        \"std\": 71.47100646151496,\n        \"min\": 14.828160120227333,\n        \"max\": 243.0,\n        \"num_unique_values\": 8,\n        \"samples\": [\n          62.041152263374485,\n          63.0,\n          243.0\n        ],\n        \"semantic_type\": \"\",\n        \"description\": \"\"\n      }\n    },\n    {\n      \"column\": \"Ws\",\n      \"properties\": {\n        \"dtype\": \"number\",\n        \"std\": 81.27322108342095,\n        \"min\": 2.8113853094929575,\n        \"max\": 243.0,\n        \"num_unique_values\": 8,\n        \"samples\": [\n          15.493827160493828,\n          15.0,\n          243.0\n        ],\n        \"semantic_type\": \"\",\n        \"description\": \"\"\n      }\n    },\n    {\n      \"column\": \"Rain\",\n      \"properties\": {\n        \"dtype\": \"number\",\n        \"std\": 85.0928977572028,\n        \"min\": 0.0,\n        \"max\": 243.0,\n        \"num_unique_values\": 6,\n        \"samples\": [\n          243.0,\n          0.7629629629629628,\n          16.8\n        ],\n        \"semantic_type\": \"\",\n        \"description\": \"\"\n      }\n    },\n    {\n      \"column\": \"FFMC\",\n      \"properties\": {\n        \"dtype\": \"number\",\n        \"std\": 69.10431362711259,\n        \"min\": 14.349641256730104,\n        \"max\": 243.0,\n        \"num_unique_values\": 8,\n        \"samples\": [\n          77.8423868312757,\n          83.3,\n          243.0\n        ],\n        \"semantic_type\": \"\",\n        \"description\": \"\"\n      }\n    },\n    {\n      \"column\": \"DMC\",\n      \"properties\": {\n        \"dtype\": \"number\",\n        \"std\": 81.78123889348205,\n        \"min\": 0.7,\n        \"max\": 243.0,\n        \"num_unique_values\": 8,\n        \"samples\": [\n          14.680658436213994,\n          11.3,\n          243.0\n        ],\n        \"semantic_type\": \"\",\n        \"description\": \"\"\n      }\n    },\n    {\n      \"column\": \"DC\",\n      \"properties\": {\n        \"dtype\": \"number\",\n        \"std\": 92.79759795610563,\n        \"min\": 6.9,\n        \"max\": 243.0,\n        \"num_unique_values\": 8,\n        \"samples\": [\n          49.43086419753086,\n          33.1,\n          243.0\n        ],\n        \"semantic_type\": \"\",\n        \"description\": \"\"\n      }\n    },\n    {\n      \"column\": \"ISI\",\n      \"properties\": {\n        \"dtype\": \"number\",\n        \"std\": 84.09356753716182,\n        \"min\": 0.0,\n        \"max\": 243.0,\n        \"num_unique_values\": 8,\n        \"samples\": [\n          4.742386831275721,\n          3.5,\n          243.0\n        ],\n        \"semantic_type\": \"\",\n        \"description\": \"\"\n      }\n    },\n    {\n      \"column\": \"BUI\",\n      \"properties\": {\n        \"dtype\": \"number\",\n        \"std\": 81.43305229694595,\n        \"min\": 1.1,\n        \"max\": 243.0,\n        \"num_unique_values\": 8,\n        \"samples\": [\n          16.69053497942387,\n          12.4,\n          243.0\n        ],\n        \"semantic_type\": \"\",\n        \"description\": \"\"\n      }\n    },\n    {\n      \"column\": \"FWI\",\n      \"properties\": {\n        \"dtype\": \"number\",\n        \"std\": 83.3647932195695,\n        \"min\": 0.0,\n        \"max\": 243.0,\n        \"num_unique_values\": 8,\n        \"samples\": [\n          7.0353909465020585,\n          4.2,\n          243.0\n        ],\n        \"semantic_type\": \"\",\n        \"description\": \"\"\n      }\n    },\n    {\n      \"column\": \"Region\",\n      \"properties\": {\n        \"dtype\": \"number\",\n        \"std\": 85.76301426594117,\n        \"min\": 0.0,\n        \"max\": 243.0,\n        \"num_unique_values\": 5,\n        \"samples\": [\n          0.49794238683127573,\n          1.0,\n          0.5010277503136549\n        ],\n        \"semantic_type\": \"\",\n        \"description\": \"\"\n      }\n    }\n  ]\n}",
              "type": "dataframe"
            },
            "text/html": [
              "\n",
              "  <div id=\"df-1c8bd50f-fd17-40b6-9f88-e9c616685669\" class=\"colab-df-container\">\n",
              "    <div>\n",
              "<style scoped>\n",
              "    .dataframe tbody tr th:only-of-type {\n",
              "        vertical-align: middle;\n",
              "    }\n",
              "\n",
              "    .dataframe tbody tr th {\n",
              "        vertical-align: top;\n",
              "    }\n",
              "\n",
              "    .dataframe thead th {\n",
              "        text-align: right;\n",
              "    }\n",
              "</style>\n",
              "<table border=\"1\" class=\"dataframe\">\n",
              "  <thead>\n",
              "    <tr style=\"text-align: right;\">\n",
              "      <th></th>\n",
              "      <th>day</th>\n",
              "      <th>month</th>\n",
              "      <th>year</th>\n",
              "      <th>Temperature</th>\n",
              "      <th>RH</th>\n",
              "      <th>Ws</th>\n",
              "      <th>Rain</th>\n",
              "      <th>FFMC</th>\n",
              "      <th>DMC</th>\n",
              "      <th>DC</th>\n",
              "      <th>ISI</th>\n",
              "      <th>BUI</th>\n",
              "      <th>FWI</th>\n",
              "      <th>Region</th>\n",
              "    </tr>\n",
              "  </thead>\n",
              "  <tbody>\n",
              "    <tr>\n",
              "      <th>count</th>\n",
              "      <td>243.000000</td>\n",
              "      <td>243.000000</td>\n",
              "      <td>243.0</td>\n",
              "      <td>243.000000</td>\n",
              "      <td>243.000000</td>\n",
              "      <td>243.000000</td>\n",
              "      <td>243.000000</td>\n",
              "      <td>243.000000</td>\n",
              "      <td>243.000000</td>\n",
              "      <td>243.000000</td>\n",
              "      <td>243.000000</td>\n",
              "      <td>243.000000</td>\n",
              "      <td>243.000000</td>\n",
              "      <td>243.000000</td>\n",
              "    </tr>\n",
              "    <tr>\n",
              "      <th>mean</th>\n",
              "      <td>15.761317</td>\n",
              "      <td>7.502058</td>\n",
              "      <td>2012.0</td>\n",
              "      <td>32.152263</td>\n",
              "      <td>62.041152</td>\n",
              "      <td>15.493827</td>\n",
              "      <td>0.762963</td>\n",
              "      <td>77.842387</td>\n",
              "      <td>14.680658</td>\n",
              "      <td>49.430864</td>\n",
              "      <td>4.742387</td>\n",
              "      <td>16.690535</td>\n",
              "      <td>7.035391</td>\n",
              "      <td>0.497942</td>\n",
              "    </tr>\n",
              "    <tr>\n",
              "      <th>std</th>\n",
              "      <td>8.842552</td>\n",
              "      <td>1.114793</td>\n",
              "      <td>0.0</td>\n",
              "      <td>3.628039</td>\n",
              "      <td>14.828160</td>\n",
              "      <td>2.811385</td>\n",
              "      <td>2.003207</td>\n",
              "      <td>14.349641</td>\n",
              "      <td>12.393040</td>\n",
              "      <td>47.665606</td>\n",
              "      <td>4.154234</td>\n",
              "      <td>14.228421</td>\n",
              "      <td>7.440568</td>\n",
              "      <td>0.501028</td>\n",
              "    </tr>\n",
              "    <tr>\n",
              "      <th>min</th>\n",
              "      <td>1.000000</td>\n",
              "      <td>6.000000</td>\n",
              "      <td>2012.0</td>\n",
              "      <td>22.000000</td>\n",
              "      <td>21.000000</td>\n",
              "      <td>6.000000</td>\n",
              "      <td>0.000000</td>\n",
              "      <td>28.600000</td>\n",
              "      <td>0.700000</td>\n",
              "      <td>6.900000</td>\n",
              "      <td>0.000000</td>\n",
              "      <td>1.100000</td>\n",
              "      <td>0.000000</td>\n",
              "      <td>0.000000</td>\n",
              "    </tr>\n",
              "    <tr>\n",
              "      <th>25%</th>\n",
              "      <td>8.000000</td>\n",
              "      <td>7.000000</td>\n",
              "      <td>2012.0</td>\n",
              "      <td>30.000000</td>\n",
              "      <td>52.500000</td>\n",
              "      <td>14.000000</td>\n",
              "      <td>0.000000</td>\n",
              "      <td>71.850000</td>\n",
              "      <td>5.800000</td>\n",
              "      <td>12.350000</td>\n",
              "      <td>1.400000</td>\n",
              "      <td>6.000000</td>\n",
              "      <td>0.700000</td>\n",
              "      <td>0.000000</td>\n",
              "    </tr>\n",
              "    <tr>\n",
              "      <th>50%</th>\n",
              "      <td>16.000000</td>\n",
              "      <td>8.000000</td>\n",
              "      <td>2012.0</td>\n",
              "      <td>32.000000</td>\n",
              "      <td>63.000000</td>\n",
              "      <td>15.000000</td>\n",
              "      <td>0.000000</td>\n",
              "      <td>83.300000</td>\n",
              "      <td>11.300000</td>\n",
              "      <td>33.100000</td>\n",
              "      <td>3.500000</td>\n",
              "      <td>12.400000</td>\n",
              "      <td>4.200000</td>\n",
              "      <td>0.000000</td>\n",
              "    </tr>\n",
              "    <tr>\n",
              "      <th>75%</th>\n",
              "      <td>23.000000</td>\n",
              "      <td>8.000000</td>\n",
              "      <td>2012.0</td>\n",
              "      <td>35.000000</td>\n",
              "      <td>73.500000</td>\n",
              "      <td>17.000000</td>\n",
              "      <td>0.500000</td>\n",
              "      <td>88.300000</td>\n",
              "      <td>20.800000</td>\n",
              "      <td>69.100000</td>\n",
              "      <td>7.250000</td>\n",
              "      <td>22.650000</td>\n",
              "      <td>11.450000</td>\n",
              "      <td>1.000000</td>\n",
              "    </tr>\n",
              "    <tr>\n",
              "      <th>max</th>\n",
              "      <td>31.000000</td>\n",
              "      <td>9.000000</td>\n",
              "      <td>2012.0</td>\n",
              "      <td>42.000000</td>\n",
              "      <td>90.000000</td>\n",
              "      <td>29.000000</td>\n",
              "      <td>16.800000</td>\n",
              "      <td>96.000000</td>\n",
              "      <td>65.900000</td>\n",
              "      <td>220.400000</td>\n",
              "      <td>19.000000</td>\n",
              "      <td>68.000000</td>\n",
              "      <td>31.100000</td>\n",
              "      <td>1.000000</td>\n",
              "    </tr>\n",
              "  </tbody>\n",
              "</table>\n",
              "</div>\n",
              "    <div class=\"colab-df-buttons\">\n",
              "\n",
              "  <div class=\"colab-df-container\">\n",
              "    <button class=\"colab-df-convert\" onclick=\"convertToInteractive('df-1c8bd50f-fd17-40b6-9f88-e9c616685669')\"\n",
              "            title=\"Convert this dataframe to an interactive table.\"\n",
              "            style=\"display:none;\">\n",
              "\n",
              "  <svg xmlns=\"http://www.w3.org/2000/svg\" height=\"24px\" viewBox=\"0 -960 960 960\">\n",
              "    <path d=\"M120-120v-720h720v720H120Zm60-500h600v-160H180v160Zm220 220h160v-160H400v160Zm0 220h160v-160H400v160ZM180-400h160v-160H180v160Zm440 0h160v-160H620v160ZM180-180h160v-160H180v160Zm440 0h160v-160H620v160Z\"/>\n",
              "  </svg>\n",
              "    </button>\n",
              "\n",
              "  <style>\n",
              "    .colab-df-container {\n",
              "      display:flex;\n",
              "      gap: 12px;\n",
              "    }\n",
              "\n",
              "    .colab-df-convert {\n",
              "      background-color: #E8F0FE;\n",
              "      border: none;\n",
              "      border-radius: 50%;\n",
              "      cursor: pointer;\n",
              "      display: none;\n",
              "      fill: #1967D2;\n",
              "      height: 32px;\n",
              "      padding: 0 0 0 0;\n",
              "      width: 32px;\n",
              "    }\n",
              "\n",
              "    .colab-df-convert:hover {\n",
              "      background-color: #E2EBFA;\n",
              "      box-shadow: 0px 1px 2px rgba(60, 64, 67, 0.3), 0px 1px 3px 1px rgba(60, 64, 67, 0.15);\n",
              "      fill: #174EA6;\n",
              "    }\n",
              "\n",
              "    .colab-df-buttons div {\n",
              "      margin-bottom: 4px;\n",
              "    }\n",
              "\n",
              "    [theme=dark] .colab-df-convert {\n",
              "      background-color: #3B4455;\n",
              "      fill: #D2E3FC;\n",
              "    }\n",
              "\n",
              "    [theme=dark] .colab-df-convert:hover {\n",
              "      background-color: #434B5C;\n",
              "      box-shadow: 0px 1px 3px 1px rgba(0, 0, 0, 0.15);\n",
              "      filter: drop-shadow(0px 1px 2px rgba(0, 0, 0, 0.3));\n",
              "      fill: #FFFFFF;\n",
              "    }\n",
              "  </style>\n",
              "\n",
              "    <script>\n",
              "      const buttonEl =\n",
              "        document.querySelector('#df-1c8bd50f-fd17-40b6-9f88-e9c616685669 button.colab-df-convert');\n",
              "      buttonEl.style.display =\n",
              "        google.colab.kernel.accessAllowed ? 'block' : 'none';\n",
              "\n",
              "      async function convertToInteractive(key) {\n",
              "        const element = document.querySelector('#df-1c8bd50f-fd17-40b6-9f88-e9c616685669');\n",
              "        const dataTable =\n",
              "          await google.colab.kernel.invokeFunction('convertToInteractive',\n",
              "                                                    [key], {});\n",
              "        if (!dataTable) return;\n",
              "\n",
              "        const docLinkHtml = 'Like what you see? Visit the ' +\n",
              "          '<a target=\"_blank\" href=https://colab.research.google.com/notebooks/data_table.ipynb>data table notebook</a>'\n",
              "          + ' to learn more about interactive tables.';\n",
              "        element.innerHTML = '';\n",
              "        dataTable['output_type'] = 'display_data';\n",
              "        await google.colab.output.renderOutput(dataTable, element);\n",
              "        const docLink = document.createElement('div');\n",
              "        docLink.innerHTML = docLinkHtml;\n",
              "        element.appendChild(docLink);\n",
              "      }\n",
              "    </script>\n",
              "  </div>\n",
              "\n",
              "\n",
              "<div id=\"df-f2724d82-accb-474c-8568-e30e6ac65623\">\n",
              "  <button class=\"colab-df-quickchart\" onclick=\"quickchart('df-f2724d82-accb-474c-8568-e30e6ac65623')\"\n",
              "            title=\"Suggest charts\"\n",
              "            style=\"display:none;\">\n",
              "\n",
              "<svg xmlns=\"http://www.w3.org/2000/svg\" height=\"24px\"viewBox=\"0 0 24 24\"\n",
              "     width=\"24px\">\n",
              "    <g>\n",
              "        <path d=\"M19 3H5c-1.1 0-2 .9-2 2v14c0 1.1.9 2 2 2h14c1.1 0 2-.9 2-2V5c0-1.1-.9-2-2-2zM9 17H7v-7h2v7zm4 0h-2V7h2v10zm4 0h-2v-4h2v4z\"/>\n",
              "    </g>\n",
              "</svg>\n",
              "  </button>\n",
              "\n",
              "<style>\n",
              "  .colab-df-quickchart {\n",
              "      --bg-color: #E8F0FE;\n",
              "      --fill-color: #1967D2;\n",
              "      --hover-bg-color: #E2EBFA;\n",
              "      --hover-fill-color: #174EA6;\n",
              "      --disabled-fill-color: #AAA;\n",
              "      --disabled-bg-color: #DDD;\n",
              "  }\n",
              "\n",
              "  [theme=dark] .colab-df-quickchart {\n",
              "      --bg-color: #3B4455;\n",
              "      --fill-color: #D2E3FC;\n",
              "      --hover-bg-color: #434B5C;\n",
              "      --hover-fill-color: #FFFFFF;\n",
              "      --disabled-bg-color: #3B4455;\n",
              "      --disabled-fill-color: #666;\n",
              "  }\n",
              "\n",
              "  .colab-df-quickchart {\n",
              "    background-color: var(--bg-color);\n",
              "    border: none;\n",
              "    border-radius: 50%;\n",
              "    cursor: pointer;\n",
              "    display: none;\n",
              "    fill: var(--fill-color);\n",
              "    height: 32px;\n",
              "    padding: 0;\n",
              "    width: 32px;\n",
              "  }\n",
              "\n",
              "  .colab-df-quickchart:hover {\n",
              "    background-color: var(--hover-bg-color);\n",
              "    box-shadow: 0 1px 2px rgba(60, 64, 67, 0.3), 0 1px 3px 1px rgba(60, 64, 67, 0.15);\n",
              "    fill: var(--button-hover-fill-color);\n",
              "  }\n",
              "\n",
              "  .colab-df-quickchart-complete:disabled,\n",
              "  .colab-df-quickchart-complete:disabled:hover {\n",
              "    background-color: var(--disabled-bg-color);\n",
              "    fill: var(--disabled-fill-color);\n",
              "    box-shadow: none;\n",
              "  }\n",
              "\n",
              "  .colab-df-spinner {\n",
              "    border: 2px solid var(--fill-color);\n",
              "    border-color: transparent;\n",
              "    border-bottom-color: var(--fill-color);\n",
              "    animation:\n",
              "      spin 1s steps(1) infinite;\n",
              "  }\n",
              "\n",
              "  @keyframes spin {\n",
              "    0% {\n",
              "      border-color: transparent;\n",
              "      border-bottom-color: var(--fill-color);\n",
              "      border-left-color: var(--fill-color);\n",
              "    }\n",
              "    20% {\n",
              "      border-color: transparent;\n",
              "      border-left-color: var(--fill-color);\n",
              "      border-top-color: var(--fill-color);\n",
              "    }\n",
              "    30% {\n",
              "      border-color: transparent;\n",
              "      border-left-color: var(--fill-color);\n",
              "      border-top-color: var(--fill-color);\n",
              "      border-right-color: var(--fill-color);\n",
              "    }\n",
              "    40% {\n",
              "      border-color: transparent;\n",
              "      border-right-color: var(--fill-color);\n",
              "      border-top-color: var(--fill-color);\n",
              "    }\n",
              "    60% {\n",
              "      border-color: transparent;\n",
              "      border-right-color: var(--fill-color);\n",
              "    }\n",
              "    80% {\n",
              "      border-color: transparent;\n",
              "      border-right-color: var(--fill-color);\n",
              "      border-bottom-color: var(--fill-color);\n",
              "    }\n",
              "    90% {\n",
              "      border-color: transparent;\n",
              "      border-bottom-color: var(--fill-color);\n",
              "    }\n",
              "  }\n",
              "</style>\n",
              "\n",
              "  <script>\n",
              "    async function quickchart(key) {\n",
              "      const quickchartButtonEl =\n",
              "        document.querySelector('#' + key + ' button');\n",
              "      quickchartButtonEl.disabled = true;  // To prevent multiple clicks.\n",
              "      quickchartButtonEl.classList.add('colab-df-spinner');\n",
              "      try {\n",
              "        const charts = await google.colab.kernel.invokeFunction(\n",
              "            'suggestCharts', [key], {});\n",
              "      } catch (error) {\n",
              "        console.error('Error during call to suggestCharts:', error);\n",
              "      }\n",
              "      quickchartButtonEl.classList.remove('colab-df-spinner');\n",
              "      quickchartButtonEl.classList.add('colab-df-quickchart-complete');\n",
              "    }\n",
              "    (() => {\n",
              "      let quickchartButtonEl =\n",
              "        document.querySelector('#df-f2724d82-accb-474c-8568-e30e6ac65623 button');\n",
              "      quickchartButtonEl.style.display =\n",
              "        google.colab.kernel.accessAllowed ? 'block' : 'none';\n",
              "    })();\n",
              "  </script>\n",
              "</div>\n",
              "\n",
              "    </div>\n",
              "  </div>\n"
            ],
            "text/plain": [
              "              day       month    year  Temperature          RH          Ws  \\\n",
              "count  243.000000  243.000000   243.0   243.000000  243.000000  243.000000   \n",
              "mean    15.761317    7.502058  2012.0    32.152263   62.041152   15.493827   \n",
              "std      8.842552    1.114793     0.0     3.628039   14.828160    2.811385   \n",
              "min      1.000000    6.000000  2012.0    22.000000   21.000000    6.000000   \n",
              "25%      8.000000    7.000000  2012.0    30.000000   52.500000   14.000000   \n",
              "50%     16.000000    8.000000  2012.0    32.000000   63.000000   15.000000   \n",
              "75%     23.000000    8.000000  2012.0    35.000000   73.500000   17.000000   \n",
              "max     31.000000    9.000000  2012.0    42.000000   90.000000   29.000000   \n",
              "\n",
              "             Rain        FFMC         DMC          DC         ISI         BUI  \\\n",
              "count  243.000000  243.000000  243.000000  243.000000  243.000000  243.000000   \n",
              "mean     0.762963   77.842387   14.680658   49.430864    4.742387   16.690535   \n",
              "std      2.003207   14.349641   12.393040   47.665606    4.154234   14.228421   \n",
              "min      0.000000   28.600000    0.700000    6.900000    0.000000    1.100000   \n",
              "25%      0.000000   71.850000    5.800000   12.350000    1.400000    6.000000   \n",
              "50%      0.000000   83.300000   11.300000   33.100000    3.500000   12.400000   \n",
              "75%      0.500000   88.300000   20.800000   69.100000    7.250000   22.650000   \n",
              "max     16.800000   96.000000   65.900000  220.400000   19.000000   68.000000   \n",
              "\n",
              "              FWI      Region  \n",
              "count  243.000000  243.000000  \n",
              "mean     7.035391    0.497942  \n",
              "std      7.440568    0.501028  \n",
              "min      0.000000    0.000000  \n",
              "25%      0.700000    0.000000  \n",
              "50%      4.200000    0.000000  \n",
              "75%     11.450000    1.000000  \n",
              "max     31.100000    1.000000  "
            ]
          },
          "execution_count": 6,
          "metadata": {},
          "output_type": "execute_result"
        }
      ],
      "source": [
        "df.describe()"
      ]
    },
    {
      "cell_type": "code",
      "execution_count": 7,
      "metadata": {
        "colab": {
          "base_uri": "https://localhost:8080/"
        },
        "id": "xO-VEJk5iAHa",
        "outputId": "8090df73-2763-43a2-b838-c239ac233922"
      },
      "outputs": [
        {
          "data": {
            "text/plain": [
              "Index(['day', 'month', 'year', 'Temperature', 'RH', 'Ws', 'Rain', 'FFMC',\n",
              "       'DMC', 'DC', 'ISI', 'BUI', 'FWI', 'Classes', 'Region'],\n",
              "      dtype='object')"
            ]
          },
          "execution_count": 7,
          "metadata": {},
          "output_type": "execute_result"
        }
      ],
      "source": [
        "df.columns"
      ]
    },
    {
      "cell_type": "code",
      "execution_count": 9,
      "metadata": {
        "colab": {
          "base_uri": "https://localhost:8080/"
        },
        "id": "d4BrVEg0hou5",
        "outputId": "72745eaa-3140-4a39-c574-c892f5fd3464"
      },
      "outputs": [
        {
          "data": {
            "text/plain": [
              "day             31\n",
              "month            4\n",
              "year             1\n",
              "Temperature     19\n",
              "RH              62\n",
              "Ws              18\n",
              "Rain            39\n",
              "FFMC           173\n",
              "DMC            165\n",
              "DC             197\n",
              "ISI            106\n",
              "BUI            173\n",
              "FWI            125\n",
              "Classes          8\n",
              "Region           2\n",
              "dtype: int64"
            ]
          },
          "execution_count": 9,
          "metadata": {},
          "output_type": "execute_result"
        }
      ],
      "source": [
        "df.nunique()"
      ]
    },
    {
      "cell_type": "markdown",
      "metadata": {
        "id": "f0-JAOrFiP_w"
      },
      "source": [
        "Data Cleaning"
      ]
    },
    {
      "cell_type": "code",
      "execution_count": 10,
      "metadata": {
        "colab": {
          "base_uri": "https://localhost:8080/"
        },
        "id": "ENZ4aZwDhoxs",
        "outputId": "33f779bf-d43d-4035-9309-99d29c79de6e"
      },
      "outputs": [
        {
          "data": {
            "text/plain": [
              "day            0\n",
              "month          0\n",
              "year           0\n",
              "Temperature    0\n",
              "RH             0\n",
              "Ws             0\n",
              "Rain           0\n",
              "FFMC           0\n",
              "DMC            0\n",
              "DC             0\n",
              "ISI            0\n",
              "BUI            0\n",
              "FWI            0\n",
              "Classes        0\n",
              "Region         0\n",
              "dtype: int64"
            ]
          },
          "execution_count": 10,
          "metadata": {},
          "output_type": "execute_result"
        }
      ],
      "source": [
        "df.isnull().sum()"
      ]
    },
    {
      "cell_type": "code",
      "execution_count": 11,
      "metadata": {
        "colab": {
          "base_uri": "https://localhost:8080/"
        },
        "id": "mBzBJ_xfifpc",
        "outputId": "46903a36-92b2-4132-9111-00988746bac7"
      },
      "outputs": [
        {
          "data": {
            "text/plain": [
              "array(['not fire   ', 'fire   ', 'fire', 'fire ', 'not fire', 'not fire ',\n",
              "       'not fire     ', 'not fire    '], dtype=object)"
            ]
          },
          "execution_count": 11,
          "metadata": {},
          "output_type": "execute_result"
        }
      ],
      "source": [
        "df['Classes'].unique()"
      ]
    },
    {
      "cell_type": "markdown",
      "metadata": {
        "id": "sbnaQak6inNW"
      },
      "source": [
        "Remove extra space fron column Classes"
      ]
    },
    {
      "cell_type": "code",
      "execution_count": 12,
      "metadata": {
        "id": "g5m5_bQyith5"
      },
      "outputs": [],
      "source": [
        "df['Classes'] = df['Classes'].apply(lambda x: x.strip())"
      ]
    },
    {
      "cell_type": "code",
      "execution_count": 13,
      "metadata": {
        "colab": {
          "base_uri": "https://localhost:8080/"
        },
        "id": "-blP6xs3i1Jz",
        "outputId": "0d97dbb5-4ef9-4353-e504-3f28c637caf5"
      },
      "outputs": [
        {
          "data": {
            "text/plain": [
              "array(['not fire', 'fire'], dtype=object)"
            ]
          },
          "execution_count": 13,
          "metadata": {},
          "output_type": "execute_result"
        }
      ],
      "source": [
        "df['Classes'].unique()"
      ]
    },
    {
      "cell_type": "code",
      "execution_count": 14,
      "metadata": {
        "colab": {
          "base_uri": "https://localhost:8080/"
        },
        "id": "Pj8uDO65i7Zp",
        "outputId": "6598dc54-37a6-4d51-eaec-e7cb5802069c"
      },
      "outputs": [
        {
          "data": {
            "text/plain": [
              "Classes\n",
              "fire        137\n",
              "not fire    106\n",
              "Name: count, dtype: int64"
            ]
          },
          "execution_count": 14,
          "metadata": {},
          "output_type": "execute_result"
        }
      ],
      "source": [
        "df['Classes'].value_counts()"
      ]
    },
    {
      "cell_type": "code",
      "execution_count": 15,
      "metadata": {
        "colab": {
          "base_uri": "https://localhost:8080/"
        },
        "id": "LpEtWvw-i_Ad",
        "outputId": "576e3f5d-072e-4717-80cd-b2e80aca205a"
      },
      "outputs": [
        {
          "data": {
            "text/plain": [
              "Region\n",
              "0    122\n",
              "1    121\n",
              "Name: count, dtype: int64"
            ]
          },
          "execution_count": 15,
          "metadata": {},
          "output_type": "execute_result"
        }
      ],
      "source": [
        "df['Region'].value_counts()"
      ]
    },
    {
      "cell_type": "markdown",
      "metadata": {
        "id": "4ZmQ4lMcjFoz"
      },
      "source": [
        "Feature Engineering"
      ]
    },
    {
      "cell_type": "code",
      "execution_count": 16,
      "metadata": {
        "colab": {
          "base_uri": "https://localhost:8080/"
        },
        "id": "WZ6BUFVxjMOJ",
        "outputId": "748f96c3-2a0a-423b-9bf1-e4115644c4c1"
      },
      "outputs": [
        {
          "data": {
            "text/plain": [
              "array([6, 7, 8, 9])"
            ]
          },
          "execution_count": 16,
          "metadata": {},
          "output_type": "execute_result"
        }
      ],
      "source": [
        "df['month'].unique()"
      ]
    },
    {
      "cell_type": "code",
      "execution_count": 17,
      "metadata": {
        "colab": {
          "base_uri": "https://localhost:8080/"
        },
        "id": "Pp0UMCdkjY-3",
        "outputId": "e9764032-b549-45e7-935a-bc59706813b8"
      },
      "outputs": [
        {
          "data": {
            "text/plain": [
              "0      6\n",
              "1      6\n",
              "2      6\n",
              "3      6\n",
              "4      6\n",
              "      ..\n",
              "238    9\n",
              "239    9\n",
              "240    9\n",
              "241    9\n",
              "242    9\n",
              "Name: month, Length: 243, dtype: object"
            ]
          },
          "execution_count": 17,
          "metadata": {},
          "output_type": "execute_result"
        }
      ],
      "source": [
        "df['month'].astype(str)"
      ]
    },
    {
      "cell_type": "code",
      "execution_count": 18,
      "metadata": {
        "id": "XsgWON71jeOg"
      },
      "outputs": [],
      "source": [
        "df['month'] = df['month'].replace({6: 'June', 7: 'July', 8: 'August', 9: 'September'})"
      ]
    },
    {
      "cell_type": "code",
      "execution_count": 19,
      "metadata": {
        "colab": {
          "base_uri": "https://localhost:8080/"
        },
        "id": "zGVyHCTnjkeE",
        "outputId": "dec6e8e9-69f6-4043-d7dd-a7dbb0c33b0f"
      },
      "outputs": [
        {
          "data": {
            "text/plain": [
              "array(['June', 'July', 'August', 'September'], dtype=object)"
            ]
          },
          "execution_count": 19,
          "metadata": {},
          "output_type": "execute_result"
        }
      ],
      "source": [
        "df['month'].unique()"
      ]
    },
    {
      "cell_type": "code",
      "execution_count": 20,
      "metadata": {
        "id": "xBO9nV9sho0U"
      },
      "outputs": [],
      "source": [
        "df.drop(df[['day', 'year']], axis = 1, inplace=True)"
      ]
    },
    {
      "cell_type": "code",
      "execution_count": 21,
      "metadata": {
        "colab": {
          "base_uri": "https://localhost:8080/",
          "height": 206
        },
        "id": "NIV0K3MXho3F",
        "outputId": "26601a0d-5cb7-4be4-977c-bf3ad0d7a716"
      },
      "outputs": [
        {
          "data": {
            "application/vnd.google.colaboratory.intrinsic+json": {
              "summary": "{\n  \"name\": \"df\",\n  \"rows\": 243,\n  \"fields\": [\n    {\n      \"column\": \"month\",\n      \"properties\": {\n        \"dtype\": \"category\",\n        \"num_unique_values\": 4,\n        \"samples\": [\n          \"July\",\n          \"September\",\n          \"June\"\n        ],\n        \"semantic_type\": \"\",\n        \"description\": \"\"\n      }\n    },\n    {\n      \"column\": \"Temperature\",\n      \"properties\": {\n        \"dtype\": \"number\",\n        \"std\": 3,\n        \"min\": 22,\n        \"max\": 42,\n        \"num_unique_values\": 19,\n        \"samples\": [\n          29,\n          33,\n          36\n        ],\n        \"semantic_type\": \"\",\n        \"description\": \"\"\n      }\n    },\n    {\n      \"column\": \"RH\",\n      \"properties\": {\n        \"dtype\": \"number\",\n        \"std\": 14,\n        \"min\": 21,\n        \"max\": 90,\n        \"num_unique_values\": 62,\n        \"samples\": [\n          83,\n          31,\n          57\n        ],\n        \"semantic_type\": \"\",\n        \"description\": \"\"\n      }\n    },\n    {\n      \"column\": \"Ws\",\n      \"properties\": {\n        \"dtype\": \"number\",\n        \"std\": 2,\n        \"min\": 6,\n        \"max\": 29,\n        \"num_unique_values\": 18,\n        \"samples\": [\n          18,\n          13,\n          21\n        ],\n        \"semantic_type\": \"\",\n        \"description\": \"\"\n      }\n    },\n    {\n      \"column\": \"Rain\",\n      \"properties\": {\n        \"dtype\": \"number\",\n        \"std\": 2.003206795506829,\n        \"min\": 0.0,\n        \"max\": 16.8,\n        \"num_unique_values\": 39,\n        \"samples\": [\n          6.0,\n          4.1,\n          0.2\n        ],\n        \"semantic_type\": \"\",\n        \"description\": \"\"\n      }\n    },\n    {\n      \"column\": \"FFMC\",\n      \"properties\": {\n        \"dtype\": \"number\",\n        \"std\": 14.349641256730104,\n        \"min\": 28.6,\n        \"max\": 96.0,\n        \"num_unique_values\": 173,\n        \"samples\": [\n          64.5,\n          72.6,\n          87.7\n        ],\n        \"semantic_type\": \"\",\n        \"description\": \"\"\n      }\n    },\n    {\n      \"column\": \"DMC\",\n      \"properties\": {\n        \"dtype\": \"number\",\n        \"std\": 12.393039751223832,\n        \"min\": 0.7,\n        \"max\": 65.9,\n        \"num_unique_values\": 165,\n        \"samples\": [\n          16.9,\n          18.0,\n          23.6\n        ],\n        \"semantic_type\": \"\",\n        \"description\": \"\"\n      }\n    },\n    {\n      \"column\": \"DC\",\n      \"properties\": {\n        \"dtype\": \"number\",\n        \"std\": 47.66560598458993,\n        \"min\": 6.9,\n        \"max\": 220.4,\n        \"num_unique_values\": 197,\n        \"samples\": [\n          90.1,\n          14.7,\n          27.1\n        ],\n        \"semantic_type\": \"\",\n        \"description\": \"\"\n      }\n    },\n    {\n      \"column\": \"ISI\",\n      \"properties\": {\n        \"dtype\": \"number\",\n        \"std\": 4.154233833368701,\n        \"min\": 0.0,\n        \"max\": 19.0,\n        \"num_unique_values\": 106,\n        \"samples\": [\n          13.1,\n          4.8,\n          1.2\n        ],\n        \"semantic_type\": \"\",\n        \"description\": \"\"\n      }\n    },\n    {\n      \"column\": \"BUI\",\n      \"properties\": {\n        \"dtype\": \"number\",\n        \"std\": 14.228421131468963,\n        \"min\": 1.1,\n        \"max\": 68.0,\n        \"num_unique_values\": 173,\n        \"samples\": [\n          4.6,\n          8.3,\n          7.7\n        ],\n        \"semantic_type\": \"\",\n        \"description\": \"\"\n      }\n    },\n    {\n      \"column\": \"FWI\",\n      \"properties\": {\n        \"dtype\": \"number\",\n        \"std\": 7.440567726345277,\n        \"min\": 0.0,\n        \"max\": 31.1,\n        \"num_unique_values\": 125,\n        \"samples\": [\n          15.0,\n          10.7,\n          2.1\n        ],\n        \"semantic_type\": \"\",\n        \"description\": \"\"\n      }\n    },\n    {\n      \"column\": \"Classes\",\n      \"properties\": {\n        \"dtype\": \"category\",\n        \"num_unique_values\": 2,\n        \"samples\": [\n          \"fire\",\n          \"not fire\"\n        ],\n        \"semantic_type\": \"\",\n        \"description\": \"\"\n      }\n    },\n    {\n      \"column\": \"Region\",\n      \"properties\": {\n        \"dtype\": \"number\",\n        \"std\": 0,\n        \"min\": 0,\n        \"max\": 1,\n        \"num_unique_values\": 2,\n        \"samples\": [\n          1,\n          0\n        ],\n        \"semantic_type\": \"\",\n        \"description\": \"\"\n      }\n    }\n  ]\n}",
              "type": "dataframe",
              "variable_name": "df"
            },
            "text/html": [
              "\n",
              "  <div id=\"df-f37f567d-6e33-4f2b-be68-849fa8a31d35\" class=\"colab-df-container\">\n",
              "    <div>\n",
              "<style scoped>\n",
              "    .dataframe tbody tr th:only-of-type {\n",
              "        vertical-align: middle;\n",
              "    }\n",
              "\n",
              "    .dataframe tbody tr th {\n",
              "        vertical-align: top;\n",
              "    }\n",
              "\n",
              "    .dataframe thead th {\n",
              "        text-align: right;\n",
              "    }\n",
              "</style>\n",
              "<table border=\"1\" class=\"dataframe\">\n",
              "  <thead>\n",
              "    <tr style=\"text-align: right;\">\n",
              "      <th></th>\n",
              "      <th>month</th>\n",
              "      <th>Temperature</th>\n",
              "      <th>RH</th>\n",
              "      <th>Ws</th>\n",
              "      <th>Rain</th>\n",
              "      <th>FFMC</th>\n",
              "      <th>DMC</th>\n",
              "      <th>DC</th>\n",
              "      <th>ISI</th>\n",
              "      <th>BUI</th>\n",
              "      <th>FWI</th>\n",
              "      <th>Classes</th>\n",
              "      <th>Region</th>\n",
              "    </tr>\n",
              "  </thead>\n",
              "  <tbody>\n",
              "    <tr>\n",
              "      <th>0</th>\n",
              "      <td>June</td>\n",
              "      <td>29</td>\n",
              "      <td>57</td>\n",
              "      <td>18</td>\n",
              "      <td>0.0</td>\n",
              "      <td>65.7</td>\n",
              "      <td>3.4</td>\n",
              "      <td>7.6</td>\n",
              "      <td>1.3</td>\n",
              "      <td>3.4</td>\n",
              "      <td>0.5</td>\n",
              "      <td>not fire</td>\n",
              "      <td>0</td>\n",
              "    </tr>\n",
              "    <tr>\n",
              "      <th>1</th>\n",
              "      <td>June</td>\n",
              "      <td>29</td>\n",
              "      <td>61</td>\n",
              "      <td>13</td>\n",
              "      <td>1.3</td>\n",
              "      <td>64.4</td>\n",
              "      <td>4.1</td>\n",
              "      <td>7.6</td>\n",
              "      <td>1.0</td>\n",
              "      <td>3.9</td>\n",
              "      <td>0.4</td>\n",
              "      <td>not fire</td>\n",
              "      <td>0</td>\n",
              "    </tr>\n",
              "    <tr>\n",
              "      <th>2</th>\n",
              "      <td>June</td>\n",
              "      <td>26</td>\n",
              "      <td>82</td>\n",
              "      <td>22</td>\n",
              "      <td>13.1</td>\n",
              "      <td>47.1</td>\n",
              "      <td>2.5</td>\n",
              "      <td>7.1</td>\n",
              "      <td>0.3</td>\n",
              "      <td>2.7</td>\n",
              "      <td>0.1</td>\n",
              "      <td>not fire</td>\n",
              "      <td>0</td>\n",
              "    </tr>\n",
              "    <tr>\n",
              "      <th>3</th>\n",
              "      <td>June</td>\n",
              "      <td>25</td>\n",
              "      <td>89</td>\n",
              "      <td>13</td>\n",
              "      <td>2.5</td>\n",
              "      <td>28.6</td>\n",
              "      <td>1.3</td>\n",
              "      <td>6.9</td>\n",
              "      <td>0.0</td>\n",
              "      <td>1.7</td>\n",
              "      <td>0.0</td>\n",
              "      <td>not fire</td>\n",
              "      <td>0</td>\n",
              "    </tr>\n",
              "    <tr>\n",
              "      <th>4</th>\n",
              "      <td>June</td>\n",
              "      <td>27</td>\n",
              "      <td>77</td>\n",
              "      <td>16</td>\n",
              "      <td>0.0</td>\n",
              "      <td>64.8</td>\n",
              "      <td>3.0</td>\n",
              "      <td>14.2</td>\n",
              "      <td>1.2</td>\n",
              "      <td>3.9</td>\n",
              "      <td>0.5</td>\n",
              "      <td>not fire</td>\n",
              "      <td>0</td>\n",
              "    </tr>\n",
              "  </tbody>\n",
              "</table>\n",
              "</div>\n",
              "    <div class=\"colab-df-buttons\">\n",
              "\n",
              "  <div class=\"colab-df-container\">\n",
              "    <button class=\"colab-df-convert\" onclick=\"convertToInteractive('df-f37f567d-6e33-4f2b-be68-849fa8a31d35')\"\n",
              "            title=\"Convert this dataframe to an interactive table.\"\n",
              "            style=\"display:none;\">\n",
              "\n",
              "  <svg xmlns=\"http://www.w3.org/2000/svg\" height=\"24px\" viewBox=\"0 -960 960 960\">\n",
              "    <path d=\"M120-120v-720h720v720H120Zm60-500h600v-160H180v160Zm220 220h160v-160H400v160Zm0 220h160v-160H400v160ZM180-400h160v-160H180v160Zm440 0h160v-160H620v160ZM180-180h160v-160H180v160Zm440 0h160v-160H620v160Z\"/>\n",
              "  </svg>\n",
              "    </button>\n",
              "\n",
              "  <style>\n",
              "    .colab-df-container {\n",
              "      display:flex;\n",
              "      gap: 12px;\n",
              "    }\n",
              "\n",
              "    .colab-df-convert {\n",
              "      background-color: #E8F0FE;\n",
              "      border: none;\n",
              "      border-radius: 50%;\n",
              "      cursor: pointer;\n",
              "      display: none;\n",
              "      fill: #1967D2;\n",
              "      height: 32px;\n",
              "      padding: 0 0 0 0;\n",
              "      width: 32px;\n",
              "    }\n",
              "\n",
              "    .colab-df-convert:hover {\n",
              "      background-color: #E2EBFA;\n",
              "      box-shadow: 0px 1px 2px rgba(60, 64, 67, 0.3), 0px 1px 3px 1px rgba(60, 64, 67, 0.15);\n",
              "      fill: #174EA6;\n",
              "    }\n",
              "\n",
              "    .colab-df-buttons div {\n",
              "      margin-bottom: 4px;\n",
              "    }\n",
              "\n",
              "    [theme=dark] .colab-df-convert {\n",
              "      background-color: #3B4455;\n",
              "      fill: #D2E3FC;\n",
              "    }\n",
              "\n",
              "    [theme=dark] .colab-df-convert:hover {\n",
              "      background-color: #434B5C;\n",
              "      box-shadow: 0px 1px 3px 1px rgba(0, 0, 0, 0.15);\n",
              "      filter: drop-shadow(0px 1px 2px rgba(0, 0, 0, 0.3));\n",
              "      fill: #FFFFFF;\n",
              "    }\n",
              "  </style>\n",
              "\n",
              "    <script>\n",
              "      const buttonEl =\n",
              "        document.querySelector('#df-f37f567d-6e33-4f2b-be68-849fa8a31d35 button.colab-df-convert');\n",
              "      buttonEl.style.display =\n",
              "        google.colab.kernel.accessAllowed ? 'block' : 'none';\n",
              "\n",
              "      async function convertToInteractive(key) {\n",
              "        const element = document.querySelector('#df-f37f567d-6e33-4f2b-be68-849fa8a31d35');\n",
              "        const dataTable =\n",
              "          await google.colab.kernel.invokeFunction('convertToInteractive',\n",
              "                                                    [key], {});\n",
              "        if (!dataTable) return;\n",
              "\n",
              "        const docLinkHtml = 'Like what you see? Visit the ' +\n",
              "          '<a target=\"_blank\" href=https://colab.research.google.com/notebooks/data_table.ipynb>data table notebook</a>'\n",
              "          + ' to learn more about interactive tables.';\n",
              "        element.innerHTML = '';\n",
              "        dataTable['output_type'] = 'display_data';\n",
              "        await google.colab.output.renderOutput(dataTable, element);\n",
              "        const docLink = document.createElement('div');\n",
              "        docLink.innerHTML = docLinkHtml;\n",
              "        element.appendChild(docLink);\n",
              "      }\n",
              "    </script>\n",
              "  </div>\n",
              "\n",
              "\n",
              "<div id=\"df-28f0f4f5-c879-4fbf-8c05-a76166a806a3\">\n",
              "  <button class=\"colab-df-quickchart\" onclick=\"quickchart('df-28f0f4f5-c879-4fbf-8c05-a76166a806a3')\"\n",
              "            title=\"Suggest charts\"\n",
              "            style=\"display:none;\">\n",
              "\n",
              "<svg xmlns=\"http://www.w3.org/2000/svg\" height=\"24px\"viewBox=\"0 0 24 24\"\n",
              "     width=\"24px\">\n",
              "    <g>\n",
              "        <path d=\"M19 3H5c-1.1 0-2 .9-2 2v14c0 1.1.9 2 2 2h14c1.1 0 2-.9 2-2V5c0-1.1-.9-2-2-2zM9 17H7v-7h2v7zm4 0h-2V7h2v10zm4 0h-2v-4h2v4z\"/>\n",
              "    </g>\n",
              "</svg>\n",
              "  </button>\n",
              "\n",
              "<style>\n",
              "  .colab-df-quickchart {\n",
              "      --bg-color: #E8F0FE;\n",
              "      --fill-color: #1967D2;\n",
              "      --hover-bg-color: #E2EBFA;\n",
              "      --hover-fill-color: #174EA6;\n",
              "      --disabled-fill-color: #AAA;\n",
              "      --disabled-bg-color: #DDD;\n",
              "  }\n",
              "\n",
              "  [theme=dark] .colab-df-quickchart {\n",
              "      --bg-color: #3B4455;\n",
              "      --fill-color: #D2E3FC;\n",
              "      --hover-bg-color: #434B5C;\n",
              "      --hover-fill-color: #FFFFFF;\n",
              "      --disabled-bg-color: #3B4455;\n",
              "      --disabled-fill-color: #666;\n",
              "  }\n",
              "\n",
              "  .colab-df-quickchart {\n",
              "    background-color: var(--bg-color);\n",
              "    border: none;\n",
              "    border-radius: 50%;\n",
              "    cursor: pointer;\n",
              "    display: none;\n",
              "    fill: var(--fill-color);\n",
              "    height: 32px;\n",
              "    padding: 0;\n",
              "    width: 32px;\n",
              "  }\n",
              "\n",
              "  .colab-df-quickchart:hover {\n",
              "    background-color: var(--hover-bg-color);\n",
              "    box-shadow: 0 1px 2px rgba(60, 64, 67, 0.3), 0 1px 3px 1px rgba(60, 64, 67, 0.15);\n",
              "    fill: var(--button-hover-fill-color);\n",
              "  }\n",
              "\n",
              "  .colab-df-quickchart-complete:disabled,\n",
              "  .colab-df-quickchart-complete:disabled:hover {\n",
              "    background-color: var(--disabled-bg-color);\n",
              "    fill: var(--disabled-fill-color);\n",
              "    box-shadow: none;\n",
              "  }\n",
              "\n",
              "  .colab-df-spinner {\n",
              "    border: 2px solid var(--fill-color);\n",
              "    border-color: transparent;\n",
              "    border-bottom-color: var(--fill-color);\n",
              "    animation:\n",
              "      spin 1s steps(1) infinite;\n",
              "  }\n",
              "\n",
              "  @keyframes spin {\n",
              "    0% {\n",
              "      border-color: transparent;\n",
              "      border-bottom-color: var(--fill-color);\n",
              "      border-left-color: var(--fill-color);\n",
              "    }\n",
              "    20% {\n",
              "      border-color: transparent;\n",
              "      border-left-color: var(--fill-color);\n",
              "      border-top-color: var(--fill-color);\n",
              "    }\n",
              "    30% {\n",
              "      border-color: transparent;\n",
              "      border-left-color: var(--fill-color);\n",
              "      border-top-color: var(--fill-color);\n",
              "      border-right-color: var(--fill-color);\n",
              "    }\n",
              "    40% {\n",
              "      border-color: transparent;\n",
              "      border-right-color: var(--fill-color);\n",
              "      border-top-color: var(--fill-color);\n",
              "    }\n",
              "    60% {\n",
              "      border-color: transparent;\n",
              "      border-right-color: var(--fill-color);\n",
              "    }\n",
              "    80% {\n",
              "      border-color: transparent;\n",
              "      border-right-color: var(--fill-color);\n",
              "      border-bottom-color: var(--fill-color);\n",
              "    }\n",
              "    90% {\n",
              "      border-color: transparent;\n",
              "      border-bottom-color: var(--fill-color);\n",
              "    }\n",
              "  }\n",
              "</style>\n",
              "\n",
              "  <script>\n",
              "    async function quickchart(key) {\n",
              "      const quickchartButtonEl =\n",
              "        document.querySelector('#' + key + ' button');\n",
              "      quickchartButtonEl.disabled = true;  // To prevent multiple clicks.\n",
              "      quickchartButtonEl.classList.add('colab-df-spinner');\n",
              "      try {\n",
              "        const charts = await google.colab.kernel.invokeFunction(\n",
              "            'suggestCharts', [key], {});\n",
              "      } catch (error) {\n",
              "        console.error('Error during call to suggestCharts:', error);\n",
              "      }\n",
              "      quickchartButtonEl.classList.remove('colab-df-spinner');\n",
              "      quickchartButtonEl.classList.add('colab-df-quickchart-complete');\n",
              "    }\n",
              "    (() => {\n",
              "      let quickchartButtonEl =\n",
              "        document.querySelector('#df-28f0f4f5-c879-4fbf-8c05-a76166a806a3 button');\n",
              "      quickchartButtonEl.style.display =\n",
              "        google.colab.kernel.accessAllowed ? 'block' : 'none';\n",
              "    })();\n",
              "  </script>\n",
              "</div>\n",
              "\n",
              "    </div>\n",
              "  </div>\n"
            ],
            "text/plain": [
              "  month  Temperature  RH  Ws  Rain  FFMC  DMC    DC  ISI  BUI  FWI   Classes  \\\n",
              "0  June           29  57  18   0.0  65.7  3.4   7.6  1.3  3.4  0.5  not fire   \n",
              "1  June           29  61  13   1.3  64.4  4.1   7.6  1.0  3.9  0.4  not fire   \n",
              "2  June           26  82  22  13.1  47.1  2.5   7.1  0.3  2.7  0.1  not fire   \n",
              "3  June           25  89  13   2.5  28.6  1.3   6.9  0.0  1.7  0.0  not fire   \n",
              "4  June           27  77  16   0.0  64.8  3.0  14.2  1.2  3.9  0.5  not fire   \n",
              "\n",
              "   Region  \n",
              "0       0  \n",
              "1       0  \n",
              "2       0  \n",
              "3       0  \n",
              "4       0  "
            ]
          },
          "execution_count": 21,
          "metadata": {},
          "output_type": "execute_result"
        }
      ],
      "source": [
        "df.head()"
      ]
    },
    {
      "cell_type": "markdown",
      "metadata": {
        "id": "770r0MhukCeM"
      },
      "source": []
    },
    {
      "cell_type": "markdown",
      "metadata": {
        "id": "qRtoe3iB3llO"
      },
      "source": [
        "### **Columns Descriptions**\n",
        "**DC -** The Drought Code is a component of the Canadian Forest Fire Weather Index (FWI) System. It is a numeric rating of the average moisture content of deep, compact organic layers. This code is a useful indicator of seasonal drought effects on forest fuels and the amount of smoldering in deep duff layers and large logs.\n",
        "\n",
        "**DMC -** The Duff Moisture Code (DMC) is a numeric rating of the average moisture content of loosely compacted organic layers of moderate depth. This code gives an indication of fuel consumption in moderate duff layers and medium-size woody material."
      ]
    },
    {
      "cell_type": "code",
      "execution_count": 22,
      "metadata": {
        "id": "uqX-lNbJkEBS"
      },
      "outputs": [],
      "source": [
        "# Rename specific columns\n",
        "df.rename(columns={\n",
        "    'month': 'Months',\n",
        "    'RH': 'Relative_Humidity',\n",
        "    'Ws': 'Wind_speed',\n",
        "    'FFMC': 'Fine_Fuel_Moisture_Code',\n",
        "    'DMC': 'Duff_Moisture_Code',\n",
        "    'DC': 'Drought_Code',\n",
        "    'ISI': 'Initial_Spread_IDX',\n",
        "    'BUI': 'Buildup_IDX',\n",
        "    'FWI': 'Fire_Weather_IDX',\n",
        "    # add other column renames as needed\n",
        "}, inplace=True)"
      ]
    },
    {
      "cell_type": "code",
      "execution_count": 23,
      "metadata": {
        "colab": {
          "base_uri": "https://localhost:8080/",
          "height": 226
        },
        "id": "HJQw3gCmkRKh",
        "outputId": "8b045fc9-f77c-4750-a91e-4d297a618c6b"
      },
      "outputs": [
        {
          "data": {
            "application/vnd.google.colaboratory.intrinsic+json": {
              "summary": "{\n  \"name\": \"df\",\n  \"rows\": 243,\n  \"fields\": [\n    {\n      \"column\": \"Months\",\n      \"properties\": {\n        \"dtype\": \"category\",\n        \"num_unique_values\": 4,\n        \"samples\": [\n          \"July\",\n          \"September\",\n          \"June\"\n        ],\n        \"semantic_type\": \"\",\n        \"description\": \"\"\n      }\n    },\n    {\n      \"column\": \"Temperature\",\n      \"properties\": {\n        \"dtype\": \"number\",\n        \"std\": 3,\n        \"min\": 22,\n        \"max\": 42,\n        \"num_unique_values\": 19,\n        \"samples\": [\n          29,\n          33,\n          36\n        ],\n        \"semantic_type\": \"\",\n        \"description\": \"\"\n      }\n    },\n    {\n      \"column\": \"Relative_Humidity\",\n      \"properties\": {\n        \"dtype\": \"number\",\n        \"std\": 14,\n        \"min\": 21,\n        \"max\": 90,\n        \"num_unique_values\": 62,\n        \"samples\": [\n          83,\n          31,\n          57\n        ],\n        \"semantic_type\": \"\",\n        \"description\": \"\"\n      }\n    },\n    {\n      \"column\": \"Wind_speed\",\n      \"properties\": {\n        \"dtype\": \"number\",\n        \"std\": 2,\n        \"min\": 6,\n        \"max\": 29,\n        \"num_unique_values\": 18,\n        \"samples\": [\n          18,\n          13,\n          21\n        ],\n        \"semantic_type\": \"\",\n        \"description\": \"\"\n      }\n    },\n    {\n      \"column\": \"Rain\",\n      \"properties\": {\n        \"dtype\": \"number\",\n        \"std\": 2.003206795506829,\n        \"min\": 0.0,\n        \"max\": 16.8,\n        \"num_unique_values\": 39,\n        \"samples\": [\n          6.0,\n          4.1,\n          0.2\n        ],\n        \"semantic_type\": \"\",\n        \"description\": \"\"\n      }\n    },\n    {\n      \"column\": \"Fine_Fuel_Moisture_Code\",\n      \"properties\": {\n        \"dtype\": \"number\",\n        \"std\": 14.349641256730104,\n        \"min\": 28.6,\n        \"max\": 96.0,\n        \"num_unique_values\": 173,\n        \"samples\": [\n          64.5,\n          72.6,\n          87.7\n        ],\n        \"semantic_type\": \"\",\n        \"description\": \"\"\n      }\n    },\n    {\n      \"column\": \"Duff_Moisture_Code\",\n      \"properties\": {\n        \"dtype\": \"number\",\n        \"std\": 12.393039751223832,\n        \"min\": 0.7,\n        \"max\": 65.9,\n        \"num_unique_values\": 165,\n        \"samples\": [\n          16.9,\n          18.0,\n          23.6\n        ],\n        \"semantic_type\": \"\",\n        \"description\": \"\"\n      }\n    },\n    {\n      \"column\": \"Drought_Code\",\n      \"properties\": {\n        \"dtype\": \"number\",\n        \"std\": 47.66560598458993,\n        \"min\": 6.9,\n        \"max\": 220.4,\n        \"num_unique_values\": 197,\n        \"samples\": [\n          90.1,\n          14.7,\n          27.1\n        ],\n        \"semantic_type\": \"\",\n        \"description\": \"\"\n      }\n    },\n    {\n      \"column\": \"Initial_Spread_IDX\",\n      \"properties\": {\n        \"dtype\": \"number\",\n        \"std\": 4.154233833368701,\n        \"min\": 0.0,\n        \"max\": 19.0,\n        \"num_unique_values\": 106,\n        \"samples\": [\n          13.1,\n          4.8,\n          1.2\n        ],\n        \"semantic_type\": \"\",\n        \"description\": \"\"\n      }\n    },\n    {\n      \"column\": \"Buildup_IDX\",\n      \"properties\": {\n        \"dtype\": \"number\",\n        \"std\": 14.228421131468963,\n        \"min\": 1.1,\n        \"max\": 68.0,\n        \"num_unique_values\": 173,\n        \"samples\": [\n          4.6,\n          8.3,\n          7.7\n        ],\n        \"semantic_type\": \"\",\n        \"description\": \"\"\n      }\n    },\n    {\n      \"column\": \"Fire_Weather_IDX\",\n      \"properties\": {\n        \"dtype\": \"number\",\n        \"std\": 7.440567726345277,\n        \"min\": 0.0,\n        \"max\": 31.1,\n        \"num_unique_values\": 125,\n        \"samples\": [\n          15.0,\n          10.7,\n          2.1\n        ],\n        \"semantic_type\": \"\",\n        \"description\": \"\"\n      }\n    },\n    {\n      \"column\": \"Classes\",\n      \"properties\": {\n        \"dtype\": \"category\",\n        \"num_unique_values\": 2,\n        \"samples\": [\n          \"fire\",\n          \"not fire\"\n        ],\n        \"semantic_type\": \"\",\n        \"description\": \"\"\n      }\n    },\n    {\n      \"column\": \"Region\",\n      \"properties\": {\n        \"dtype\": \"number\",\n        \"std\": 0,\n        \"min\": 0,\n        \"max\": 1,\n        \"num_unique_values\": 2,\n        \"samples\": [\n          1,\n          0\n        ],\n        \"semantic_type\": \"\",\n        \"description\": \"\"\n      }\n    }\n  ]\n}",
              "type": "dataframe",
              "variable_name": "df"
            },
            "text/html": [
              "\n",
              "  <div id=\"df-f9880fbc-cbf6-4837-8c91-b369fe08ae65\" class=\"colab-df-container\">\n",
              "    <div>\n",
              "<style scoped>\n",
              "    .dataframe tbody tr th:only-of-type {\n",
              "        vertical-align: middle;\n",
              "    }\n",
              "\n",
              "    .dataframe tbody tr th {\n",
              "        vertical-align: top;\n",
              "    }\n",
              "\n",
              "    .dataframe thead th {\n",
              "        text-align: right;\n",
              "    }\n",
              "</style>\n",
              "<table border=\"1\" class=\"dataframe\">\n",
              "  <thead>\n",
              "    <tr style=\"text-align: right;\">\n",
              "      <th></th>\n",
              "      <th>Months</th>\n",
              "      <th>Temperature</th>\n",
              "      <th>Relative_Humidity</th>\n",
              "      <th>Wind_speed</th>\n",
              "      <th>Rain</th>\n",
              "      <th>Fine_Fuel_Moisture_Code</th>\n",
              "      <th>Duff_Moisture_Code</th>\n",
              "      <th>Drought_Code</th>\n",
              "      <th>Initial_Spread_IDX</th>\n",
              "      <th>Buildup_IDX</th>\n",
              "      <th>Fire_Weather_IDX</th>\n",
              "      <th>Classes</th>\n",
              "      <th>Region</th>\n",
              "    </tr>\n",
              "  </thead>\n",
              "  <tbody>\n",
              "    <tr>\n",
              "      <th>0</th>\n",
              "      <td>June</td>\n",
              "      <td>29</td>\n",
              "      <td>57</td>\n",
              "      <td>18</td>\n",
              "      <td>0.0</td>\n",
              "      <td>65.7</td>\n",
              "      <td>3.4</td>\n",
              "      <td>7.6</td>\n",
              "      <td>1.3</td>\n",
              "      <td>3.4</td>\n",
              "      <td>0.5</td>\n",
              "      <td>not fire</td>\n",
              "      <td>0</td>\n",
              "    </tr>\n",
              "    <tr>\n",
              "      <th>1</th>\n",
              "      <td>June</td>\n",
              "      <td>29</td>\n",
              "      <td>61</td>\n",
              "      <td>13</td>\n",
              "      <td>1.3</td>\n",
              "      <td>64.4</td>\n",
              "      <td>4.1</td>\n",
              "      <td>7.6</td>\n",
              "      <td>1.0</td>\n",
              "      <td>3.9</td>\n",
              "      <td>0.4</td>\n",
              "      <td>not fire</td>\n",
              "      <td>0</td>\n",
              "    </tr>\n",
              "    <tr>\n",
              "      <th>2</th>\n",
              "      <td>June</td>\n",
              "      <td>26</td>\n",
              "      <td>82</td>\n",
              "      <td>22</td>\n",
              "      <td>13.1</td>\n",
              "      <td>47.1</td>\n",
              "      <td>2.5</td>\n",
              "      <td>7.1</td>\n",
              "      <td>0.3</td>\n",
              "      <td>2.7</td>\n",
              "      <td>0.1</td>\n",
              "      <td>not fire</td>\n",
              "      <td>0</td>\n",
              "    </tr>\n",
              "    <tr>\n",
              "      <th>3</th>\n",
              "      <td>June</td>\n",
              "      <td>25</td>\n",
              "      <td>89</td>\n",
              "      <td>13</td>\n",
              "      <td>2.5</td>\n",
              "      <td>28.6</td>\n",
              "      <td>1.3</td>\n",
              "      <td>6.9</td>\n",
              "      <td>0.0</td>\n",
              "      <td>1.7</td>\n",
              "      <td>0.0</td>\n",
              "      <td>not fire</td>\n",
              "      <td>0</td>\n",
              "    </tr>\n",
              "    <tr>\n",
              "      <th>4</th>\n",
              "      <td>June</td>\n",
              "      <td>27</td>\n",
              "      <td>77</td>\n",
              "      <td>16</td>\n",
              "      <td>0.0</td>\n",
              "      <td>64.8</td>\n",
              "      <td>3.0</td>\n",
              "      <td>14.2</td>\n",
              "      <td>1.2</td>\n",
              "      <td>3.9</td>\n",
              "      <td>0.5</td>\n",
              "      <td>not fire</td>\n",
              "      <td>0</td>\n",
              "    </tr>\n",
              "  </tbody>\n",
              "</table>\n",
              "</div>\n",
              "    <div class=\"colab-df-buttons\">\n",
              "\n",
              "  <div class=\"colab-df-container\">\n",
              "    <button class=\"colab-df-convert\" onclick=\"convertToInteractive('df-f9880fbc-cbf6-4837-8c91-b369fe08ae65')\"\n",
              "            title=\"Convert this dataframe to an interactive table.\"\n",
              "            style=\"display:none;\">\n",
              "\n",
              "  <svg xmlns=\"http://www.w3.org/2000/svg\" height=\"24px\" viewBox=\"0 -960 960 960\">\n",
              "    <path d=\"M120-120v-720h720v720H120Zm60-500h600v-160H180v160Zm220 220h160v-160H400v160Zm0 220h160v-160H400v160ZM180-400h160v-160H180v160Zm440 0h160v-160H620v160ZM180-180h160v-160H180v160Zm440 0h160v-160H620v160Z\"/>\n",
              "  </svg>\n",
              "    </button>\n",
              "\n",
              "  <style>\n",
              "    .colab-df-container {\n",
              "      display:flex;\n",
              "      gap: 12px;\n",
              "    }\n",
              "\n",
              "    .colab-df-convert {\n",
              "      background-color: #E8F0FE;\n",
              "      border: none;\n",
              "      border-radius: 50%;\n",
              "      cursor: pointer;\n",
              "      display: none;\n",
              "      fill: #1967D2;\n",
              "      height: 32px;\n",
              "      padding: 0 0 0 0;\n",
              "      width: 32px;\n",
              "    }\n",
              "\n",
              "    .colab-df-convert:hover {\n",
              "      background-color: #E2EBFA;\n",
              "      box-shadow: 0px 1px 2px rgba(60, 64, 67, 0.3), 0px 1px 3px 1px rgba(60, 64, 67, 0.15);\n",
              "      fill: #174EA6;\n",
              "    }\n",
              "\n",
              "    .colab-df-buttons div {\n",
              "      margin-bottom: 4px;\n",
              "    }\n",
              "\n",
              "    [theme=dark] .colab-df-convert {\n",
              "      background-color: #3B4455;\n",
              "      fill: #D2E3FC;\n",
              "    }\n",
              "\n",
              "    [theme=dark] .colab-df-convert:hover {\n",
              "      background-color: #434B5C;\n",
              "      box-shadow: 0px 1px 3px 1px rgba(0, 0, 0, 0.15);\n",
              "      filter: drop-shadow(0px 1px 2px rgba(0, 0, 0, 0.3));\n",
              "      fill: #FFFFFF;\n",
              "    }\n",
              "  </style>\n",
              "\n",
              "    <script>\n",
              "      const buttonEl =\n",
              "        document.querySelector('#df-f9880fbc-cbf6-4837-8c91-b369fe08ae65 button.colab-df-convert');\n",
              "      buttonEl.style.display =\n",
              "        google.colab.kernel.accessAllowed ? 'block' : 'none';\n",
              "\n",
              "      async function convertToInteractive(key) {\n",
              "        const element = document.querySelector('#df-f9880fbc-cbf6-4837-8c91-b369fe08ae65');\n",
              "        const dataTable =\n",
              "          await google.colab.kernel.invokeFunction('convertToInteractive',\n",
              "                                                    [key], {});\n",
              "        if (!dataTable) return;\n",
              "\n",
              "        const docLinkHtml = 'Like what you see? Visit the ' +\n",
              "          '<a target=\"_blank\" href=https://colab.research.google.com/notebooks/data_table.ipynb>data table notebook</a>'\n",
              "          + ' to learn more about interactive tables.';\n",
              "        element.innerHTML = '';\n",
              "        dataTable['output_type'] = 'display_data';\n",
              "        await google.colab.output.renderOutput(dataTable, element);\n",
              "        const docLink = document.createElement('div');\n",
              "        docLink.innerHTML = docLinkHtml;\n",
              "        element.appendChild(docLink);\n",
              "      }\n",
              "    </script>\n",
              "  </div>\n",
              "\n",
              "\n",
              "<div id=\"df-53315126-5173-4e66-9310-809f5f4519b4\">\n",
              "  <button class=\"colab-df-quickchart\" onclick=\"quickchart('df-53315126-5173-4e66-9310-809f5f4519b4')\"\n",
              "            title=\"Suggest charts\"\n",
              "            style=\"display:none;\">\n",
              "\n",
              "<svg xmlns=\"http://www.w3.org/2000/svg\" height=\"24px\"viewBox=\"0 0 24 24\"\n",
              "     width=\"24px\">\n",
              "    <g>\n",
              "        <path d=\"M19 3H5c-1.1 0-2 .9-2 2v14c0 1.1.9 2 2 2h14c1.1 0 2-.9 2-2V5c0-1.1-.9-2-2-2zM9 17H7v-7h2v7zm4 0h-2V7h2v10zm4 0h-2v-4h2v4z\"/>\n",
              "    </g>\n",
              "</svg>\n",
              "  </button>\n",
              "\n",
              "<style>\n",
              "  .colab-df-quickchart {\n",
              "      --bg-color: #E8F0FE;\n",
              "      --fill-color: #1967D2;\n",
              "      --hover-bg-color: #E2EBFA;\n",
              "      --hover-fill-color: #174EA6;\n",
              "      --disabled-fill-color: #AAA;\n",
              "      --disabled-bg-color: #DDD;\n",
              "  }\n",
              "\n",
              "  [theme=dark] .colab-df-quickchart {\n",
              "      --bg-color: #3B4455;\n",
              "      --fill-color: #D2E3FC;\n",
              "      --hover-bg-color: #434B5C;\n",
              "      --hover-fill-color: #FFFFFF;\n",
              "      --disabled-bg-color: #3B4455;\n",
              "      --disabled-fill-color: #666;\n",
              "  }\n",
              "\n",
              "  .colab-df-quickchart {\n",
              "    background-color: var(--bg-color);\n",
              "    border: none;\n",
              "    border-radius: 50%;\n",
              "    cursor: pointer;\n",
              "    display: none;\n",
              "    fill: var(--fill-color);\n",
              "    height: 32px;\n",
              "    padding: 0;\n",
              "    width: 32px;\n",
              "  }\n",
              "\n",
              "  .colab-df-quickchart:hover {\n",
              "    background-color: var(--hover-bg-color);\n",
              "    box-shadow: 0 1px 2px rgba(60, 64, 67, 0.3), 0 1px 3px 1px rgba(60, 64, 67, 0.15);\n",
              "    fill: var(--button-hover-fill-color);\n",
              "  }\n",
              "\n",
              "  .colab-df-quickchart-complete:disabled,\n",
              "  .colab-df-quickchart-complete:disabled:hover {\n",
              "    background-color: var(--disabled-bg-color);\n",
              "    fill: var(--disabled-fill-color);\n",
              "    box-shadow: none;\n",
              "  }\n",
              "\n",
              "  .colab-df-spinner {\n",
              "    border: 2px solid var(--fill-color);\n",
              "    border-color: transparent;\n",
              "    border-bottom-color: var(--fill-color);\n",
              "    animation:\n",
              "      spin 1s steps(1) infinite;\n",
              "  }\n",
              "\n",
              "  @keyframes spin {\n",
              "    0% {\n",
              "      border-color: transparent;\n",
              "      border-bottom-color: var(--fill-color);\n",
              "      border-left-color: var(--fill-color);\n",
              "    }\n",
              "    20% {\n",
              "      border-color: transparent;\n",
              "      border-left-color: var(--fill-color);\n",
              "      border-top-color: var(--fill-color);\n",
              "    }\n",
              "    30% {\n",
              "      border-color: transparent;\n",
              "      border-left-color: var(--fill-color);\n",
              "      border-top-color: var(--fill-color);\n",
              "      border-right-color: var(--fill-color);\n",
              "    }\n",
              "    40% {\n",
              "      border-color: transparent;\n",
              "      border-right-color: var(--fill-color);\n",
              "      border-top-color: var(--fill-color);\n",
              "    }\n",
              "    60% {\n",
              "      border-color: transparent;\n",
              "      border-right-color: var(--fill-color);\n",
              "    }\n",
              "    80% {\n",
              "      border-color: transparent;\n",
              "      border-right-color: var(--fill-color);\n",
              "      border-bottom-color: var(--fill-color);\n",
              "    }\n",
              "    90% {\n",
              "      border-color: transparent;\n",
              "      border-bottom-color: var(--fill-color);\n",
              "    }\n",
              "  }\n",
              "</style>\n",
              "\n",
              "  <script>\n",
              "    async function quickchart(key) {\n",
              "      const quickchartButtonEl =\n",
              "        document.querySelector('#' + key + ' button');\n",
              "      quickchartButtonEl.disabled = true;  // To prevent multiple clicks.\n",
              "      quickchartButtonEl.classList.add('colab-df-spinner');\n",
              "      try {\n",
              "        const charts = await google.colab.kernel.invokeFunction(\n",
              "            'suggestCharts', [key], {});\n",
              "      } catch (error) {\n",
              "        console.error('Error during call to suggestCharts:', error);\n",
              "      }\n",
              "      quickchartButtonEl.classList.remove('colab-df-spinner');\n",
              "      quickchartButtonEl.classList.add('colab-df-quickchart-complete');\n",
              "    }\n",
              "    (() => {\n",
              "      let quickchartButtonEl =\n",
              "        document.querySelector('#df-53315126-5173-4e66-9310-809f5f4519b4 button');\n",
              "      quickchartButtonEl.style.display =\n",
              "        google.colab.kernel.accessAllowed ? 'block' : 'none';\n",
              "    })();\n",
              "  </script>\n",
              "</div>\n",
              "\n",
              "    </div>\n",
              "  </div>\n"
            ],
            "text/plain": [
              "  Months  Temperature  Relative_Humidity  Wind_speed  Rain  \\\n",
              "0   June           29                 57          18   0.0   \n",
              "1   June           29                 61          13   1.3   \n",
              "2   June           26                 82          22  13.1   \n",
              "3   June           25                 89          13   2.5   \n",
              "4   June           27                 77          16   0.0   \n",
              "\n",
              "   Fine_Fuel_Moisture_Code  Duff_Moisture_Code  Drought_Code  \\\n",
              "0                     65.7                 3.4           7.6   \n",
              "1                     64.4                 4.1           7.6   \n",
              "2                     47.1                 2.5           7.1   \n",
              "3                     28.6                 1.3           6.9   \n",
              "4                     64.8                 3.0          14.2   \n",
              "\n",
              "   Initial_Spread_IDX  Buildup_IDX  Fire_Weather_IDX   Classes  Region  \n",
              "0                 1.3          3.4               0.5  not fire       0  \n",
              "1                 1.0          3.9               0.4  not fire       0  \n",
              "2                 0.3          2.7               0.1  not fire       0  \n",
              "3                 0.0          1.7               0.0  not fire       0  \n",
              "4                 1.2          3.9               0.5  not fire       0  "
            ]
          },
          "execution_count": 23,
          "metadata": {},
          "output_type": "execute_result"
        }
      ],
      "source": [
        "df.head()"
      ]
    },
    {
      "cell_type": "markdown",
      "metadata": {
        "id": "F06rASVzklfB"
      },
      "source": []
    },
    {
      "cell_type": "markdown",
      "metadata": {
        "id": "6yz32Yswxo8R"
      },
      "source": [
        "# **Visualizations**\n",
        "\n",
        "\n",
        "1.   Histogram of Features\n",
        "2.   PieChart of Categorical column 'Classes'\n",
        "3.   FWI System Components Report\n",
        "2.   Fire Danger Indices (FFMC, DMC, DC)\n",
        "\n",
        "\n",
        "\n"
      ]
    },
    {
      "cell_type": "code",
      "execution_count": 24,
      "metadata": {
        "colab": {
          "base_uri": "https://localhost:8080/",
          "height": 764
        },
        "id": "tQthj0J6kajL",
        "outputId": "395bc80b-30f5-46ce-8ee1-264cb75819a2"
      },
      "outputs": [
        {
          "data": {
            "image/png": "[encoded data removed]",
            "text/plain": [
              "<Figure size 1500x1000 with 12 Axes>"
            ]
          },
          "metadata": {},
          "output_type": "display_data"
        }
      ],
      "source": [
        "# Histogram of different features\n",
        "\n",
        "df.hist(bins = 50, figsize=(15,10))\n",
        "plt.show()"
      ]
    },
    {
      "cell_type": "markdown",
      "metadata": {
        "id": "pESO1bhek4Xf"
      },
      "source": []
    },
    {
      "cell_type": "markdown",
      "metadata": {
        "id": "HdqjjEow5grJ"
      },
      "source": [
        "## ***Observation:***\n",
        "We can see the respected distribution and its impact on the count of fire."
      ]
    },
    {
      "cell_type": "markdown",
      "metadata": {
        "id": "0RzI2jsik_Ii"
      },
      "source": []
    },
    {
      "cell_type": "markdown",
      "metadata": {
        "id": "2R3O_GLV9AMz"
      },
      "source": [
        "***2.   PieChart of Categorical column*** **'Classes'**"
      ]
    },
    {
      "cell_type": "code",
      "execution_count": 25,
      "metadata": {
        "colab": {
          "base_uri": "https://localhost:8080/"
        },
        "id": "9O7kjvYikxjE",
        "outputId": "70bc5686-27b2-4d9c-f8a7-8db60ae8359d"
      },
      "outputs": [
        {
          "data": {
            "text/plain": [
              "Classes\n",
              "fire        0.563786\n",
              "not fire    0.436214\n",
              "Name: proportion, dtype: float64"
            ]
          },
          "execution_count": 25,
          "metadata": {},
          "output_type": "execute_result"
        }
      ],
      "source": [
        "# Analysis of Class column using PieChart\n",
        "\n",
        "class_percent = df['Classes'].value_counts(normalize=True)\n",
        "class_percent"
      ]
    },
    {
      "cell_type": "code",
      "execution_count": 26,
      "metadata": {
        "colab": {
          "base_uri": "https://localhost:8080/",
          "height": 529
        },
        "id": "BOQYtXwwlNit",
        "outputId": "8bb36411-e78e-494c-b8ad-a70be618dd57"
      },
      "outputs": [
        {
          "data": {
            "image/png": "[encoded data removed]",
            "text/plain": [
              "<Figure size 800x600 with 1 Axes>"
            ]
          },
          "metadata": {},
          "output_type": "display_data"
        }
      ],
      "source": [
        "classes_labels = [\"Fire\", \"No Fire\"]\n",
        "plt.figure(figsize =(8,6))\n",
        "\n",
        "colors = ['lightcoral', 'yellowgreen']\n",
        "\n",
        "plt.pie(class_percent,labels = classes_labels, colors=colors, autopct='%1.2f%%')\n",
        "plt.title (\"Percentage of Classes\", fontsize = 20, color='darkblue')\n",
        "plt.show()"
      ]
    },
    {
      "cell_type": "markdown",
      "metadata": {
        "id": "4tf6tGBWlPZa"
      },
      "source": []
    },
    {
      "cell_type": "markdown",
      "metadata": {
        "id": "5Pff8TpS8PSt"
      },
      "source": [
        "## ***Observation:***\n",
        "We can see the percentage of fire is 56.4% in the whole data set (both region )"
      ]
    },
    {
      "cell_type": "markdown",
      "metadata": {
        "id": "6vn7mm0qlbFS"
      },
      "source": []
    },
    {
      "cell_type": "markdown",
      "metadata": {
        "id": "jxh_0vgb88U7"
      },
      "source": [
        "***3.   Forest Fire Weather Index (FWI) Components Report***"
      ]
    },
    {
      "cell_type": "code",
      "execution_count": 27,
      "metadata": {
        "colab": {
          "base_uri": "https://localhost:8080/",
          "height": 1000
        },
        "id": "xi5f_e14lcI7",
        "outputId": "b3a4c676-3988-4c32-9026-e621661bb3cb"
      },
      "outputs": [
        {
          "data": {
            "image/png": "[encoded data removed]",
            "text/plain": [
              "<Figure size 640x480 with 1 Axes>"
            ]
          },
          "metadata": {},
          "output_type": "display_data"
        },
        {
          "data": {
            "image/png": "[encoded data removed]",
            "text/plain": [
              "<Figure size 640x480 with 1 Axes>"
            ]
          },
          "metadata": {},
          "output_type": "display_data"
        },
        {
          "data": {
            "image/png": "[encoded data removed]",
            "text/plain": [
              "<Figure size 640x480 with 1 Axes>"
            ]
          },
          "metadata": {},
          "output_type": "display_data"
        },
        {
          "data": {
            "image/png": "[encoded data removed]",
            "text/plain": [
              "<Figure size 640x480 with 1 Axes>"
            ]
          },
          "metadata": {},
          "output_type": "display_data"
        },
        {
          "data": {
            "image/png": "[encoded data removed]",
            "text/plain": [
              "<Figure size 640x480 with 1 Axes>"
            ]
          },
          "metadata": {},
          "output_type": "display_data"
        },
        {
          "data": {
            "image/png": "[encoded data removed]",
            "text/plain": [
              "<Figure size 640x480 with 1 Axes>"
            ]
          },
          "metadata": {},
          "output_type": "display_data"
        },
        {
          "data": {
            "image/png": "[encoded data removed]",
            "text/plain": [
              "<Figure size 640x480 with 1 Axes>"
            ]
          },
          "metadata": {},
          "output_type": "display_data"
        },
        {
          "data": {
            "image/png": "[encoded data removed]",
            "text/plain": [
              "<Figure size 640x480 with 1 Axes>"
            ]
          },
          "metadata": {},
          "output_type": "display_data"
        }
      ],
      "source": [
        "# Use Fine_Fuel_Moisture_Code (FFMC), Duff_Moisture_Code (DMC), Drought_Code (DC), Buildup_IDX (BUI), Initial_Spread_IDX (ISI) columns\n",
        "\n",
        "df_FWI = df.drop(['Temperature', 'Relative_Humidity', 'Wind_speed', 'Rain', 'Region'], axis=1)\n",
        "for feature in df_FWI:\n",
        "    sns.histplot(data = df_FWI, x = feature, hue = 'Classes')\n",
        "    plt.legend(labels=['Fire','Not Fire'])\n",
        "    plt.title(feature)\n",
        "    plt.show()"
      ]
    },
    {
      "cell_type": "markdown",
      "metadata": {
        "id": "vpyNLN7klrD9"
      },
      "source": []
    },
    {
      "cell_type": "markdown",
      "metadata": {
        "id": "Nl2mhqKPASaC"
      },
      "source": [
        "***Observations:***\n",
        "\n",
        "1.   Fine Fuel Moisture Code (FFMC) index which ranges between 28.6 to 96,\n",
        "here above 75 has higher chance of Forest fires.\n",
        "\n",
        "2.   Duff Moisture Code (DMC) index which ranges between 0.7 to 65.9,\n",
        "here 1.1-10 has lower chance of Forest fires whereas above 10-30 DMC has very high evidence of Forest fires in past.\n",
        "\n",
        "3. Drought Code (DC) index which ranges between 6.9 to 220.4,\n",
        "here 0-25 is safe and has lower chance of Forest fires whereas range above 25 DC has higher chance of forest fires.\n",
        "\n",
        "4. Initial Spread Index (ISI) index which ranges between 0 to 19,\n",
        "here 0-3 has lower Forest fires and above 3 ISI has higher chance of Forest fires.\n",
        "\n",
        "5. Buildup Index (BUI) index which ranges between 1.1 to 68,\n",
        "here 1.1 to 10 has lower Forest fire chance and above 10 BUI has higher chance of forest fires.\n",
        "\n",
        "6. Fire Weather Index (FWI) Index which ranges between 0 to 31.1,\n",
        "here 0-3 has lower chance of Forest fires and 3-25 FWI has higher chance of forest fires."
      ]
    },
    {
      "cell_type": "code",
      "execution_count": 28,
      "metadata": {
        "colab": {
          "base_uri": "https://localhost:8080/",
          "height": 569
        },
        "id": "ALtEDPojl17s",
        "outputId": "b5721569-a71b-4346-f347-1875bf220af2"
      },
      "outputs": [
        {
          "data": {
            "image/png": "[encoded data removed]",
            "text/plain": [
              "<Figure size 1000x600 with 1 Axes>"
            ]
          },
          "metadata": {},
          "output_type": "display_data"
        }
      ],
      "source": [
        "dftemp= df.loc[df['Region']== 1]\n",
        "plt.subplots(figsize=(10,6))\n",
        "sns.countplot(x='Months', hue='Classes', data= dftemp)\n",
        "plt.title('Fire Analysis Month wise for Sidi-Bel Abbes Region', fontsize=18, weight='bold')\n",
        "plt.ylabel('Count', weight = 'bold')\n",
        "plt.xlabel('Months', weight= 'bold')\n",
        "plt.legend(loc='upper right')\n",
        "plt.show()"
      ]
    },
    {
      "cell_type": "markdown",
      "metadata": {
        "id": "tUcwgGr7l9SY"
      },
      "source": []
    },
    {
      "cell_type": "markdown",
      "metadata": {
        "id": "J0966Ej3Pk8D"
      },
      "source": [
        "***Observation:***\n",
        "\n",
        "1. Its observed that July and August had the most number of forest fires for Sidi-Bel Abbes Region.\n",
        "\n",
        "2. Most of the fires happened in August.\n",
        "\n",
        "3. Less Fires was on June"
      ]
    },
    {
      "cell_type": "code",
      "execution_count": 29,
      "metadata": {
        "colab": {
          "base_uri": "https://localhost:8080/",
          "height": 857
        },
        "id": "YAE8YWS5l-Ir",
        "outputId": "a0580db5-63a5-4e7c-ae15-5905037419ac"
      },
      "outputs": [
        {
          "data": {
            "image/png": "[encoded data removed]",
            "text/plain": [
              "<Figure size 1000x800 with 2 Axes>"
            ]
          },
          "metadata": {},
          "output_type": "display_data"
        }
      ],
      "source": [
        "df_corr = df.drop(['Months', 'Classes'], axis=1, inplace=False)\n",
        "correlation = df_corr.corr()\n",
        "\n",
        "plt.figure(figsize=(10, 8))\n",
        "\n",
        "sns.heatmap(correlation, annot=True, cmap='coolwarm', linewidths=0.5)\n",
        "plt.title('Correlation Matrix Heatmap of Algerian Forest Fire Dataset')\n",
        "plt.show()"
      ]
    },
    {
      "cell_type": "markdown",
      "metadata": {
        "id": "9ak4zo2wmM5a"
      },
      "source": []
    },
    {
      "cell_type": "markdown",
      "metadata": {
        "id": "HWHn1IJRRkBA"
      },
      "source": [
        "***Observation:***\n",
        "\n",
        "1. We can see that there few features like BUI and DMC which is highly correlated."
      ]
    },
    {
      "cell_type": "markdown",
      "metadata": {
        "id": "61OvKiT5mRmS"
      },
      "source": []
    },
    {
      "cell_type": "markdown",
      "metadata": {
        "id": "r7Q5AHytTqAO"
      },
      "source": [
        "# **Model Development and Analysis**\n",
        "\n",
        "1. Regression\n",
        "*   Linear Regression\n",
        "*   Polynomial Regression\n",
        "\n",
        "2. Regulaization Techniques\n",
        "*   Lasso\n",
        "*   Ridge\n",
        "*   ElasticNet\n",
        "\n",
        "3. Cross-validation and Yyperparameter tuning"
      ]
    },
    {
      "cell_type": "code",
      "execution_count": 30,
      "metadata": {
        "id": "s8hIUolIdjkG"
      },
      "outputs": [],
      "source": [
        "encoder = LabelEncoder()\n",
        "df['Classes'] = encoder.fit_transform(df['Classes'])"
      ]
    },
    {
      "cell_type": "code",
      "execution_count": 31,
      "metadata": {
        "id": "3S2YRcJL7Lin"
      },
      "outputs": [],
      "source": [
        "X = df.drop('Fire_Weather_IDX', axis=1)\n",
        "y = df['Fire_Weather_IDX']"
      ]
    },
    {
      "cell_type": "code",
      "execution_count": 32,
      "metadata": {
        "id": "0tq0FybWmkFK"
      },
      "outputs": [],
      "source": [
        "num_col = X.drop(['Classes', 'Region', 'Months'], axis=1)\n",
        "cat_col = X[['Classes', 'Region']]"
      ]
    },
    {
      "cell_type": "code",
      "execution_count": 33,
      "metadata": {
        "id": "jV6KIH6gmoGu"
      },
      "outputs": [],
      "source": [
        "sc = StandardScaler()\n",
        "df_sc = sc.fit_transform(num_col)\n",
        "df_sc_1 = pd.DataFrame(df_sc, columns = num_col.columns)"
      ]
    },
    {
      "cell_type": "code",
      "execution_count": 34,
      "metadata": {
        "colab": {
          "base_uri": "https://localhost:8080/",
          "height": 443
        },
        "id": "3juZ2ej3msd0",
        "outputId": "b7b7095f-b43c-4a2d-f288-db7c4b64ed38"
      },
      "outputs": [
        {
          "data": {
            "application/vnd.google.colaboratory.intrinsic+json": {
              "summary": "{\n  \"name\": \"final_df\",\n  \"rows\": 243,\n  \"fields\": [\n    {\n      \"column\": \"Temperature\",\n      \"properties\": {\n        \"dtype\": \"number\",\n        \"std\": 1.0020639856840274,\n        \"min\": -2.8040536918042567,\n        \"max\": 2.719943447299385,\n        \"num_unique_values\": 19,\n        \"samples\": [\n          -0.8706546931179822,\n          0.2341447347027462,\n          1.0627443055682924\n        ],\n        \"semantic_type\": \"\",\n        \"description\": \"\"\n      }\n    },\n    {\n      \"column\": \"Relative_Humidity\",\n      \"properties\": {\n        \"dtype\": \"number\",\n        \"std\": 1.0020639856840274,\n        \"min\": -2.7734972026638443,\n        \"max\": 1.8894154211268583,\n        \"num_unique_values\": 62,\n        \"samples\": [\n          1.4163663143654828,\n          -2.097712764433308,\n          -0.34067322503391245\n        ],\n        \"semantic_type\": \"\",\n        \"description\": \"\"\n      }\n    },\n    {\n      \"column\": \"Wind_speed\",\n      \"properties\": {\n        \"dtype\": \"number\",\n        \"std\": 1.0020639856840274,\n        \"min\": -3.3838912979009246,\n        \"max\": 4.814014408197154,\n        \"num_unique_values\": 18,\n        \"samples\": [\n          0.8932768965850293,\n          -0.8888765177841181,\n          1.9625689452065178\n        ],\n        \"semantic_type\": \"\",\n        \"description\": \"\"\n      }\n    },\n    {\n      \"column\": \"Rain\",\n      \"properties\": {\n        \"dtype\": \"number\",\n        \"std\": 1.0020639856840274,\n        \"min\": -0.38165690597236956,\n        \"max\": 8.022205839127963,\n        \"num_unique_values\": 39,\n        \"samples\": [\n          2.619722645849178,\n          1.6692857877723544,\n          -0.2816109209116513\n        ],\n        \"semantic_type\": \"\",\n        \"description\": \"\"\n      }\n    },\n    {\n      \"column\": \"Fine_Fuel_Moisture_Code\",\n      \"properties\": {\n        \"dtype\": \"number\",\n        \"std\": 1.0020639856840274,\n        \"min\": -3.438693799372861,\n        \"max\": 1.2679822371048475,\n        \"num_unique_values\": 173,\n        \"samples\": [\n          -0.9317254060560994,\n          -0.36608629781471347,\n          0.688376731129106\n        ],\n        \"semantic_type\": \"\",\n        \"description\": \"\"\n      }\n    },\n    {\n      \"column\": \"Duff_Moisture_Code\",\n      \"properties\": {\n        \"dtype\": \"number\",\n        \"std\": 1.0020639856840274,\n        \"min\": -1.1304340659196348,\n        \"max\": 4.141442178982,\n        \"num_unique_values\": 165,\n        \"samples\": [\n          0.17944929554365466,\n          0.26839199292696453,\n          0.7211911796056326\n        ],\n        \"semantic_type\": \"\",\n        \"description\": \"\"\n      }\n    },\n    {\n      \"column\": \"Drought_Code\",\n      \"properties\": {\n        \"dtype\": \"number\",\n        \"std\": 1.0020639856840274,\n        \"min\": -0.8941173916081605,\n        \"max\": 3.5942480980219487,\n        \"num_unique_values\": 197,\n        \"samples\": [\n          0.8549786680509732,\n          -0.7301396360151168,\n          -0.46945705020053424\n        ],\n        \"semantic_type\": \"\",\n        \"description\": \"\"\n      }\n    },\n    {\n      \"column\": \"Initial_Spread_IDX\",\n      \"properties\": {\n        \"dtype\": \"number\",\n        \"std\": 1.0020639856840272,\n        \"min\": -1.143935377838377,\n        \"max\": 3.4391517789472754,\n        \"num_unique_values\": 106,\n        \"samples\": [\n          2.0159826092085726,\n          0.013897167033787763,\n          -0.8544772416203358\n        ],\n        \"semantic_type\": \"\",\n        \"description\": \"\"\n      }\n    },\n    {\n      \"column\": \"Buildup_IDX\",\n      \"properties\": {\n        \"dtype\": \"number\",\n        \"std\": 1.0020639856840277,\n        \"min\": -1.097993479113084,\n        \"max\": 3.613567981068431,\n        \"num_unique_values\": 173,\n        \"samples\": [\n          -0.8514992323173396,\n          -0.5909195999904097,\n          -0.633175756583966\n        ],\n        \"semantic_type\": \"\",\n        \"description\": \"\"\n      }\n    },\n    {\n      \"column\": \"Classes\",\n      \"properties\": {\n        \"dtype\": \"number\",\n        \"std\": 0,\n        \"min\": 0,\n        \"max\": 1,\n        \"num_unique_values\": 2,\n        \"samples\": [\n          0,\n          1\n        ],\n        \"semantic_type\": \"\",\n        \"description\": \"\"\n      }\n    },\n    {\n      \"column\": \"Region\",\n      \"properties\": {\n        \"dtype\": \"number\",\n        \"std\": 0,\n        \"min\": 0,\n        \"max\": 1,\n        \"num_unique_values\": 2,\n        \"samples\": [\n          1,\n          0\n        ],\n        \"semantic_type\": \"\",\n        \"description\": \"\"\n      }\n    }\n  ]\n}",
              "type": "dataframe",
              "variable_name": "final_df"
            },
            "text/html": [
              "\n",
              "  <div id=\"df-ec59a132-38ca-4ccc-8a7b-335f37c410bb\" class=\"colab-df-container\">\n",
              "    <div>\n",
              "<style scoped>\n",
              "    .dataframe tbody tr th:only-of-type {\n",
              "        vertical-align: middle;\n",
              "    }\n",
              "\n",
              "    .dataframe tbody tr th {\n",
              "        vertical-align: top;\n",
              "    }\n",
              "\n",
              "    .dataframe thead th {\n",
              "        text-align: right;\n",
              "    }\n",
              "</style>\n",
              "<table border=\"1\" class=\"dataframe\">\n",
              "  <thead>\n",
              "    <tr style=\"text-align: right;\">\n",
              "      <th></th>\n",
              "      <th>Temperature</th>\n",
              "      <th>Relative_Humidity</th>\n",
              "      <th>Wind_speed</th>\n",
              "      <th>Rain</th>\n",
              "      <th>Fine_Fuel_Moisture_Code</th>\n",
              "      <th>Duff_Moisture_Code</th>\n",
              "      <th>Drought_Code</th>\n",
              "      <th>Initial_Spread_IDX</th>\n",
              "      <th>Buildup_IDX</th>\n",
              "      <th>Classes</th>\n",
              "      <th>Region</th>\n",
              "    </tr>\n",
              "  </thead>\n",
              "  <tbody>\n",
              "    <tr>\n",
              "      <th>0</th>\n",
              "      <td>-0.870655</td>\n",
              "      <td>-0.340673</td>\n",
              "      <td>0.893277</td>\n",
              "      <td>-0.381657</td>\n",
              "      <td>-0.847927</td>\n",
              "      <td>-0.912120</td>\n",
              "      <td>-0.879401</td>\n",
              "      <td>-0.830356</td>\n",
              "      <td>-0.936012</td>\n",
              "      <td>1</td>\n",
              "      <td>0</td>\n",
              "    </tr>\n",
              "    <tr>\n",
              "      <th>1</th>\n",
              "      <td>-0.870655</td>\n",
              "      <td>-0.070359</td>\n",
              "      <td>-0.888877</td>\n",
              "      <td>0.268642</td>\n",
              "      <td>-0.938709</td>\n",
              "      <td>-0.855520</td>\n",
              "      <td>-0.879401</td>\n",
              "      <td>-0.902720</td>\n",
              "      <td>-0.900798</td>\n",
              "      <td>1</td>\n",
              "      <td>0</td>\n",
              "    </tr>\n",
              "    <tr>\n",
              "      <th>2</th>\n",
              "      <td>-1.699254</td>\n",
              "      <td>1.348788</td>\n",
              "      <td>2.319000</td>\n",
              "      <td>6.171355</td>\n",
              "      <td>-2.146802</td>\n",
              "      <td>-0.984891</td>\n",
              "      <td>-0.889913</td>\n",
              "      <td>-1.071571</td>\n",
              "      <td>-0.985310</td>\n",
              "      <td>1</td>\n",
              "      <td>0</td>\n",
              "    </tr>\n",
              "    <tr>\n",
              "      <th>3</th>\n",
              "      <td>-1.975454</td>\n",
              "      <td>1.821837</td>\n",
              "      <td>-0.888877</td>\n",
              "      <td>0.868918</td>\n",
              "      <td>-3.438694</td>\n",
              "      <td>-1.081920</td>\n",
              "      <td>-0.894117</td>\n",
              "      <td>-1.143935</td>\n",
              "      <td>-1.055737</td>\n",
              "      <td>1</td>\n",
              "      <td>0</td>\n",
              "    </tr>\n",
              "    <tr>\n",
              "      <th>4</th>\n",
              "      <td>-1.423054</td>\n",
              "      <td>1.010896</td>\n",
              "      <td>0.180416</td>\n",
              "      <td>-0.381657</td>\n",
              "      <td>-0.910776</td>\n",
              "      <td>-0.944463</td>\n",
              "      <td>-0.740651</td>\n",
              "      <td>-0.854477</td>\n",
              "      <td>-0.900798</td>\n",
              "      <td>1</td>\n",
              "      <td>0</td>\n",
              "    </tr>\n",
              "    <tr>\n",
              "      <th>...</th>\n",
              "      <td>...</td>\n",
              "      <td>...</td>\n",
              "      <td>...</td>\n",
              "      <td>...</td>\n",
              "      <td>...</td>\n",
              "      <td>...</td>\n",
              "      <td>...</td>\n",
              "      <td>...</td>\n",
              "      <td>...</td>\n",
              "      <td>...</td>\n",
              "      <td>...</td>\n",
              "    </tr>\n",
              "    <tr>\n",
              "      <th>238</th>\n",
              "      <td>-0.594455</td>\n",
              "      <td>0.199954</td>\n",
              "      <td>-0.532446</td>\n",
              "      <td>-0.381657</td>\n",
              "      <td>0.527763</td>\n",
              "      <td>0.106678</td>\n",
              "      <td>-0.103661</td>\n",
              "      <td>-0.058467</td>\n",
              "      <td>0.014752</td>\n",
              "      <td>0</td>\n",
              "      <td>1</td>\n",
              "    </tr>\n",
              "    <tr>\n",
              "      <th>239</th>\n",
              "      <td>-1.146855</td>\n",
              "      <td>1.686680</td>\n",
              "      <td>-0.176015</td>\n",
              "      <td>1.819355</td>\n",
              "      <td>-2.565794</td>\n",
              "      <td>-0.661463</td>\n",
              "      <td>-0.870992</td>\n",
              "      <td>-1.119814</td>\n",
              "      <td>-0.738816</td>\n",
              "      <td>1</td>\n",
              "      <td>1</td>\n",
              "    </tr>\n",
              "    <tr>\n",
              "      <th>240</th>\n",
              "      <td>-1.423054</td>\n",
              "      <td>1.686680</td>\n",
              "      <td>4.814014</td>\n",
              "      <td>-0.131542</td>\n",
              "      <td>-2.230600</td>\n",
              "      <td>-0.904034</td>\n",
              "      <td>-0.873095</td>\n",
              "      <td>-1.047449</td>\n",
              "      <td>-0.936012</td>\n",
              "      <td>1</td>\n",
              "      <td>1</td>\n",
              "    </tr>\n",
              "    <tr>\n",
              "      <th>241</th>\n",
              "      <td>-2.251654</td>\n",
              "      <td>-0.543409</td>\n",
              "      <td>0.893277</td>\n",
              "      <td>-0.331634</td>\n",
              "      <td>0.129721</td>\n",
              "      <td>-0.839349</td>\n",
              "      <td>-0.719628</td>\n",
              "      <td>-0.733870</td>\n",
              "      <td>-0.816286</td>\n",
              "      <td>1</td>\n",
              "      <td>1</td>\n",
              "    </tr>\n",
              "    <tr>\n",
              "      <th>242</th>\n",
              "      <td>-2.251654</td>\n",
              "      <td>0.132376</td>\n",
              "      <td>-0.176015</td>\n",
              "      <td>-0.281611</td>\n",
              "      <td>-0.736196</td>\n",
              "      <td>-0.879777</td>\n",
              "      <td>-0.692299</td>\n",
              "      <td>-0.854477</td>\n",
              "      <td>-0.837414</td>\n",
              "      <td>1</td>\n",
              "      <td>1</td>\n",
              "    </tr>\n",
              "  </tbody>\n",
              "</table>\n",
              "<p>243 rows × 11 columns</p>\n",
              "</div>\n",
              "    <div class=\"colab-df-buttons\">\n",
              "\n",
              "  <div class=\"colab-df-container\">\n",
              "    <button class=\"colab-df-convert\" onclick=\"convertToInteractive('df-ec59a132-38ca-4ccc-8a7b-335f37c410bb')\"\n",
              "            title=\"Convert this dataframe to an interactive table.\"\n",
              "            style=\"display:none;\">\n",
              "\n",
              "  <svg xmlns=\"http://www.w3.org/2000/svg\" height=\"24px\" viewBox=\"0 -960 960 960\">\n",
              "    <path d=\"M120-120v-720h720v720H120Zm60-500h600v-160H180v160Zm220 220h160v-160H400v160Zm0 220h160v-160H400v160ZM180-400h160v-160H180v160Zm440 0h160v-160H620v160ZM180-180h160v-160H180v160Zm440 0h160v-160H620v160Z\"/>\n",
              "  </svg>\n",
              "    </button>\n",
              "\n",
              "  <style>\n",
              "    .colab-df-container {\n",
              "      display:flex;\n",
              "      gap: 12px;\n",
              "    }\n",
              "\n",
              "    .colab-df-convert {\n",
              "      background-color: #E8F0FE;\n",
              "      border: none;\n",
              "      border-radius: 50%;\n",
              "      cursor: pointer;\n",
              "      display: none;\n",
              "      fill: #1967D2;\n",
              "      height: 32px;\n",
              "      padding: 0 0 0 0;\n",
              "      width: 32px;\n",
              "    }\n",
              "\n",
              "    .colab-df-convert:hover {\n",
              "      background-color: #E2EBFA;\n",
              "      box-shadow: 0px 1px 2px rgba(60, 64, 67, 0.3), 0px 1px 3px 1px rgba(60, 64, 67, 0.15);\n",
              "      fill: #174EA6;\n",
              "    }\n",
              "\n",
              "    .colab-df-buttons div {\n",
              "      margin-bottom: 4px;\n",
              "    }\n",
              "\n",
              "    [theme=dark] .colab-df-convert {\n",
              "      background-color: #3B4455;\n",
              "      fill: #D2E3FC;\n",
              "    }\n",
              "\n",
              "    [theme=dark] .colab-df-convert:hover {\n",
              "      background-color: #434B5C;\n",
              "      box-shadow: 0px 1px 3px 1px rgba(0, 0, 0, 0.15);\n",
              "      filter: drop-shadow(0px 1px 2px rgba(0, 0, 0, 0.3));\n",
              "      fill: #FFFFFF;\n",
              "    }\n",
              "  </style>\n",
              "\n",
              "    <script>\n",
              "      const buttonEl =\n",
              "        document.querySelector('#df-ec59a132-38ca-4ccc-8a7b-335f37c410bb button.colab-df-convert');\n",
              "      buttonEl.style.display =\n",
              "        google.colab.kernel.accessAllowed ? 'block' : 'none';\n",
              "\n",
              "      async function convertToInteractive(key) {\n",
              "        const element = document.querySelector('#df-ec59a132-38ca-4ccc-8a7b-335f37c410bb');\n",
              "        const dataTable =\n",
              "          await google.colab.kernel.invokeFunction('convertToInteractive',\n",
              "                                                    [key], {});\n",
              "        if (!dataTable) return;\n",
              "\n",
              "        const docLinkHtml = 'Like what you see? Visit the ' +\n",
              "          '<a target=\"_blank\" href=https://colab.research.google.com/notebooks/data_table.ipynb>data table notebook</a>'\n",
              "          + ' to learn more about interactive tables.';\n",
              "        element.innerHTML = '';\n",
              "        dataTable['output_type'] = 'display_data';\n",
              "        await google.colab.output.renderOutput(dataTable, element);\n",
              "        const docLink = document.createElement('div');\n",
              "        docLink.innerHTML = docLinkHtml;\n",
              "        element.appendChild(docLink);\n",
              "      }\n",
              "    </script>\n",
              "  </div>\n",
              "\n",
              "\n",
              "<div id=\"df-c05cdd84-9354-488f-a88a-51ac4e7dbe0b\">\n",
              "  <button class=\"colab-df-quickchart\" onclick=\"quickchart('df-c05cdd84-9354-488f-a88a-51ac4e7dbe0b')\"\n",
              "            title=\"Suggest charts\"\n",
              "            style=\"display:none;\">\n",
              "\n",
              "<svg xmlns=\"http://www.w3.org/2000/svg\" height=\"24px\"viewBox=\"0 0 24 24\"\n",
              "     width=\"24px\">\n",
              "    <g>\n",
              "        <path d=\"M19 3H5c-1.1 0-2 .9-2 2v14c0 1.1.9 2 2 2h14c1.1 0 2-.9 2-2V5c0-1.1-.9-2-2-2zM9 17H7v-7h2v7zm4 0h-2V7h2v10zm4 0h-2v-4h2v4z\"/>\n",
              "    </g>\n",
              "</svg>\n",
              "  </button>\n",
              "\n",
              "<style>\n",
              "  .colab-df-quickchart {\n",
              "      --bg-color: #E8F0FE;\n",
              "      --fill-color: #1967D2;\n",
              "      --hover-bg-color: #E2EBFA;\n",
              "      --hover-fill-color: #174EA6;\n",
              "      --disabled-fill-color: #AAA;\n",
              "      --disabled-bg-color: #DDD;\n",
              "  }\n",
              "\n",
              "  [theme=dark] .colab-df-quickchart {\n",
              "      --bg-color: #3B4455;\n",
              "      --fill-color: #D2E3FC;\n",
              "      --hover-bg-color: #434B5C;\n",
              "      --hover-fill-color: #FFFFFF;\n",
              "      --disabled-bg-color: #3B4455;\n",
              "      --disabled-fill-color: #666;\n",
              "  }\n",
              "\n",
              "  .colab-df-quickchart {\n",
              "    background-color: var(--bg-color);\n",
              "    border: none;\n",
              "    border-radius: 50%;\n",
              "    cursor: pointer;\n",
              "    display: none;\n",
              "    fill: var(--fill-color);\n",
              "    height: 32px;\n",
              "    padding: 0;\n",
              "    width: 32px;\n",
              "  }\n",
              "\n",
              "  .colab-df-quickchart:hover {\n",
              "    background-color: var(--hover-bg-color);\n",
              "    box-shadow: 0 1px 2px rgba(60, 64, 67, 0.3), 0 1px 3px 1px rgba(60, 64, 67, 0.15);\n",
              "    fill: var(--button-hover-fill-color);\n",
              "  }\n",
              "\n",
              "  .colab-df-quickchart-complete:disabled,\n",
              "  .colab-df-quickchart-complete:disabled:hover {\n",
              "    background-color: var(--disabled-bg-color);\n",
              "    fill: var(--disabled-fill-color);\n",
              "    box-shadow: none;\n",
              "  }\n",
              "\n",
              "  .colab-df-spinner {\n",
              "    border: 2px solid var(--fill-color);\n",
              "    border-color: transparent;\n",
              "    border-bottom-color: var(--fill-color);\n",
              "    animation:\n",
              "      spin 1s steps(1) infinite;\n",
              "  }\n",
              "\n",
              "  @keyframes spin {\n",
              "    0% {\n",
              "      border-color: transparent;\n",
              "      border-bottom-color: var(--fill-color);\n",
              "      border-left-color: var(--fill-color);\n",
              "    }\n",
              "    20% {\n",
              "      border-color: transparent;\n",
              "      border-left-color: var(--fill-color);\n",
              "      border-top-color: var(--fill-color);\n",
              "    }\n",
              "    30% {\n",
              "      border-color: transparent;\n",
              "      border-left-color: var(--fill-color);\n",
              "      border-top-color: var(--fill-color);\n",
              "      border-right-color: var(--fill-color);\n",
              "    }\n",
              "    40% {\n",
              "      border-color: transparent;\n",
              "      border-right-color: var(--fill-color);\n",
              "      border-top-color: var(--fill-color);\n",
              "    }\n",
              "    60% {\n",
              "      border-color: transparent;\n",
              "      border-right-color: var(--fill-color);\n",
              "    }\n",
              "    80% {\n",
              "      border-color: transparent;\n",
              "      border-right-color: var(--fill-color);\n",
              "      border-bottom-color: var(--fill-color);\n",
              "    }\n",
              "    90% {\n",
              "      border-color: transparent;\n",
              "      border-bottom-color: var(--fill-color);\n",
              "    }\n",
              "  }\n",
              "</style>\n",
              "\n",
              "  <script>\n",
              "    async function quickchart(key) {\n",
              "      const quickchartButtonEl =\n",
              "        document.querySelector('#' + key + ' button');\n",
              "      quickchartButtonEl.disabled = true;  // To prevent multiple clicks.\n",
              "      quickchartButtonEl.classList.add('colab-df-spinner');\n",
              "      try {\n",
              "        const charts = await google.colab.kernel.invokeFunction(\n",
              "            'suggestCharts', [key], {});\n",
              "      } catch (error) {\n",
              "        console.error('Error during call to suggestCharts:', error);\n",
              "      }\n",
              "      quickchartButtonEl.classList.remove('colab-df-spinner');\n",
              "      quickchartButtonEl.classList.add('colab-df-quickchart-complete');\n",
              "    }\n",
              "    (() => {\n",
              "      let quickchartButtonEl =\n",
              "        document.querySelector('#df-c05cdd84-9354-488f-a88a-51ac4e7dbe0b button');\n",
              "      quickchartButtonEl.style.display =\n",
              "        google.colab.kernel.accessAllowed ? 'block' : 'none';\n",
              "    })();\n",
              "  </script>\n",
              "</div>\n",
              "\n",
              "  <div id=\"id_b9f5ae02-eef8-49b6-923a-88c132e486c4\">\n",
              "    <style>\n",
              "      .colab-df-generate {\n",
              "        background-color: #E8F0FE;\n",
              "        border: none;\n",
              "        border-radius: 50%;\n",
              "        cursor: pointer;\n",
              "        display: none;\n",
              "        fill: #1967D2;\n",
              "        height: 32px;\n",
              "        padding: 0 0 0 0;\n",
              "        width: 32px;\n",
              "      }\n",
              "\n",
              "      .colab-df-generate:hover {\n",
              "        background-color: #E2EBFA;\n",
              "        box-shadow: 0px 1px 2px rgba(60, 64, 67, 0.3), 0px 1px 3px 1px rgba(60, 64, 67, 0.15);\n",
              "        fill: #174EA6;\n",
              "      }\n",
              "\n",
              "      [theme=dark] .colab-df-generate {\n",
              "        background-color: #3B4455;\n",
              "        fill: #D2E3FC;\n",
              "      }\n",
              "\n",
              "      [theme=dark] .colab-df-generate:hover {\n",
              "        background-color: #434B5C;\n",
              "        box-shadow: 0px 1px 3px 1px rgba(0, 0, 0, 0.15);\n",
              "        filter: drop-shadow(0px 1px 2px rgba(0, 0, 0, 0.3));\n",
              "        fill: #FFFFFF;\n",
              "      }\n",
              "    </style>\n",
              "    <button class=\"colab-df-generate\" onclick=\"generateWithVariable('final_df')\"\n",
              "            title=\"Generate code using this dataframe.\"\n",
              "            style=\"display:none;\">\n",
              "\n",
              "  <svg xmlns=\"http://www.w3.org/2000/svg\" height=\"24px\"viewBox=\"0 0 24 24\"\n",
              "       width=\"24px\">\n",
              "    <path d=\"M7,19H8.4L18.45,9,17,7.55,7,17.6ZM5,21V16.75L18.45,3.32a2,2,0,0,1,2.83,0l1.4,1.43a1.91,1.91,0,0,1,.58,1.4,1.91,1.91,0,0,1-.58,1.4L9.25,21ZM18.45,9,17,7.55Zm-12,3A5.31,5.31,0,0,0,4.9,8.1,5.31,5.31,0,0,0,1,6.5,5.31,5.31,0,0,0,4.9,4.9,5.31,5.31,0,0,0,6.5,1,5.31,5.31,0,0,0,8.1,4.9,5.31,5.31,0,0,0,12,6.5,5.46,5.46,0,0,0,6.5,12Z\"/>\n",
              "  </svg>\n",
              "    </button>\n",
              "    <script>\n",
              "      (() => {\n",
              "      const buttonEl =\n",
              "        document.querySelector('#id_b9f5ae02-eef8-49b6-923a-88c132e486c4 button.colab-df-generate');\n",
              "      buttonEl.style.display =\n",
              "        google.colab.kernel.accessAllowed ? 'block' : 'none';\n",
              "\n",
              "      buttonEl.onclick = () => {\n",
              "        google.colab.notebook.generateWithVariable('final_df');\n",
              "      }\n",
              "      })();\n",
              "    </script>\n",
              "  </div>\n",
              "\n",
              "    </div>\n",
              "  </div>\n"
            ],
            "text/plain": [
              "     Temperature  Relative_Humidity  Wind_speed      Rain  \\\n",
              "0      -0.870655          -0.340673    0.893277 -0.381657   \n",
              "1      -0.870655          -0.070359   -0.888877  0.268642   \n",
              "2      -1.699254           1.348788    2.319000  6.171355   \n",
              "3      -1.975454           1.821837   -0.888877  0.868918   \n",
              "4      -1.423054           1.010896    0.180416 -0.381657   \n",
              "..           ...                ...         ...       ...   \n",
              "238    -0.594455           0.199954   -0.532446 -0.381657   \n",
              "239    -1.146855           1.686680   -0.176015  1.819355   \n",
              "240    -1.423054           1.686680    4.814014 -0.131542   \n",
              "241    -2.251654          -0.543409    0.893277 -0.331634   \n",
              "242    -2.251654           0.132376   -0.176015 -0.281611   \n",
              "\n",
              "     Fine_Fuel_Moisture_Code  Duff_Moisture_Code  Drought_Code  \\\n",
              "0                  -0.847927           -0.912120     -0.879401   \n",
              "1                  -0.938709           -0.855520     -0.879401   \n",
              "2                  -2.146802           -0.984891     -0.889913   \n",
              "3                  -3.438694           -1.081920     -0.894117   \n",
              "4                  -0.910776           -0.944463     -0.740651   \n",
              "..                       ...                 ...           ...   \n",
              "238                 0.527763            0.106678     -0.103661   \n",
              "239                -2.565794           -0.661463     -0.870992   \n",
              "240                -2.230600           -0.904034     -0.873095   \n",
              "241                 0.129721           -0.839349     -0.719628   \n",
              "242                -0.736196           -0.879777     -0.692299   \n",
              "\n",
              "     Initial_Spread_IDX  Buildup_IDX  Classes  Region  \n",
              "0             -0.830356    -0.936012        1       0  \n",
              "1             -0.902720    -0.900798        1       0  \n",
              "2             -1.071571    -0.985310        1       0  \n",
              "3             -1.143935    -1.055737        1       0  \n",
              "4             -0.854477    -0.900798        1       0  \n",
              "..                  ...          ...      ...     ...  \n",
              "238           -0.058467     0.014752        0       1  \n",
              "239           -1.119814    -0.738816        1       1  \n",
              "240           -1.047449    -0.936012        1       1  \n",
              "241           -0.733870    -0.816286        1       1  \n",
              "242           -0.854477    -0.837414        1       1  \n",
              "\n",
              "[243 rows x 11 columns]"
            ]
          },
          "execution_count": 34,
          "metadata": {},
          "output_type": "execute_result"
        }
      ],
      "source": [
        "final_df = pd.concat([df_sc_1, cat_col], axis = 1)\n",
        "final_df"
      ]
    },
    {
      "cell_type": "code",
      "execution_count": 36,
      "metadata": {
        "id": "ry3CcBEMmzFf"
      },
      "outputs": [],
      "source": [
        "X_train, X_test, y_train, y_test = train_test_split(final_df, y, test_size = 0.25, random_state=42)"
      ]
    },
    {
      "cell_type": "markdown",
      "metadata": {
        "id": "shym4cxwm5AL"
      },
      "source": [
        "Linear Regression\n"
      ]
    },
    {
      "cell_type": "code",
      "execution_count": 37,
      "metadata": {
        "colab": {
          "base_uri": "https://localhost:8080/",
          "height": 75
        },
        "id": "eB6fO_H_m_-v",
        "outputId": "d2342457-7242-46ec-e3bc-b94fb0184407"
      },
      "outputs": [
        {
          "data": {
            "text/html": [
              "<style>#sk-container-id-1 {color: black;background-color: white;}#sk-container-id-1 pre{padding: 0;}#sk-container-id-1 div.sk-toggleable {background-color: white;}#sk-container-id-1 label.sk-toggleable__label {cursor: pointer;display: block;width: 100%;margin-bottom: 0;padding: 0.3em;box-sizing: border-box;text-align: center;}#sk-container-id-1 label.sk-toggleable__label-arrow:before {content: \"▸\";float: left;margin-right: 0.25em;color: #696969;}#sk-container-id-1 label.sk-toggleable__label-arrow:hover:before {color: black;}#sk-container-id-1 div.sk-estimator:hover label.sk-toggleable__label-arrow:before {color: black;}#sk-container-id-1 div.sk-toggleable__content {max-height: 0;max-width: 0;overflow: hidden;text-align: left;background-color: #f0f8ff;}#sk-container-id-1 div.sk-toggleable__content pre {margin: 0.2em;color: black;border-radius: 0.25em;background-color: #f0f8ff;}#sk-container-id-1 input.sk-toggleable__control:checked~div.sk-toggleable__content {max-height: 200px;max-width: 100%;overflow: auto;}#sk-container-id-1 input.sk-toggleable__control:checked~label.sk-toggleable__label-arrow:before {content: \"▾\";}#sk-container-id-1 div.sk-estimator input.sk-toggleable__control:checked~label.sk-toggleable__label {background-color: #d4ebff;}#sk-container-id-1 div.sk-label input.sk-toggleable__control:checked~label.sk-toggleable__label {background-color: #d4ebff;}#sk-container-id-1 input.sk-hidden--visually {border: 0;clip: rect(1px 1px 1px 1px);clip: rect(1px, 1px, 1px, 1px);height: 1px;margin: -1px;overflow: hidden;padding: 0;position: absolute;width: 1px;}#sk-container-id-1 div.sk-estimator {font-family: monospace;background-color: #f0f8ff;border: 1px dotted black;border-radius: 0.25em;box-sizing: border-box;margin-bottom: 0.5em;}#sk-container-id-1 div.sk-estimator:hover {background-color: #d4ebff;}#sk-container-id-1 div.sk-parallel-item::after {content: \"\";width: 100%;border-bottom: 1px solid gray;flex-grow: 1;}#sk-container-id-1 div.sk-label:hover label.sk-toggleable__label {background-color: #d4ebff;}#sk-container-id-1 div.sk-serial::before {content: \"\";position: absolute;border-left: 1px solid gray;box-sizing: border-box;top: 0;bottom: 0;left: 50%;z-index: 0;}#sk-container-id-1 div.sk-serial {display: flex;flex-direction: column;align-items: center;background-color: white;padding-right: 0.2em;padding-left: 0.2em;position: relative;}#sk-container-id-1 div.sk-item {position: relative;z-index: 1;}#sk-container-id-1 div.sk-parallel {display: flex;align-items: stretch;justify-content: center;background-color: white;position: relative;}#sk-container-id-1 div.sk-item::before, #sk-container-id-1 div.sk-parallel-item::before {content: \"\";position: absolute;border-left: 1px solid gray;box-sizing: border-box;top: 0;bottom: 0;left: 50%;z-index: -1;}#sk-container-id-1 div.sk-parallel-item {display: flex;flex-direction: column;z-index: 1;position: relative;background-color: white;}#sk-container-id-1 div.sk-parallel-item:first-child::after {align-self: flex-end;width: 50%;}#sk-container-id-1 div.sk-parallel-item:last-child::after {align-self: flex-start;width: 50%;}#sk-container-id-1 div.sk-parallel-item:only-child::after {width: 0;}#sk-container-id-1 div.sk-dashed-wrapped {border: 1px dashed gray;margin: 0 0.4em 0.5em 0.4em;box-sizing: border-box;padding-bottom: 0.4em;background-color: white;}#sk-container-id-1 div.sk-label label {font-family: monospace;font-weight: bold;display: inline-block;line-height: 1.2em;}#sk-container-id-1 div.sk-label-container {text-align: center;}#sk-container-id-1 div.sk-container {/* jupyter's `normalize.less` sets `[hidden] { display: none; }` but bootstrap.min.css set `[hidden] { display: none !important; }` so we also need the `!important` here to be able to override the default hidden behavior on the sphinx rendered scikit-learn.org. See: https://github.com/scikit-learn/scikit-learn/issues/21755 */display: inline-block !important;position: relative;}#sk-container-id-1 div.sk-text-repr-fallback {display: none;}</style><div id=\"sk-container-id-1\" class=\"sk-top-container\"><div class=\"sk-text-repr-fallback\"><pre>LinearRegression()</pre><b>In a Jupyter environment, please rerun this cell to show the HTML representation or trust the notebook. <br />On GitHub, the HTML representation is unable to render, please try loading this page with nbviewer.org.</b></div><div class=\"sk-container\" hidden><div class=\"sk-item\"><div class=\"sk-estimator sk-toggleable\"><input class=\"sk-toggleable__control sk-hidden--visually\" id=\"sk-estimator-id-1\" type=\"checkbox\" checked><label for=\"sk-estimator-id-1\" class=\"sk-toggleable__label sk-toggleable__label-arrow\">LinearRegression</label><div class=\"sk-toggleable__content\"><pre>LinearRegression()</pre></div></div></div></div></div>"
            ],
            "text/plain": [
              "LinearRegression()"
            ]
          },
          "execution_count": 37,
          "metadata": {},
          "output_type": "execute_result"
        }
      ],
      "source": [
        "lr = LinearRegression()\n",
        "lr.fit(X_train, y_train)"
      ]
    },
    {
      "cell_type": "code",
      "execution_count": 38,
      "metadata": {
        "id": "K4zKbzPCnGuf"
      },
      "outputs": [],
      "source": [
        "y_pred_test = lr.predict(X_test)\n",
        "y_pred_train = lr.predict(X_train)"
      ]
    },
    {
      "cell_type": "code",
      "execution_count": 39,
      "metadata": {
        "colab": {
          "base_uri": "https://localhost:8080/"
        },
        "id": "mCkbJpTKnLXE",
        "outputId": "ab374609-4256-4a8d-e7ee-58b9a3ace671"
      },
      "outputs": [
        {
          "data": {
            "text/plain": [
              "(array([-5.96272978e-02, -1.73954788e-01, -7.38472341e-02,  5.49038946e-04,\n",
              "        -8.83619752e-01,  3.12706046e-03, -6.37905657e-01,  4.83736142e+00,\n",
              "         4.17259508e+00, -6.05387397e-01, -3.38230411e-01]),\n",
              " 7.460256014235744)"
            ]
          },
          "execution_count": 39,
          "metadata": {},
          "output_type": "execute_result"
        }
      ],
      "source": [
        "lr.coef_, lr.intercept_"
      ]
    },
    {
      "cell_type": "code",
      "execution_count": 40,
      "metadata": {
        "colab": {
          "base_uri": "https://localhost:8080/",
          "height": 472
        },
        "id": "diKB8El3nRYp",
        "outputId": "2cd6b315-796b-4e18-db95-7128ea10387f"
      },
      "outputs": [
        {
          "data": {
            "image/png": "[encoded data removed]",
            "text/plain": [
              "<Figure size 640x480 with 1 Axes>"
            ]
          },
          "metadata": {},
          "output_type": "display_data"
        }
      ],
      "source": [
        "plt.scatter(y_test, y_pred_test)\n",
        "plt.xlabel('Test')\n",
        "plt.ylabel('Predicted')\n",
        "plt.title('Linear Regression - Test vs Predicted')\n",
        "plt.show()"
      ]
    },
    {
      "cell_type": "code",
      "execution_count": 41,
      "metadata": {
        "colab": {
          "base_uri": "https://localhost:8080/"
        },
        "id": "IoXvwRIAnZA2",
        "outputId": "097591df-cb7d-41ac-e194-ea98c46a1301"
      },
      "outputs": [
        {
          "name": "stdout",
          "output_type": "stream",
          "text": [
            "Metrics on Test Data:\n",
            "\n",
            "R2 Score:  0.9893850294922101\n",
            "Mean Squared Error:  0.46982435716885146\n",
            "Root Mean Squared Error:  0.6854373473694378\n",
            "Mean Absolute Error:  0.46544608000940896\n",
            "\n",
            "Metrics on Train Data:\n",
            "\n",
            "R2 Score_train:  0.9723553091099947\n",
            "Mean Squared Error_train:  1.6233157448943187\n",
            "Root Mean Squared Error_train:  1.2740940879284852\n",
            "Mean Absolute Error_train:  0.6794848402223804\n"
          ]
        }
      ],
      "source": [
        "# Evaluate the Model using Metrics on Test data\n",
        "print(\"Metrics on Test Data:\\n\")\n",
        "print('R2 Score: ', r2_score(y_test, y_pred_test))\n",
        "print('Mean Squared Error: ', mean_squared_error(y_test, y_pred_test))\n",
        "print('Root Mean Squared Error: ', np.sqrt(mean_squared_error(y_test, y_pred_test)))\n",
        "print('Mean Absolute Error: ', mean_absolute_error(y_test, y_pred_test))\n",
        "\n",
        "# Evaluate the Model using Metrics on Train data\n",
        "print(\"\\nMetrics on Train Data:\\n\")\n",
        "print('R2 Score_train: ', r2_score(y_train, y_pred_train))\n",
        "print('Mean Squared Error_train: ', mean_squared_error(y_train, y_pred_train))\n",
        "print('Root Mean Squared Error_train: ', np.sqrt(mean_squared_error(y_train, y_pred_train)))\n",
        "print('Mean Absolute Error_train: ', mean_absolute_error(y_train, y_pred_train))"
      ]
    },
    {
      "cell_type": "markdown",
      "metadata": {
        "id": "8k64s1Q4nfaC"
      },
      "source": []
    },
    {
      "cell_type": "markdown",
      "metadata": {
        "id": "KacOm80dgajF"
      },
      "source": [
        "## ***Regularization on Linear Regression***\n",
        "1. Ridge Regression\n",
        "2. Lassor Regression\n",
        "3. EN"
      ]
    },
    {
      "cell_type": "code",
      "execution_count": 42,
      "metadata": {
        "colab": {
          "base_uri": "https://localhost:8080/"
        },
        "id": "aJhFmWmznlkO",
        "outputId": "d3fdc271-af12-4134-ba95-5ebd0d5f1cc0"
      },
      "outputs": [
        {
          "name": "stdout",
          "output_type": "stream",
          "text": [
            "Ridge Metrics on Test Data:\n",
            "\n",
            "R2 Score:  0.9872379672954208\n",
            "Mean Squared Error:  0.5648544955632806\n",
            "Root Mean Squared Error:  0.751568024574809\n",
            "Mean Absolute Error:  0.5000180378459341\n",
            "\n",
            "Ridge Metrics on Train Data:\n",
            "\n",
            "R2 Score_train:  0.9721677807698492\n",
            "Mean Squared Error_train:  1.6343275412780534\n",
            "Root Mean Squared Error_train:  1.2784082060429889\n",
            "Mean Absolute Error_train:  0.6877258248028222\n",
            "\n",
            " Coefficients are as:\n",
            "\n",
            "The coefficient for Temperature is -0.0640223059873574\n",
            "The coefficient for Relative_Humidity is -0.20713303652325876\n",
            "The coefficient for Wind_speed is -0.058390800966209126\n",
            "The coefficient for Rain is 0.015232410945048689\n",
            "The coefficient for Fine_Fuel_Moisture_Code is -0.8160465073439876\n",
            "The coefficient for Duff_Moisture_Code is 1.6120603551227701\n",
            "The coefficient for Drought_Code is 0.2222791723749248\n",
            "The coefficient for Initial_Spread_IDX is 4.730675822041058\n",
            "The coefficient for Buildup_IDX is 1.7944744099445837\n",
            "The coefficient for Classes is -0.6456868914321815\n",
            "The coefficient for Region is -0.3545151901659736\n",
            "CPU times: user 23.8 ms, sys: 2.79 ms, total: 26.6 ms\n",
            "Wall time: 31 ms\n"
          ]
        }
      ],
      "source": [
        "%%time\n",
        "rd = Ridge()\n",
        "rd.fit(X_train, y_train)\n",
        "y_pred_test_rd = rd.predict(X_test)\n",
        "y_pred_train_rd = rd.predict(X_train)\n",
        "\n",
        "print(\"Ridge Metrics on Test Data:\\n\")\n",
        "print('R2 Score: ', r2_score(y_test, y_pred_test_rd))\n",
        "print('Mean Squared Error: ', mean_squared_error(y_test, y_pred_test_rd))\n",
        "print('Root Mean Squared Error: ', np.sqrt(mean_squared_error(y_test, y_pred_test_rd)))\n",
        "print('Mean Absolute Error: ', mean_absolute_error(y_test, y_pred_test_rd))\n",
        "\n",
        "# evaluate the models using metrics on train data\n",
        "print(\"\\nRidge Metrics on Train Data:\\n\")\n",
        "print('R2 Score_train: ', r2_score(y_train, y_pred_train_rd))\n",
        "print('Mean Squared Error_train: ', mean_squared_error(y_train, y_pred_train_rd))\n",
        "print('Root Mean Squared Error_train: ', np.sqrt(mean_squared_error(y_train, y_pred_train_rd)))\n",
        "print('Mean Absolute Error_train: ', mean_absolute_error(y_train, y_pred_train_rd))\n",
        "print(\"\\n Coefficients are as:\\n\")\n",
        "\n",
        "for i, col in enumerate(X_train.columns):\n",
        "    print('The coefficient for {} is {}'.format(col, rd.coef_[i]))"
      ]
    },
    {
      "cell_type": "markdown",
      "metadata": {
        "id": "tlIOp0Bunr_G"
      },
      "source": [
        "Lasso Modal"
      ]
    },
    {
      "cell_type": "code",
      "execution_count": 43,
      "metadata": {
        "colab": {
          "base_uri": "https://localhost:8080/"
        },
        "id": "hiwArh0Znw-b",
        "outputId": "fbab5f6e-8d4a-43bd-f554-b11a3640f073"
      },
      "outputs": [
        {
          "name": "stdout",
          "output_type": "stream",
          "text": [
            "Lasso Metrics on Test Data:\n",
            "\n",
            "R2 Score:  0.9566258940916221\n",
            "Mean Squared Error:  1.9197614737810575\n",
            "Root Mean Squared Error:  1.3855545726462952\n",
            "Mean Absolute Error:  1.0555406999047656\n",
            "\n",
            "Lasso Metrics on Train Data:\n",
            "\n",
            "R2 Score_train:  0.9485131409150515\n",
            "Mean Squared Error_train:  3.0233446754859346\n",
            "Root Mean Squared Error_train:  1.7387767756345076\n",
            "Mean Absolute Error_train:  1.2195875396540454\n",
            "\n",
            " Coefficients are as:\n",
            "\n",
            "The coefficient for Temperature is 0.0\n",
            "The coefficient for Relative_Humidity is -0.0\n",
            "The coefficient for Wind_speed is 0.0\n",
            "The coefficient for Rain is -0.0\n",
            "The coefficient for Fine_Fuel_Moisture_Code is 0.0\n",
            "The coefficient for Duff_Moisture_Code is 1.2489700776140653\n",
            "The coefficient for Drought_Code is 0.0\n",
            "The coefficient for Initial_Spread_IDX is 3.9868600542264994\n",
            "The coefficient for Buildup_IDX is 1.6259809132832361\n",
            "The coefficient for Classes is -0.0\n",
            "The coefficient for Region is 0.0\n",
            "CPU times: user 30.3 ms, sys: 0 ns, total: 30.3 ms\n",
            "Wall time: 69.2 ms\n"
          ]
        }
      ],
      "source": [
        "%%time\n",
        "ls=Lasso(alpha=1)\n",
        "ls.fit(X_train, y_train)\n",
        "y_pred_test_ls = ls.predict(X_test)\n",
        "y_pred_train_ls = ls.predict(X_train)\n",
        "\n",
        "# evaluate the models using metrics on test data\n",
        "print(\"Lasso Metrics on Test Data:\\n\")\n",
        "print('R2 Score: ', r2_score(y_test, y_pred_test_ls))\n",
        "print('Mean Squared Error: ', mean_squared_error(y_test, y_pred_test_ls))\n",
        "print('Root Mean Squared Error: ', np.sqrt(mean_squared_error(y_test, y_pred_test_ls)))\n",
        "print('Mean Absolute Error: ', mean_absolute_error(y_test, y_pred_test_ls))\n",
        "\n",
        "# evaluate the models using metrics on train data\n",
        "print(\"\\nLasso Metrics on Train Data:\\n\")\n",
        "print('R2 Score_train: ', r2_score(y_train, y_pred_train_ls))\n",
        "print('Mean Squared Error_train: ', mean_squared_error(y_train, y_pred_train_ls))\n",
        "print('Root Mean Squared Error_train: ', np.sqrt(mean_squared_error(y_train, y_pred_train_ls)))\n",
        "print('Mean Absolute Error_train: ', mean_absolute_error(y_train, y_pred_train_ls))\n",
        "print(\"\\n Coefficients are as:\\n\")\n",
        "\n",
        "for i, col in enumerate(X_train.columns):\n",
        "    print('The coefficient for {} is {}'.format(col, ls.coef_[i]))"
      ]
    },
    {
      "cell_type": "markdown",
      "metadata": {
        "id": "WDx9marKn74C"
      },
      "source": [
        "Elasticnet Modal"
      ]
    },
    {
      "cell_type": "code",
      "execution_count": 44,
      "metadata": {
        "colab": {
          "base_uri": "https://localhost:8080/"
        },
        "id": "0VkXap4sn_Ae",
        "outputId": "a018ef23-3bf5-4a4a-92f8-612bedbecb32"
      },
      "outputs": [
        {
          "name": "stdout",
          "output_type": "stream",
          "text": [
            "ElassticNet Metrics on Test Data:\n",
            "\n",
            "R2 Score:  0.9006217678963336\n",
            "Mean Squared Error:  4.398534501854483\n",
            "Root Mean Squared Error:  2.097268342834193\n",
            "Mean Absolute Error:  1.6876180687045532\n",
            "\n",
            "ElassticNet Metrics on Train Data:\n",
            "\n",
            "R2 Score_train:  0.9115419491804475\n",
            "Mean Squared Error_train:  5.194319127292433\n",
            "Root Mean Squared Error_train:  2.27910489607048\n",
            "Mean Absolute Error_train:  1.7229285553874556\n",
            "\n",
            " Coefficients are as:\n",
            "\n",
            "The coefficient for Temperature is 0.1724251307477882\n",
            "The coefficient for Relative_Humidity is -0.5302403426816824\n",
            "The coefficient for Wind_speed is 0.0\n",
            "The coefficient for Rain is -0.0\n",
            "The coefficient for Fine_Fuel_Moisture_Code is 0.3541008900731501\n",
            "The coefficient for Duff_Moisture_Code is 1.3975596237304928\n",
            "The coefficient for Drought_Code is 0.7218377857112913\n",
            "The coefficient for Initial_Spread_IDX is 2.3753541719886244\n",
            "The coefficient for Buildup_IDX is 1.2403481782349388\n",
            "The coefficient for Classes is -0.08242433384778663\n",
            "The coefficient for Region is 0.0\n"
          ]
        }
      ],
      "source": [
        "en=ElasticNet(alpha=1)\n",
        "en.fit(X_train, y_train)\n",
        "y_pred_test_en = en.predict(X_test)\n",
        "y_pred_train_en = en.predict(X_train)\n",
        "\n",
        "# evaluate the models using metrics on test data\n",
        "print(\"ElassticNet Metrics on Test Data:\\n\")\n",
        "print('R2 Score: ', r2_score(y_test, y_pred_test_en))\n",
        "print('Mean Squared Error: ', mean_squared_error(y_test, y_pred_test_en))\n",
        "print('Root Mean Squared Error: ', np.sqrt(mean_squared_error(y_test, y_pred_test_en)))\n",
        "print('Mean Absolute Error: ', mean_absolute_error(y_test, y_pred_test_en))\n",
        "\n",
        "# evaluate the models using metrics on train data\n",
        "print(\"\\nElassticNet Metrics on Train Data:\\n\")\n",
        "print('R2 Score_train: ', r2_score(y_train, y_pred_train_en))\n",
        "print('Mean Squared Error_train: ', mean_squared_error(y_train, y_pred_train_en))\n",
        "print('Root Mean Squared Error_train: ', np.sqrt(mean_squared_error(y_train, y_pred_train_en)))\n",
        "print('Mean Absolute Error_train: ', mean_absolute_error(y_train, y_pred_train_en))\n",
        "print(\"\\n Coefficients are as:\\n\")\n",
        "\n",
        "for i, col in enumerate(X_train.columns):\n",
        "    print('The coefficient for {} is {}'.format(col, en.coef_[i]))"
      ]
    },
    {
      "cell_type": "markdown",
      "metadata": {
        "id": "LQq5AYJ7oIGS"
      },
      "source": [
        "Cross Validation"
      ]
    },
    {
      "cell_type": "code",
      "execution_count": 45,
      "metadata": {
        "colab": {
          "base_uri": "https://localhost:8080/"
        },
        "id": "TTRbJyhAoOPd",
        "outputId": "1570b093-25d1-4a00-f2c6-46d2e5cf6121"
      },
      "outputs": [
        {
          "name": "stdout",
          "output_type": "stream",
          "text": [
            "Linear Regression Cross Validation Analysis:\n",
            "\n",
            "Cross Validation Scores: [0.97438166 0.98788159 0.90475849 0.98308861 0.98499556]\n",
            "\n",
            "Cross-Validation Mean Score: 0.9670211812292078\n",
            "\n",
            "Cross-Validation Standard Deviation: 0.03145541917518735\n"
          ]
        }
      ],
      "source": [
        "X = df.drop(['Fire_Weather_IDX', 'Months'], axis=1)\n",
        "y = df['Fire_Weather_IDX']\n",
        "\n",
        "# Initialize k-fold cross-validation\n",
        "kf = KFold(n_splits=5, shuffle=True, random_state=42)\n",
        "\n",
        "# Perform cross-validation\n",
        "cvs = cross_val_score(lr, X_train, y_train, cv=kf)\n",
        "\n",
        "print(\"Linear Regression Cross Validation Analysis:\\n\")\n",
        "print(f\"Cross Validation Scores: {cvs}\")\n",
        "print(f'\\nCross-Validation Mean Score: {cvs.mean()}')\n",
        "print(f'\\nCross-Validation Standard Deviation: {cvs.std()}')"
      ]
    },
    {
      "cell_type": "markdown",
      "metadata": {
        "id": "cDliM2mdoYWw"
      },
      "source": []
    },
    {
      "cell_type": "markdown",
      "metadata": {
        "id": "Td6AQmOJfISN"
      },
      "source": [
        "## ***Hyperparameter Tunning using Ridge Model***"
      ]
    },
    {
      "cell_type": "code",
      "execution_count": 46,
      "metadata": {
        "colab": {
          "base_uri": "https://localhost:8080/"
        },
        "id": "bNo_EEtrocTG",
        "outputId": "de43bbca-aa1d-4cea-a234-67bce6de639f"
      },
      "outputs": [
        {
          "name": "stdout",
          "output_type": "stream",
          "text": [
            "Hyperparameters Analysis for Linear Regression using Ridge Model:\n",
            "\n",
            "Best Hyperparameters: {'alpha': 100, 'random_state': 42, 'solver': 'sag'}\n",
            "\n",
            "Best Score: 0.9568717370886972\n"
          ]
        }
      ],
      "source": [
        "# Define the hyperparameter grid\n",
        "parameters = {'alpha': [0.01, 0.1, 1, 10, 100],\n",
        "           'solver':['lbfgs','sag', 'newton-cg'],\n",
        "             'random_state':[42]}\n",
        "\n",
        "# Initialize GridSearchCV\n",
        "grid_search = GridSearchCV(estimator=rd, param_grid = parameters, cv=5)\n",
        "\n",
        "# Perform the grid search\n",
        "grid_search.fit(X, y)\n",
        "\n",
        "# Get the best parameters and the corresponding score\n",
        "best_params = grid_search.best_params_\n",
        "best_score = grid_search.best_score_\n",
        "\n",
        "print(f'Hyperparameters Analysis for Linear Regression using Ridge Model:\\n')\n",
        "print(f'Best Hyperparameters: {best_params}\\n')\n",
        "print(f'Best Score: {best_score}')"
      ]
    },
    {
      "cell_type": "markdown",
      "metadata": {
        "id": "oHF8lokwoszb"
      },
      "source": [
        "Hyperparameter Tunning using Lasso Model"
      ]
    },
    {
      "cell_type": "code",
      "execution_count": 47,
      "metadata": {
        "colab": {
          "base_uri": "https://localhost:8080/"
        },
        "id": "3hTYCSGzo1pU",
        "outputId": "22562825-b42b-48b9-8b46-9b91902efcf4"
      },
      "outputs": [
        {
          "name": "stdout",
          "output_type": "stream",
          "text": [
            "Hyperparameters Analysis for Linear Regression using Lasso Model:\n",
            "\n",
            "Best Hyperparameters: {'alpha': 0.1, 'random_state': 42}\n",
            "\n",
            "Best Score: 0.9542873232707454\n"
          ]
        }
      ],
      "source": [
        "# Define the hyperparameter grid\n",
        "parameters = {'alpha': [0.01, 0.1, 1, 10, 100],\n",
        "             'random_state':[42]}\n",
        "\n",
        "# Initialize GridSearchCV\n",
        "grid_search = GridSearchCV(estimator=ls, param_grid = parameters, cv=5)\n",
        "\n",
        "# Perform the grid search\n",
        "grid_search.fit(X, y)\n",
        "\n",
        "# Get the best parameters and the corresponding score\n",
        "best_params = grid_search.best_params_\n",
        "best_score = grid_search.best_score_\n",
        "\n",
        "print(f'Hyperparameters Analysis for Linear Regression using Lasso Model:\\n')\n",
        "print(f'Best Hyperparameters: {best_params}\\n')\n",
        "print(f'Best Score: {best_score}')"
      ]
    },
    {
      "cell_type": "markdown",
      "metadata": {
        "id": "-cCcEfuCo9Ce"
      },
      "source": [
        "Polinomial Regression"
      ]
    },
    {
      "cell_type": "code",
      "execution_count": 48,
      "metadata": {
        "colab": {
          "base_uri": "https://localhost:8080/"
        },
        "id": "L5M51JpgpBjb",
        "outputId": "a14b10a2-5b84-4d3a-a071-fb0df59c245b"
      },
      "outputs": [
        {
          "data": {
            "text/plain": [
              "array([[-0.87065469,  0.80816032,  1.24970758, ...,  1.        ,\n",
              "         0.        ,  0.        ],\n",
              "       [-0.31825498,  0.67300343, -0.53244583, ...,  1.        ,\n",
              "         1.        ,  1.        ],\n",
              "       [ 2.16754373, -2.09771276, -0.17601515, ...,  0.        ,\n",
              "         0.        ,  1.        ],\n",
              "       ...,\n",
              "       [-1.97545412,  0.94331721,  0.53684621, ...,  1.        ,\n",
              "         0.        ,  0.        ],\n",
              "       [ 0.51034459, -0.20551634,  0.18041553, ...,  0.        ,\n",
              "         0.        ,  1.        ],\n",
              "       [-0.59445484,  1.01089565,  1.96256895, ...,  1.        ,\n",
              "         0.        ,  0.        ]])"
            ]
          },
          "execution_count": 48,
          "metadata": {},
          "output_type": "execute_result"
        }
      ],
      "source": [
        "poly_reg = PolynomialFeatures(degree=2, include_bias=False)\n",
        "X_poly_train= poly_reg.fit_transform(X_train)\n",
        "X_poly_train"
      ]
    },
    {
      "cell_type": "code",
      "execution_count": 49,
      "metadata": {
        "colab": {
          "base_uri": "https://localhost:8080/"
        },
        "id": "pRgRQ1FNpJTI",
        "outputId": "7e21298b-0a13-4601-ce9e-d5593d41498a"
      },
      "outputs": [
        {
          "data": {
            "text/plain": [
              "array([[-0.31825498,  0.13237588, -0.17601515, ...,  0.        ,\n",
              "         0.        ,  0.        ],\n",
              "       [ 0.23414473, -0.54340856, -0.88887652, ...,  0.        ,\n",
              "         0.        ,  0.        ],\n",
              "       [-1.14685455, -0.27309478,  0.8932769 , ...,  1.        ,\n",
              "         1.        ,  1.        ],\n",
              "       ...,\n",
              "       [-0.31825498,  0.67300343, -0.53244583, ...,  0.        ,\n",
              "         0.        ,  1.        ],\n",
              "       [ 1.06274431, -1.96255588, -0.88887652, ...,  0.        ,\n",
              "         0.        ,  1.        ],\n",
              "       [ 0.51034459, -0.40825167,  0.53684621, ...,  0.        ,\n",
              "         0.        ,  1.        ]])"
            ]
          },
          "execution_count": 49,
          "metadata": {},
          "output_type": "execute_result"
        }
      ],
      "source": [
        "X_poly_test = poly_reg.transform(X_test)\n",
        "X_poly_test"
      ]
    },
    {
      "cell_type": "code",
      "execution_count": 50,
      "metadata": {
        "colab": {
          "base_uri": "https://localhost:8080/",
          "height": 75
        },
        "id": "MvSs3_HZpLGz",
        "outputId": "1165db0f-e425-45a9-e642-8f5162a491da"
      },
      "outputs": [
        {
          "data": {
            "text/html": [
              "<style>#sk-container-id-2 {color: black;background-color: white;}#sk-container-id-2 pre{padding: 0;}#sk-container-id-2 div.sk-toggleable {background-color: white;}#sk-container-id-2 label.sk-toggleable__label {cursor: pointer;display: block;width: 100%;margin-bottom: 0;padding: 0.3em;box-sizing: border-box;text-align: center;}#sk-container-id-2 label.sk-toggleable__label-arrow:before {content: \"▸\";float: left;margin-right: 0.25em;color: #696969;}#sk-container-id-2 label.sk-toggleable__label-arrow:hover:before {color: black;}#sk-container-id-2 div.sk-estimator:hover label.sk-toggleable__label-arrow:before {color: black;}#sk-container-id-2 div.sk-toggleable__content {max-height: 0;max-width: 0;overflow: hidden;text-align: left;background-color: #f0f8ff;}#sk-container-id-2 div.sk-toggleable__content pre {margin: 0.2em;color: black;border-radius: 0.25em;background-color: #f0f8ff;}#sk-container-id-2 input.sk-toggleable__control:checked~div.sk-toggleable__content {max-height: 200px;max-width: 100%;overflow: auto;}#sk-container-id-2 input.sk-toggleable__control:checked~label.sk-toggleable__label-arrow:before {content: \"▾\";}#sk-container-id-2 div.sk-estimator input.sk-toggleable__control:checked~label.sk-toggleable__label {background-color: #d4ebff;}#sk-container-id-2 div.sk-label input.sk-toggleable__control:checked~label.sk-toggleable__label {background-color: #d4ebff;}#sk-container-id-2 input.sk-hidden--visually {border: 0;clip: rect(1px 1px 1px 1px);clip: rect(1px, 1px, 1px, 1px);height: 1px;margin: -1px;overflow: hidden;padding: 0;position: absolute;width: 1px;}#sk-container-id-2 div.sk-estimator {font-family: monospace;background-color: #f0f8ff;border: 1px dotted black;border-radius: 0.25em;box-sizing: border-box;margin-bottom: 0.5em;}#sk-container-id-2 div.sk-estimator:hover {background-color: #d4ebff;}#sk-container-id-2 div.sk-parallel-item::after {content: \"\";width: 100%;border-bottom: 1px solid gray;flex-grow: 1;}#sk-container-id-2 div.sk-label:hover label.sk-toggleable__label {background-color: #d4ebff;}#sk-container-id-2 div.sk-serial::before {content: \"\";position: absolute;border-left: 1px solid gray;box-sizing: border-box;top: 0;bottom: 0;left: 50%;z-index: 0;}#sk-container-id-2 div.sk-serial {display: flex;flex-direction: column;align-items: center;background-color: white;padding-right: 0.2em;padding-left: 0.2em;position: relative;}#sk-container-id-2 div.sk-item {position: relative;z-index: 1;}#sk-container-id-2 div.sk-parallel {display: flex;align-items: stretch;justify-content: center;background-color: white;position: relative;}#sk-container-id-2 div.sk-item::before, #sk-container-id-2 div.sk-parallel-item::before {content: \"\";position: absolute;border-left: 1px solid gray;box-sizing: border-box;top: 0;bottom: 0;left: 50%;z-index: -1;}#sk-container-id-2 div.sk-parallel-item {display: flex;flex-direction: column;z-index: 1;position: relative;background-color: white;}#sk-container-id-2 div.sk-parallel-item:first-child::after {align-self: flex-end;width: 50%;}#sk-container-id-2 div.sk-parallel-item:last-child::after {align-self: flex-start;width: 50%;}#sk-container-id-2 div.sk-parallel-item:only-child::after {width: 0;}#sk-container-id-2 div.sk-dashed-wrapped {border: 1px dashed gray;margin: 0 0.4em 0.5em 0.4em;box-sizing: border-box;padding-bottom: 0.4em;background-color: white;}#sk-container-id-2 div.sk-label label {font-family: monospace;font-weight: bold;display: inline-block;line-height: 1.2em;}#sk-container-id-2 div.sk-label-container {text-align: center;}#sk-container-id-2 div.sk-container {/* jupyter's `normalize.less` sets `[hidden] { display: none; }` but bootstrap.min.css set `[hidden] { display: none !important; }` so we also need the `!important` here to be able to override the default hidden behavior on the sphinx rendered scikit-learn.org. See: https://github.com/scikit-learn/scikit-learn/issues/21755 */display: inline-block !important;position: relative;}#sk-container-id-2 div.sk-text-repr-fallback {display: none;}</style><div id=\"sk-container-id-2\" class=\"sk-top-container\"><div class=\"sk-text-repr-fallback\"><pre>LinearRegression()</pre><b>In a Jupyter environment, please rerun this cell to show the HTML representation or trust the notebook. <br />On GitHub, the HTML representation is unable to render, please try loading this page with nbviewer.org.</b></div><div class=\"sk-container\" hidden><div class=\"sk-item\"><div class=\"sk-estimator sk-toggleable\"><input class=\"sk-toggleable__control sk-hidden--visually\" id=\"sk-estimator-id-2\" type=\"checkbox\" checked><label for=\"sk-estimator-id-2\" class=\"sk-toggleable__label sk-toggleable__label-arrow\">LinearRegression</label><div class=\"sk-toggleable__content\"><pre>LinearRegression()</pre></div></div></div></div></div>"
            ],
            "text/plain": [
              "LinearRegression()"
            ]
          },
          "execution_count": 50,
          "metadata": {},
          "output_type": "execute_result"
        }
      ],
      "source": [
        "reg= LinearRegression()\n",
        "\n",
        "reg.fit(X_poly_train, y_train)"
      ]
    },
    {
      "cell_type": "code",
      "execution_count": 51,
      "metadata": {
        "colab": {
          "base_uri": "https://localhost:8080/"
        },
        "id": "LwUI9Kc4pLJU",
        "outputId": "6e523fa2-acbb-48a0-c6e2-224688ee1ad8"
      },
      "outputs": [
        {
          "data": {
            "text/plain": [
              "(array([ 1.46128602e-01, -3.40026480e-01,  6.64927653e-01, -3.10006159e-01,\n",
              "         7.34976154e+00,  2.39842028e+00,  9.00632083e-01, -1.60072666e-01,\n",
              "        -1.05959284e-01,  1.40435444e+00, -1.26087892e-01,  2.89257971e-02,\n",
              "        -5.62544350e-03,  6.34841304e-03,  3.61278400e-01, -1.70823093e-01,\n",
              "        -9.79131078e-01, -6.29845100e-01,  1.36332606e-01,  1.58413159e+00,\n",
              "         1.36988730e-01, -6.67581461e-02,  4.09975877e-03, -4.60193264e-02,\n",
              "        -6.30925607e-01,  7.54123879e-02,  2.83430781e-02, -1.66598165e-01,\n",
              "        -3.48659662e-02,  2.18170148e-01,  1.16555879e-01,  5.95547991e-02,\n",
              "        -3.33848138e-03,  1.48501079e-01, -1.22997853e-02,  2.89758852e-01,\n",
              "         5.03914775e-03,  1.78821651e-01, -3.05703619e-01, -3.55459497e-01,\n",
              "        -7.86927249e-02,  9.57158442e-04, -7.39118794e-01,  3.06316903e+00,\n",
              "         1.65353138e+00,  2.96300775e-01, -3.98898444e+00,  6.71875212e-01,\n",
              "         2.36625553e-02, -5.09749063e-01,  4.97192452e+00,  2.25958682e+00,\n",
              "         4.57737911e+00, -6.06935329e+00, -3.95234060e+00,  1.54424593e-01,\n",
              "         4.41179199e+00,  5.33870789e-01, -3.78113300e+00, -8.79014933e+00,\n",
              "        -2.93571129e+00, -1.71367996e+00, -7.42949653e-01, -1.88349164e+00,\n",
              "         1.39707888e+00, -8.54379152e-01, -7.79647531e-01, -8.41002065e-01,\n",
              "         6.65612272e+00,  4.37014447e+00, -5.64115639e-02,  2.79391615e+00,\n",
              "         3.19894574e+00,  2.36636631e+00,  1.40435444e+00,  7.79209369e-02,\n",
              "        -1.26087892e-01]),\n",
              " 3.027267004506375)"
            ]
          },
          "execution_count": 51,
          "metadata": {},
          "output_type": "execute_result"
        }
      ],
      "source": [
        "reg.coef_, reg.intercept_"
      ]
    },
    {
      "cell_type": "code",
      "execution_count": 52,
      "metadata": {
        "id": "KIXAcrKlpLM1"
      },
      "outputs": [],
      "source": [
        "y_poly_pred_test = reg.predict(X_poly_test)"
      ]
    },
    {
      "cell_type": "code",
      "execution_count": 53,
      "metadata": {
        "colab": {
          "base_uri": "https://localhost:8080/",
          "height": 472
        },
        "id": "tsdF8RBdpc9l",
        "outputId": "458b225f-478c-49cc-9366-bef804847681"
      },
      "outputs": [
        {
          "data": {
            "image/png": "[encoded data removed]",
            "text/plain": [
              "<Figure size 640x480 with 1 Axes>"
            ]
          },
          "metadata": {},
          "output_type": "display_data"
        }
      ],
      "source": [
        "plt.scatter(y_test, y_poly_pred_test)\n",
        "plt.xlabel('Test')\n",
        "plt.ylabel('Predicted')\n",
        "plt.title('Polynomiam Regression - Test vs Predicted')\n",
        "plt.show()"
      ]
    },
    {
      "cell_type": "markdown",
      "metadata": {
        "id": "kMU4RtijpkKw"
      },
      "source": []
    },
    {
      "cell_type": "markdown",
      "metadata": {
        "id": "d77utFTU6561"
      },
      "source": [
        "## ***Regularization on Polynomial Regression***\n",
        "1. Ridge Regression\n",
        "2. Lassor Regression\n",
        "3. EN"
      ]
    },
    {
      "cell_type": "markdown",
      "metadata": {
        "id": "0O1r9f0SptCT"
      },
      "source": [
        "Ridge Modal"
      ]
    },
    {
      "cell_type": "code",
      "execution_count": 54,
      "metadata": {
        "colab": {
          "base_uri": "https://localhost:8080/"
        },
        "id": "SFYIEMZPpdOs",
        "outputId": "4738a3f3-a34a-4fdd-9858-a48a9b67991b"
      },
      "outputs": [
        {
          "name": "stdout",
          "output_type": "stream",
          "text": [
            "Ridge Metrics on Test Data:\n",
            "\n",
            "R2 Score:  0.9962685647685995\n",
            "Mean Squared Error:  0.16515534900670484\n",
            "Root Mean Squared Error:  0.40639309665237283\n",
            "Mean Absolute Error:  0.26889027376930363\n",
            "\n",
            "Ridge Metrics on Train Data:\n",
            "\n",
            "R2 Score_train:  0.9988808586729887\n",
            "Mean Squared Error_train:  0.0657167679728416\n",
            "Root Mean Squared Error_train:  0.2563528193190814\n",
            "Mean Absolute Error_train:  0.17529540304958005\n",
            "\n",
            " Coefficients are as:\n",
            "\n",
            "The coefficient for Temperature is 0.047388401975568005\n",
            "The coefficient for Relative_Humidity is -0.3046136766263927\n",
            "The coefficient for Wind_speed is 0.2861896483410995\n",
            "The coefficient for Rain is -0.6207725590839955\n",
            "The coefficient for Fine_Fuel_Moisture_Code is 2.1682622224462014\n",
            "The coefficient for Duff_Moisture_Code is 1.1653591812455555\n",
            "The coefficient for Drought_Code is 0.4066892017684996\n",
            "The coefficient for Initial_Spread_IDX is 2.3637708727125877\n",
            "The coefficient for Buildup_IDX is 1.2998978648230872\n",
            "The coefficient for Classes is -0.22314670632565406\n",
            "The coefficient for Region is -0.10997142492616944\n",
            "CPU times: user 25.6 ms, sys: 29.5 ms, total: 55.1 ms\n",
            "Wall time: 47.1 ms\n"
          ]
        }
      ],
      "source": [
        "%%time\n",
        "rd_poly = Ridge()\n",
        "rd_poly.fit(X_poly_train, y_train)\n",
        "y_pred_test_rd_poly = rd_poly.predict(X_poly_test)\n",
        "y_pred_train_rd_poly = rd_poly.predict(X_poly_train)\n",
        "\n",
        "print(\"Ridge Metrics on Test Data:\\n\")\n",
        "print('R2 Score: ', r2_score(y_test, y_pred_test_rd_poly))\n",
        "print('Mean Squared Error: ', mean_squared_error(y_test, y_pred_test_rd_poly))\n",
        "print('Root Mean Squared Error: ', np.sqrt(mean_squared_error(y_test, y_pred_test_rd_poly)))\n",
        "print('Mean Absolute Error: ', mean_absolute_error(y_test, y_pred_test_rd_poly))\n",
        "\n",
        "# evaluate the models using metrics on train data\n",
        "print(\"\\nRidge Metrics on Train Data:\\n\")\n",
        "print('R2 Score_train: ', r2_score(y_train, y_pred_train_rd_poly))\n",
        "print('Mean Squared Error_train: ', mean_squared_error(y_train, y_pred_train_rd_poly))\n",
        "print('Root Mean Squared Error_train: ', np.sqrt(mean_squared_error(y_train, y_pred_train_rd_poly)))\n",
        "print('Mean Absolute Error_train: ', mean_absolute_error(y_train, y_pred_train_rd_poly))\n",
        "print(\"\\n Coefficients are as:\\n\")\n",
        "\n",
        "for i, col in enumerate(X_train.columns):\n",
        "    print('The coefficient for {} is {}'.format(col, rd_poly.coef_[i]))"
      ]
    },
    {
      "cell_type": "markdown",
      "metadata": {
        "id": "qsXkUx-8p5sq"
      },
      "source": [
        "Lasso Modal"
      ]
    },
    {
      "cell_type": "code",
      "execution_count": 55,
      "metadata": {
        "colab": {
          "base_uri": "https://localhost:8080/"
        },
        "id": "pUIb9DQup0Kk",
        "outputId": "8c51f619-32a6-4a7a-e9e8-4d359c6bc034"
      },
      "outputs": [
        {
          "name": "stdout",
          "output_type": "stream",
          "text": [
            "Lasso Metrics on Test Data:\n",
            "\n",
            "R2 Score:  0.9956661868778642\n",
            "Mean Squared Error:  0.19181692146041351\n",
            "Root Mean Squared Error:  0.4379690873342701\n",
            "Mean Absolute Error:  0.28629611431142576\n",
            "\n",
            "Lasso Metrics on Train Data:\n",
            "\n",
            "R2 Score_train:  0.9939905003284288\n",
            "Mean Squared Error_train:  0.3528820587871228\n",
            "Root Mean Squared Error_train:  0.5940387687576651\n",
            "Mean Absolute Error_train:  0.30638771264113573\n",
            "\n",
            " Coefficients are as:\n",
            "\n",
            "The coefficient for Temperature is 0.07417583354462146\n",
            "The coefficient for Relative_Humidity is -0.0038479727501151513\n",
            "The coefficient for Wind_speed is 0.0\n",
            "The coefficient for Rain is 0.0\n",
            "The coefficient for Fine_Fuel_Moisture_Code is 0.5286213941448977\n",
            "The coefficient for Duff_Moisture_Code is 0.0\n",
            "The coefficient for Drought_Code is 0.0\n",
            "The coefficient for Initial_Spread_IDX is 4.79495522974155\n",
            "The coefficient for Buildup_IDX is 2.7646642320978754\n",
            "The coefficient for Classes is -0.0\n",
            "The coefficient for Region is -0.0\n",
            "CPU times: user 35.2 ms, sys: 31.2 ms, total: 66.4 ms\n",
            "Wall time: 50.6 ms\n"
          ]
        }
      ],
      "source": [
        "%%time\n",
        "ls_poly = Lasso(alpha=0.05)\n",
        "ls_poly.fit(X_poly_train, y_train)\n",
        "y_pred_test_ls_poly = ls_poly.predict(X_poly_test)\n",
        "y_pred_train_ls_poly = ls_poly.predict(X_poly_train)\n",
        "\n",
        "print(\"Lasso Metrics on Test Data:\\n\")\n",
        "print('R2 Score: ', r2_score(y_test, y_pred_test_ls_poly))\n",
        "print('Mean Squared Error: ', mean_squared_error(y_test, y_pred_test_ls_poly))\n",
        "print('Root Mean Squared Error: ', np.sqrt(mean_squared_error(y_test, y_pred_test_ls_poly)))\n",
        "print('Mean Absolute Error: ', mean_absolute_error(y_test, y_pred_test_ls_poly))\n",
        "\n",
        "# evaluate the models using metrics on train data\n",
        "print(\"\\nLasso Metrics on Train Data:\\n\")\n",
        "print('R2 Score_train: ', r2_score(y_train, y_pred_train_ls_poly))\n",
        "print('Mean Squared Error_train: ', mean_squared_error(y_train, y_pred_train_ls_poly))\n",
        "print('Root Mean Squared Error_train: ', np.sqrt(mean_squared_error(y_train, y_pred_train_ls_poly)))\n",
        "print('Mean Absolute Error_train: ', mean_absolute_error(y_train, y_pred_train_ls_poly))\n",
        "print(\"\\n Coefficients are as:\\n\")\n",
        "\n",
        "for i, col in enumerate(X_train.columns):\n",
        "    print('The coefficient for {} is {}'.format(col, ls_poly.coef_[i]))"
      ]
    },
    {
      "cell_type": "markdown",
      "metadata": {
        "id": "V9OXwZo6qHHQ"
      },
      "source": [
        "Elasticnet Modal"
      ]
    },
    {
      "cell_type": "code",
      "execution_count": 56,
      "metadata": {
        "colab": {
          "base_uri": "https://localhost:8080/"
        },
        "id": "VRCt6IWGqFGC",
        "outputId": "11ac2022-0841-4bc2-c8c0-fae0c802096f"
      },
      "outputs": [
        {
          "name": "stdout",
          "output_type": "stream",
          "text": [
            "ElasticNet Metrics on Test Data:\n",
            "\n",
            "R2 Score:  0.9956661868778642\n",
            "Mean Squared Error:  0.19181692146041351\n",
            "Root Mean Squared Error:  0.4379690873342701\n",
            "Mean Absolute Error:  0.28629611431142576\n",
            "\n",
            "ElasticNet Metrics on Train Data:\n",
            "\n",
            "R2 Score_train:  0.9939905003284288\n",
            "Mean Squared Error_train:  0.3528820587871228\n",
            "Root Mean Squared Error_train:  0.5940387687576651\n",
            "Mean Absolute Error_train:  0.30638771264113573\n",
            "\n",
            " Coefficients are as:\n",
            "\n",
            "The coefficient for Temperature is 0.07417583354462146\n",
            "The coefficient for Relative_Humidity is -0.0038479727501151513\n",
            "The coefficient for Wind_speed is 0.0\n",
            "The coefficient for Rain is 0.0\n",
            "The coefficient for Fine_Fuel_Moisture_Code is 0.5286213941448977\n",
            "The coefficient for Duff_Moisture_Code is 0.0\n",
            "The coefficient for Drought_Code is 0.0\n",
            "The coefficient for Initial_Spread_IDX is 4.79495522974155\n",
            "The coefficient for Buildup_IDX is 2.7646642320978754\n",
            "The coefficient for Classes is -0.0\n",
            "The coefficient for Region is -0.0\n",
            "CPU times: user 42.7 ms, sys: 33.7 ms, total: 76.4 ms\n",
            "Wall time: 90.1 ms\n"
          ]
        }
      ],
      "source": [
        "%%time\n",
        "en_poly = Lasso(alpha=0.05)\n",
        "en_poly.fit(X_poly_train, y_train)\n",
        "y_pred_test_en_poly = en_poly.predict(X_poly_test)\n",
        "y_pred_train_en_poly = en_poly.predict(X_poly_train)\n",
        "\n",
        "print(\"ElasticNet Metrics on Test Data:\\n\")\n",
        "print('R2 Score: ', r2_score(y_test, y_pred_test_en_poly))\n",
        "print('Mean Squared Error: ', mean_squared_error(y_test, y_pred_test_en_poly))\n",
        "print('Root Mean Squared Error: ', np.sqrt(mean_squared_error(y_test, y_pred_test_en_poly)))\n",
        "print('Mean Absolute Error: ', mean_absolute_error(y_test, y_pred_test_en_poly))\n",
        "\n",
        "# evaluate the models using metrics on train data\n",
        "print(\"\\nElasticNet Metrics on Train Data:\\n\")\n",
        "print('R2 Score_train: ', r2_score(y_train, y_pred_train_en_poly))\n",
        "print('Mean Squared Error_train: ', mean_squared_error(y_train, y_pred_train_en_poly))\n",
        "print('Root Mean Squared Error_train: ', np.sqrt(mean_squared_error(y_train, y_pred_train_en_poly)))\n",
        "print('Mean Absolute Error_train: ', mean_absolute_error(y_train, y_pred_train_en_poly))\n",
        "print(\"\\n Coefficients are as:\\n\")\n",
        "\n",
        "for i, col in enumerate(X_train.columns):\n",
        "    print('The coefficient for {} is {}'.format(col, en_poly.coef_[i]))"
      ]
    },
    {
      "cell_type": "markdown",
      "metadata": {
        "id": "hsKIao4TqT3G"
      },
      "source": [
        "Crossvalidation Modal"
      ]
    },
    {
      "cell_type": "code",
      "execution_count": 57,
      "metadata": {
        "colab": {
          "base_uri": "https://localhost:8080/"
        },
        "id": "2Piexf7UqSob",
        "outputId": "ae72552b-8b03-4d0c-9e40-5891d3336834"
      },
      "outputs": [
        {
          "name": "stdout",
          "output_type": "stream",
          "text": [
            "Polynomial Regression Cross Validation Analysis:\n",
            "\n",
            "Cross Validation Scores: [0.9981124  0.99860157 0.97626334 0.99769628 0.99697525]\n",
            "\n",
            "Cross-Validation Mean Score: 0.9935297702668979\n",
            "\n",
            "Cross-Validation Standard Deviation: 0.00864967498086041\n"
          ]
        }
      ],
      "source": [
        "X = df.drop(['Fire_Weather_IDX', 'Months'], axis=1)\n",
        "y = df['Fire_Weather_IDX']\n",
        "\n",
        "# Initialize k-fold cross-validation\n",
        "kf = KFold(n_splits=5, shuffle=True, random_state=42)\n",
        "\n",
        "# Perform cross-validation\n",
        "cvs_poly = cross_val_score(reg, X_poly_train, y_train, cv=kf)\n",
        "\n",
        "print(\"Polynomial Regression Cross Validation Analysis:\\n\")\n",
        "print(f\"Cross Validation Scores: {cvs_poly}\")\n",
        "print(f'\\nCross-Validation Mean Score: {cvs_poly.mean()}')\n",
        "print(f'\\nCross-Validation Standard Deviation: {cvs_poly.std()}')"
      ]
    },
    {
      "cell_type": "markdown",
      "metadata": {
        "id": "dc_RXdShqiLe"
      },
      "source": [
        "# **Hyperparameter Tunning using Ridge Model**"
      ]
    },
    {
      "cell_type": "code",
      "execution_count": 58,
      "metadata": {
        "colab": {
          "base_uri": "https://localhost:8080/"
        },
        "id": "5XW8yQ1PqSrR",
        "outputId": "1528c304-780f-456d-bd9f-c0160dfc7b6b"
      },
      "outputs": [
        {
          "name": "stdout",
          "output_type": "stream",
          "text": [
            "Hyperparameters Analysis for Polynomial Regression using Ridge Model:\n",
            "\n",
            "Best Hyperparameters: {'alpha': 100, 'random_state': 42, 'solver': 'sag'}\n",
            "\n",
            "Best Score: 0.9568717370886972\n"
          ]
        }
      ],
      "source": [
        "# Define the hyperparameter grid\n",
        "parameters = {'alpha': [0.01, 0.1, 1, 10, 100],\n",
        "           'solver':['lbfgs','sag', 'newton-cg'],\n",
        "             'random_state':[42]}\n",
        "\n",
        "# Initialize GridSearchCV\n",
        "grid_search = GridSearchCV(estimator=rd_poly, param_grid = parameters, cv=5)\n",
        "\n",
        "# Perform the grid search\n",
        "grid_search.fit(X, y)\n",
        "\n",
        "# Get the best parameters and the corresponding score\n",
        "best_params = grid_search.best_params_\n",
        "best_score = grid_search.best_score_\n",
        "\n",
        "print(f'Hyperparameters Analysis for Polynomial Regression using Ridge Model:\\n')\n",
        "print(f'Best Hyperparameters: {best_params}\\n')\n",
        "print(f'Best Score: {best_score}')"
      ]
    },
    {
      "cell_type": "markdown",
      "metadata": {
        "id": "HQ0JIOBdqz0b"
      },
      "source": []
    },
    {
      "cell_type": "markdown",
      "metadata": {
        "id": "qAmGFtgzlYck"
      },
      "source": [
        "## ***Hyperparameter Tunning using Lasso Model***"
      ]
    },
    {
      "cell_type": "code",
      "execution_count": 59,
      "metadata": {
        "colab": {
          "base_uri": "https://localhost:8080/"
        },
        "id": "nRKgE_ZNq1eH",
        "outputId": "c8129768-fc3d-4571-cd0b-e48e553b208c"
      },
      "outputs": [
        {
          "name": "stdout",
          "output_type": "stream",
          "text": [
            "Hyperparameters Analysis for Polynomial Regression using Lasso Model:\n",
            "\n",
            "Best Hyperparameters: {'alpha': 0.1, 'random_state': 42}\n",
            "\n",
            "Best Score: 0.9542873232707454\n"
          ]
        }
      ],
      "source": [
        "# Define the hyperparameter grid\n",
        "parameters_poly = {'alpha': [0.01, 0.1, 1, 5, 10, 100],\n",
        "             'random_state':[42]}\n",
        "\n",
        "# Initialize GridSearchCV\n",
        "grid_search_poly = GridSearchCV(estimator=ls_poly, param_grid = parameters_poly, cv=5)\n",
        "\n",
        "# Perform the grid search\n",
        "grid_search_poly.fit(X, y)\n",
        "\n",
        "# Get the best parameters and the corresponding score\n",
        "best_params = grid_search_poly.best_params_\n",
        "best_score = grid_search_poly.best_score_\n",
        "\n",
        "print(f'Hyperparameters Analysis for Polynomial Regression using Lasso Model:\\n')\n",
        "print(f'Best Hyperparameters: {best_params}\\n')\n",
        "print(f'Best Score: {best_score}')"
      ]
    },
    {
      "cell_type": "markdown",
      "metadata": {
        "id": "pJQYlmyLrA3Q"
      },
      "source": []
    },
    {
      "cell_type": "markdown",
      "metadata": {
        "id": "fCc1YxSamnYJ"
      },
      "source": [
        "# **Logistic Regression**"
      ]
    },
    {
      "cell_type": "code",
      "execution_count": 60,
      "metadata": {
        "id": "iQNuiG5Wq1g4"
      },
      "outputs": [],
      "source": [
        "X = df.drop(['Classes'], axis=1)\n",
        "y = df['Classes']"
      ]
    },
    {
      "cell_type": "code",
      "execution_count": 61,
      "metadata": {
        "id": "juS9GL2rrDM9"
      },
      "outputs": [],
      "source": [
        "y = y.map({0: 'not fire', 1: 'fire'})"
      ]
    },
    {
      "cell_type": "code",
      "execution_count": 62,
      "metadata": {
        "id": "vmJ61Vi6rDQI"
      },
      "outputs": [],
      "source": [
        "num_col_log = X.drop(['Region', 'Months'], axis=1)\n",
        "cat_col_log = X[['Region']]"
      ]
    },
    {
      "cell_type": "code",
      "execution_count": 63,
      "metadata": {
        "id": "RrpRKlX7rDSl"
      },
      "outputs": [],
      "source": [
        "# Feature scaling of the dataset for Logistic Regression\n",
        "sc_log = StandardScaler()\n",
        "df_sc_log = sc_log.fit_transform(num_col_log)\n",
        "df_sc_log_1 = pd.DataFrame(df_sc_log, columns = num_col_log.columns)\n"
      ]
    },
    {
      "cell_type": "code",
      "execution_count": 64,
      "metadata": {
        "colab": {
          "base_uri": "https://localhost:8080/",
          "height": 443
        },
        "id": "UFZBNrLMrDWE",
        "outputId": "f1891387-7b9b-4410-ff03-51e126af7bbf"
      },
      "outputs": [
        {
          "data": {
            "application/vnd.google.colaboratory.intrinsic+json": {
              "summary": "{\n  \"name\": \"final_df_log\",\n  \"rows\": 243,\n  \"fields\": [\n    {\n      \"column\": \"Temperature\",\n      \"properties\": {\n        \"dtype\": \"number\",\n        \"std\": 1.0020639856840274,\n        \"min\": -2.8040536918042567,\n        \"max\": 2.719943447299385,\n        \"num_unique_values\": 19,\n        \"samples\": [\n          -0.8706546931179822,\n          0.2341447347027462,\n          1.0627443055682924\n        ],\n        \"semantic_type\": \"\",\n        \"description\": \"\"\n      }\n    },\n    {\n      \"column\": \"Relative_Humidity\",\n      \"properties\": {\n        \"dtype\": \"number\",\n        \"std\": 1.0020639856840274,\n        \"min\": -2.7734972026638443,\n        \"max\": 1.8894154211268583,\n        \"num_unique_values\": 62,\n        \"samples\": [\n          1.4163663143654828,\n          -2.097712764433308,\n          -0.34067322503391245\n        ],\n        \"semantic_type\": \"\",\n        \"description\": \"\"\n      }\n    },\n    {\n      \"column\": \"Wind_speed\",\n      \"properties\": {\n        \"dtype\": \"number\",\n        \"std\": 1.0020639856840274,\n        \"min\": -3.3838912979009246,\n        \"max\": 4.814014408197154,\n        \"num_unique_values\": 18,\n        \"samples\": [\n          0.8932768965850293,\n          -0.8888765177841181,\n          1.9625689452065178\n        ],\n        \"semantic_type\": \"\",\n        \"description\": \"\"\n      }\n    },\n    {\n      \"column\": \"Rain\",\n      \"properties\": {\n        \"dtype\": \"number\",\n        \"std\": 1.0020639856840274,\n        \"min\": -0.38165690597236956,\n        \"max\": 8.022205839127963,\n        \"num_unique_values\": 39,\n        \"samples\": [\n          2.619722645849178,\n          1.6692857877723544,\n          -0.2816109209116513\n        ],\n        \"semantic_type\": \"\",\n        \"description\": \"\"\n      }\n    },\n    {\n      \"column\": \"Fine_Fuel_Moisture_Code\",\n      \"properties\": {\n        \"dtype\": \"number\",\n        \"std\": 1.0020639856840274,\n        \"min\": -3.438693799372861,\n        \"max\": 1.2679822371048475,\n        \"num_unique_values\": 173,\n        \"samples\": [\n          -0.9317254060560994,\n          -0.36608629781471347,\n          0.688376731129106\n        ],\n        \"semantic_type\": \"\",\n        \"description\": \"\"\n      }\n    },\n    {\n      \"column\": \"Duff_Moisture_Code\",\n      \"properties\": {\n        \"dtype\": \"number\",\n        \"std\": 1.0020639856840274,\n        \"min\": -1.1304340659196348,\n        \"max\": 4.141442178982,\n        \"num_unique_values\": 165,\n        \"samples\": [\n          0.17944929554365466,\n          0.26839199292696453,\n          0.7211911796056326\n        ],\n        \"semantic_type\": \"\",\n        \"description\": \"\"\n      }\n    },\n    {\n      \"column\": \"Drought_Code\",\n      \"properties\": {\n        \"dtype\": \"number\",\n        \"std\": 1.0020639856840274,\n        \"min\": -0.8941173916081605,\n        \"max\": 3.5942480980219487,\n        \"num_unique_values\": 197,\n        \"samples\": [\n          0.8549786680509732,\n          -0.7301396360151168,\n          -0.46945705020053424\n        ],\n        \"semantic_type\": \"\",\n        \"description\": \"\"\n      }\n    },\n    {\n      \"column\": \"Initial_Spread_IDX\",\n      \"properties\": {\n        \"dtype\": \"number\",\n        \"std\": 1.0020639856840272,\n        \"min\": -1.143935377838377,\n        \"max\": 3.4391517789472754,\n        \"num_unique_values\": 106,\n        \"samples\": [\n          2.0159826092085726,\n          0.013897167033787763,\n          -0.8544772416203358\n        ],\n        \"semantic_type\": \"\",\n        \"description\": \"\"\n      }\n    },\n    {\n      \"column\": \"Buildup_IDX\",\n      \"properties\": {\n        \"dtype\": \"number\",\n        \"std\": 1.0020639856840277,\n        \"min\": -1.097993479113084,\n        \"max\": 3.613567981068431,\n        \"num_unique_values\": 173,\n        \"samples\": [\n          -0.8514992323173396,\n          -0.5909195999904097,\n          -0.633175756583966\n        ],\n        \"semantic_type\": \"\",\n        \"description\": \"\"\n      }\n    },\n    {\n      \"column\": \"Fire_Weather_IDX\",\n      \"properties\": {\n        \"dtype\": \"number\",\n        \"std\": 1.0020639856840274,\n        \"min\": -0.9474965018778227,\n        \"max\": 3.2409191003924565,\n        \"num_unique_values\": 125,\n        \"samples\": [\n          1.0726396406962668,\n          0.49353394649169435,\n          -0.6646774419174503\n        ],\n        \"semantic_type\": \"\",\n        \"description\": \"\"\n      }\n    },\n    {\n      \"column\": \"Region\",\n      \"properties\": {\n        \"dtype\": \"number\",\n        \"std\": 0,\n        \"min\": 0,\n        \"max\": 1,\n        \"num_unique_values\": 2,\n        \"samples\": [\n          1,\n          0\n        ],\n        \"semantic_type\": \"\",\n        \"description\": \"\"\n      }\n    }\n  ]\n}",
              "type": "dataframe",
              "variable_name": "final_df_log"
            },
            "text/html": [
              "\n",
              "  <div id=\"df-79fce6d3-3453-4624-a50f-976d2a37d82c\" class=\"colab-df-container\">\n",
              "    <div>\n",
              "<style scoped>\n",
              "    .dataframe tbody tr th:only-of-type {\n",
              "        vertical-align: middle;\n",
              "    }\n",
              "\n",
              "    .dataframe tbody tr th {\n",
              "        vertical-align: top;\n",
              "    }\n",
              "\n",
              "    .dataframe thead th {\n",
              "        text-align: right;\n",
              "    }\n",
              "</style>\n",
              "<table border=\"1\" class=\"dataframe\">\n",
              "  <thead>\n",
              "    <tr style=\"text-align: right;\">\n",
              "      <th></th>\n",
              "      <th>Temperature</th>\n",
              "      <th>Relative_Humidity</th>\n",
              "      <th>Wind_speed</th>\n",
              "      <th>Rain</th>\n",
              "      <th>Fine_Fuel_Moisture_Code</th>\n",
              "      <th>Duff_Moisture_Code</th>\n",
              "      <th>Drought_Code</th>\n",
              "      <th>Initial_Spread_IDX</th>\n",
              "      <th>Buildup_IDX</th>\n",
              "      <th>Fire_Weather_IDX</th>\n",
              "      <th>Region</th>\n",
              "    </tr>\n",
              "  </thead>\n",
              "  <tbody>\n",
              "    <tr>\n",
              "      <th>0</th>\n",
              "      <td>-0.870655</td>\n",
              "      <td>-0.340673</td>\n",
              "      <td>0.893277</td>\n",
              "      <td>-0.381657</td>\n",
              "      <td>-0.847927</td>\n",
              "      <td>-0.912120</td>\n",
              "      <td>-0.879401</td>\n",
              "      <td>-0.830356</td>\n",
              "      <td>-0.936012</td>\n",
              "      <td>-0.880159</td>\n",
              "      <td>0</td>\n",
              "    </tr>\n",
              "    <tr>\n",
              "      <th>1</th>\n",
              "      <td>-0.870655</td>\n",
              "      <td>-0.070359</td>\n",
              "      <td>-0.888877</td>\n",
              "      <td>0.268642</td>\n",
              "      <td>-0.938709</td>\n",
              "      <td>-0.855520</td>\n",
              "      <td>-0.879401</td>\n",
              "      <td>-0.902720</td>\n",
              "      <td>-0.900798</td>\n",
              "      <td>-0.893626</td>\n",
              "      <td>0</td>\n",
              "    </tr>\n",
              "    <tr>\n",
              "      <th>2</th>\n",
              "      <td>-1.699254</td>\n",
              "      <td>1.348788</td>\n",
              "      <td>2.319000</td>\n",
              "      <td>6.171355</td>\n",
              "      <td>-2.146802</td>\n",
              "      <td>-0.984891</td>\n",
              "      <td>-0.889913</td>\n",
              "      <td>-1.071571</td>\n",
              "      <td>-0.985310</td>\n",
              "      <td>-0.934029</td>\n",
              "      <td>0</td>\n",
              "    </tr>\n",
              "    <tr>\n",
              "      <th>3</th>\n",
              "      <td>-1.975454</td>\n",
              "      <td>1.821837</td>\n",
              "      <td>-0.888877</td>\n",
              "      <td>0.868918</td>\n",
              "      <td>-3.438694</td>\n",
              "      <td>-1.081920</td>\n",
              "      <td>-0.894117</td>\n",
              "      <td>-1.143935</td>\n",
              "      <td>-1.055737</td>\n",
              "      <td>-0.947497</td>\n",
              "      <td>0</td>\n",
              "    </tr>\n",
              "    <tr>\n",
              "      <th>4</th>\n",
              "      <td>-1.423054</td>\n",
              "      <td>1.010896</td>\n",
              "      <td>0.180416</td>\n",
              "      <td>-0.381657</td>\n",
              "      <td>-0.910776</td>\n",
              "      <td>-0.944463</td>\n",
              "      <td>-0.740651</td>\n",
              "      <td>-0.854477</td>\n",
              "      <td>-0.900798</td>\n",
              "      <td>-0.880159</td>\n",
              "      <td>0</td>\n",
              "    </tr>\n",
              "    <tr>\n",
              "      <th>...</th>\n",
              "      <td>...</td>\n",
              "      <td>...</td>\n",
              "      <td>...</td>\n",
              "      <td>...</td>\n",
              "      <td>...</td>\n",
              "      <td>...</td>\n",
              "      <td>...</td>\n",
              "      <td>...</td>\n",
              "      <td>...</td>\n",
              "      <td>...</td>\n",
              "      <td>...</td>\n",
              "    </tr>\n",
              "    <tr>\n",
              "      <th>238</th>\n",
              "      <td>-0.594455</td>\n",
              "      <td>0.199954</td>\n",
              "      <td>-0.532446</td>\n",
              "      <td>-0.381657</td>\n",
              "      <td>0.527763</td>\n",
              "      <td>0.106678</td>\n",
              "      <td>-0.103661</td>\n",
              "      <td>-0.058467</td>\n",
              "      <td>0.014752</td>\n",
              "      <td>-0.072104</td>\n",
              "      <td>1</td>\n",
              "    </tr>\n",
              "    <tr>\n",
              "      <th>239</th>\n",
              "      <td>-1.146855</td>\n",
              "      <td>1.686680</td>\n",
              "      <td>-0.176015</td>\n",
              "      <td>1.819355</td>\n",
              "      <td>-2.565794</td>\n",
              "      <td>-0.661463</td>\n",
              "      <td>-0.870992</td>\n",
              "      <td>-1.119814</td>\n",
              "      <td>-0.738816</td>\n",
              "      <td>-0.947497</td>\n",
              "      <td>1</td>\n",
              "    </tr>\n",
              "    <tr>\n",
              "      <th>240</th>\n",
              "      <td>-1.423054</td>\n",
              "      <td>1.686680</td>\n",
              "      <td>4.814014</td>\n",
              "      <td>-0.131542</td>\n",
              "      <td>-2.230600</td>\n",
              "      <td>-0.904034</td>\n",
              "      <td>-0.873095</td>\n",
              "      <td>-1.047449</td>\n",
              "      <td>-0.936012</td>\n",
              "      <td>-0.920561</td>\n",
              "      <td>1</td>\n",
              "    </tr>\n",
              "    <tr>\n",
              "      <th>241</th>\n",
              "      <td>-2.251654</td>\n",
              "      <td>-0.543409</td>\n",
              "      <td>0.893277</td>\n",
              "      <td>-0.331634</td>\n",
              "      <td>0.129721</td>\n",
              "      <td>-0.839349</td>\n",
              "      <td>-0.719628</td>\n",
              "      <td>-0.733870</td>\n",
              "      <td>-0.816286</td>\n",
              "      <td>-0.853223</td>\n",
              "      <td>1</td>\n",
              "    </tr>\n",
              "    <tr>\n",
              "      <th>242</th>\n",
              "      <td>-2.251654</td>\n",
              "      <td>0.132376</td>\n",
              "      <td>-0.176015</td>\n",
              "      <td>-0.281611</td>\n",
              "      <td>-0.736196</td>\n",
              "      <td>-0.879777</td>\n",
              "      <td>-0.692299</td>\n",
              "      <td>-0.854477</td>\n",
              "      <td>-0.837414</td>\n",
              "      <td>-0.880159</td>\n",
              "      <td>1</td>\n",
              "    </tr>\n",
              "  </tbody>\n",
              "</table>\n",
              "<p>243 rows × 11 columns</p>\n",
              "</div>\n",
              "    <div class=\"colab-df-buttons\">\n",
              "\n",
              "  <div class=\"colab-df-container\">\n",
              "    <button class=\"colab-df-convert\" onclick=\"convertToInteractive('df-79fce6d3-3453-4624-a50f-976d2a37d82c')\"\n",
              "            title=\"Convert this dataframe to an interactive table.\"\n",
              "            style=\"display:none;\">\n",
              "\n",
              "  <svg xmlns=\"http://www.w3.org/2000/svg\" height=\"24px\" viewBox=\"0 -960 960 960\">\n",
              "    <path d=\"M120-120v-720h720v720H120Zm60-500h600v-160H180v160Zm220 220h160v-160H400v160Zm0 220h160v-160H400v160ZM180-400h160v-160H180v160Zm440 0h160v-160H620v160ZM180-180h160v-160H180v160Zm440 0h160v-160H620v160Z\"/>\n",
              "  </svg>\n",
              "    </button>\n",
              "\n",
              "  <style>\n",
              "    .colab-df-container {\n",
              "      display:flex;\n",
              "      gap: 12px;\n",
              "    }\n",
              "\n",
              "    .colab-df-convert {\n",
              "      background-color: #E8F0FE;\n",
              "      border: none;\n",
              "      border-radius: 50%;\n",
              "      cursor: pointer;\n",
              "      display: none;\n",
              "      fill: #1967D2;\n",
              "      height: 32px;\n",
              "      padding: 0 0 0 0;\n",
              "      width: 32px;\n",
              "    }\n",
              "\n",
              "    .colab-df-convert:hover {\n",
              "      background-color: #E2EBFA;\n",
              "      box-shadow: 0px 1px 2px rgba(60, 64, 67, 0.3), 0px 1px 3px 1px rgba(60, 64, 67, 0.15);\n",
              "      fill: #174EA6;\n",
              "    }\n",
              "\n",
              "    .colab-df-buttons div {\n",
              "      margin-bottom: 4px;\n",
              "    }\n",
              "\n",
              "    [theme=dark] .colab-df-convert {\n",
              "      background-color: #3B4455;\n",
              "      fill: #D2E3FC;\n",
              "    }\n",
              "\n",
              "    [theme=dark] .colab-df-convert:hover {\n",
              "      background-color: #434B5C;\n",
              "      box-shadow: 0px 1px 3px 1px rgba(0, 0, 0, 0.15);\n",
              "      filter: drop-shadow(0px 1px 2px rgba(0, 0, 0, 0.3));\n",
              "      fill: #FFFFFF;\n",
              "    }\n",
              "  </style>\n",
              "\n",
              "    <script>\n",
              "      const buttonEl =\n",
              "        document.querySelector('#df-79fce6d3-3453-4624-a50f-976d2a37d82c button.colab-df-convert');\n",
              "      buttonEl.style.display =\n",
              "        google.colab.kernel.accessAllowed ? 'block' : 'none';\n",
              "\n",
              "      async function convertToInteractive(key) {\n",
              "        const element = document.querySelector('#df-79fce6d3-3453-4624-a50f-976d2a37d82c');\n",
              "        const dataTable =\n",
              "          await google.colab.kernel.invokeFunction('convertToInteractive',\n",
              "                                                    [key], {});\n",
              "        if (!dataTable) return;\n",
              "\n",
              "        const docLinkHtml = 'Like what you see? Visit the ' +\n",
              "          '<a target=\"_blank\" href=https://colab.research.google.com/notebooks/data_table.ipynb>data table notebook</a>'\n",
              "          + ' to learn more about interactive tables.';\n",
              "        element.innerHTML = '';\n",
              "        dataTable['output_type'] = 'display_data';\n",
              "        await google.colab.output.renderOutput(dataTable, element);\n",
              "        const docLink = document.createElement('div');\n",
              "        docLink.innerHTML = docLinkHtml;\n",
              "        element.appendChild(docLink);\n",
              "      }\n",
              "    </script>\n",
              "  </div>\n",
              "\n",
              "\n",
              "<div id=\"df-97a81f2c-cae8-4c83-a475-cc31cc02e4e6\">\n",
              "  <button class=\"colab-df-quickchart\" onclick=\"quickchart('df-97a81f2c-cae8-4c83-a475-cc31cc02e4e6')\"\n",
              "            title=\"Suggest charts\"\n",
              "            style=\"display:none;\">\n",
              "\n",
              "<svg xmlns=\"http://www.w3.org/2000/svg\" height=\"24px\"viewBox=\"0 0 24 24\"\n",
              "     width=\"24px\">\n",
              "    <g>\n",
              "        <path d=\"M19 3H5c-1.1 0-2 .9-2 2v14c0 1.1.9 2 2 2h14c1.1 0 2-.9 2-2V5c0-1.1-.9-2-2-2zM9 17H7v-7h2v7zm4 0h-2V7h2v10zm4 0h-2v-4h2v4z\"/>\n",
              "    </g>\n",
              "</svg>\n",
              "  </button>\n",
              "\n",
              "<style>\n",
              "  .colab-df-quickchart {\n",
              "      --bg-color: #E8F0FE;\n",
              "      --fill-color: #1967D2;\n",
              "      --hover-bg-color: #E2EBFA;\n",
              "      --hover-fill-color: #174EA6;\n",
              "      --disabled-fill-color: #AAA;\n",
              "      --disabled-bg-color: #DDD;\n",
              "  }\n",
              "\n",
              "  [theme=dark] .colab-df-quickchart {\n",
              "      --bg-color: #3B4455;\n",
              "      --fill-color: #D2E3FC;\n",
              "      --hover-bg-color: #434B5C;\n",
              "      --hover-fill-color: #FFFFFF;\n",
              "      --disabled-bg-color: #3B4455;\n",
              "      --disabled-fill-color: #666;\n",
              "  }\n",
              "\n",
              "  .colab-df-quickchart {\n",
              "    background-color: var(--bg-color);\n",
              "    border: none;\n",
              "    border-radius: 50%;\n",
              "    cursor: pointer;\n",
              "    display: none;\n",
              "    fill: var(--fill-color);\n",
              "    height: 32px;\n",
              "    padding: 0;\n",
              "    width: 32px;\n",
              "  }\n",
              "\n",
              "  .colab-df-quickchart:hover {\n",
              "    background-color: var(--hover-bg-color);\n",
              "    box-shadow: 0 1px 2px rgba(60, 64, 67, 0.3), 0 1px 3px 1px rgba(60, 64, 67, 0.15);\n",
              "    fill: var(--button-hover-fill-color);\n",
              "  }\n",
              "\n",
              "  .colab-df-quickchart-complete:disabled,\n",
              "  .colab-df-quickchart-complete:disabled:hover {\n",
              "    background-color: var(--disabled-bg-color);\n",
              "    fill: var(--disabled-fill-color);\n",
              "    box-shadow: none;\n",
              "  }\n",
              "\n",
              "  .colab-df-spinner {\n",
              "    border: 2px solid var(--fill-color);\n",
              "    border-color: transparent;\n",
              "    border-bottom-color: var(--fill-color);\n",
              "    animation:\n",
              "      spin 1s steps(1) infinite;\n",
              "  }\n",
              "\n",
              "  @keyframes spin {\n",
              "    0% {\n",
              "      border-color: transparent;\n",
              "      border-bottom-color: var(--fill-color);\n",
              "      border-left-color: var(--fill-color);\n",
              "    }\n",
              "    20% {\n",
              "      border-color: transparent;\n",
              "      border-left-color: var(--fill-color);\n",
              "      border-top-color: var(--fill-color);\n",
              "    }\n",
              "    30% {\n",
              "      border-color: transparent;\n",
              "      border-left-color: var(--fill-color);\n",
              "      border-top-color: var(--fill-color);\n",
              "      border-right-color: var(--fill-color);\n",
              "    }\n",
              "    40% {\n",
              "      border-color: transparent;\n",
              "      border-right-color: var(--fill-color);\n",
              "      border-top-color: var(--fill-color);\n",
              "    }\n",
              "    60% {\n",
              "      border-color: transparent;\n",
              "      border-right-color: var(--fill-color);\n",
              "    }\n",
              "    80% {\n",
              "      border-color: transparent;\n",
              "      border-right-color: var(--fill-color);\n",
              "      border-bottom-color: var(--fill-color);\n",
              "    }\n",
              "    90% {\n",
              "      border-color: transparent;\n",
              "      border-bottom-color: var(--fill-color);\n",
              "    }\n",
              "  }\n",
              "</style>\n",
              "\n",
              "  <script>\n",
              "    async function quickchart(key) {\n",
              "      const quickchartButtonEl =\n",
              "        document.querySelector('#' + key + ' button');\n",
              "      quickchartButtonEl.disabled = true;  // To prevent multiple clicks.\n",
              "      quickchartButtonEl.classList.add('colab-df-spinner');\n",
              "      try {\n",
              "        const charts = await google.colab.kernel.invokeFunction(\n",
              "            'suggestCharts', [key], {});\n",
              "      } catch (error) {\n",
              "        console.error('Error during call to suggestCharts:', error);\n",
              "      }\n",
              "      quickchartButtonEl.classList.remove('colab-df-spinner');\n",
              "      quickchartButtonEl.classList.add('colab-df-quickchart-complete');\n",
              "    }\n",
              "    (() => {\n",
              "      let quickchartButtonEl =\n",
              "        document.querySelector('#df-97a81f2c-cae8-4c83-a475-cc31cc02e4e6 button');\n",
              "      quickchartButtonEl.style.display =\n",
              "        google.colab.kernel.accessAllowed ? 'block' : 'none';\n",
              "    })();\n",
              "  </script>\n",
              "</div>\n",
              "\n",
              "  <div id=\"id_313bb9da-a93e-4534-9f29-4297e250f64a\">\n",
              "    <style>\n",
              "      .colab-df-generate {\n",
              "        background-color: #E8F0FE;\n",
              "        border: none;\n",
              "        border-radius: 50%;\n",
              "        cursor: pointer;\n",
              "        display: none;\n",
              "        fill: #1967D2;\n",
              "        height: 32px;\n",
              "        padding: 0 0 0 0;\n",
              "        width: 32px;\n",
              "      }\n",
              "\n",
              "      .colab-df-generate:hover {\n",
              "        background-color: #E2EBFA;\n",
              "        box-shadow: 0px 1px 2px rgba(60, 64, 67, 0.3), 0px 1px 3px 1px rgba(60, 64, 67, 0.15);\n",
              "        fill: #174EA6;\n",
              "      }\n",
              "\n",
              "      [theme=dark] .colab-df-generate {\n",
              "        background-color: #3B4455;\n",
              "        fill: #D2E3FC;\n",
              "      }\n",
              "\n",
              "      [theme=dark] .colab-df-generate:hover {\n",
              "        background-color: #434B5C;\n",
              "        box-shadow: 0px 1px 3px 1px rgba(0, 0, 0, 0.15);\n",
              "        filter: drop-shadow(0px 1px 2px rgba(0, 0, 0, 0.3));\n",
              "        fill: #FFFFFF;\n",
              "      }\n",
              "    </style>\n",
              "    <button class=\"colab-df-generate\" onclick=\"generateWithVariable('final_df_log')\"\n",
              "            title=\"Generate code using this dataframe.\"\n",
              "            style=\"display:none;\">\n",
              "\n",
              "  <svg xmlns=\"http://www.w3.org/2000/svg\" height=\"24px\"viewBox=\"0 0 24 24\"\n",
              "       width=\"24px\">\n",
              "    <path d=\"M7,19H8.4L18.45,9,17,7.55,7,17.6ZM5,21V16.75L18.45,3.32a2,2,0,0,1,2.83,0l1.4,1.43a1.91,1.91,0,0,1,.58,1.4,1.91,1.91,0,0,1-.58,1.4L9.25,21ZM18.45,9,17,7.55Zm-12,3A5.31,5.31,0,0,0,4.9,8.1,5.31,5.31,0,0,0,1,6.5,5.31,5.31,0,0,0,4.9,4.9,5.31,5.31,0,0,0,6.5,1,5.31,5.31,0,0,0,8.1,4.9,5.31,5.31,0,0,0,12,6.5,5.46,5.46,0,0,0,6.5,12Z\"/>\n",
              "  </svg>\n",
              "    </button>\n",
              "    <script>\n",
              "      (() => {\n",
              "      const buttonEl =\n",
              "        document.querySelector('#id_313bb9da-a93e-4534-9f29-4297e250f64a button.colab-df-generate');\n",
              "      buttonEl.style.display =\n",
              "        google.colab.kernel.accessAllowed ? 'block' : 'none';\n",
              "\n",
              "      buttonEl.onclick = () => {\n",
              "        google.colab.notebook.generateWithVariable('final_df_log');\n",
              "      }\n",
              "      })();\n",
              "    </script>\n",
              "  </div>\n",
              "\n",
              "    </div>\n",
              "  </div>\n"
            ],
            "text/plain": [
              "     Temperature  Relative_Humidity  Wind_speed      Rain  \\\n",
              "0      -0.870655          -0.340673    0.893277 -0.381657   \n",
              "1      -0.870655          -0.070359   -0.888877  0.268642   \n",
              "2      -1.699254           1.348788    2.319000  6.171355   \n",
              "3      -1.975454           1.821837   -0.888877  0.868918   \n",
              "4      -1.423054           1.010896    0.180416 -0.381657   \n",
              "..           ...                ...         ...       ...   \n",
              "238    -0.594455           0.199954   -0.532446 -0.381657   \n",
              "239    -1.146855           1.686680   -0.176015  1.819355   \n",
              "240    -1.423054           1.686680    4.814014 -0.131542   \n",
              "241    -2.251654          -0.543409    0.893277 -0.331634   \n",
              "242    -2.251654           0.132376   -0.176015 -0.281611   \n",
              "\n",
              "     Fine_Fuel_Moisture_Code  Duff_Moisture_Code  Drought_Code  \\\n",
              "0                  -0.847927           -0.912120     -0.879401   \n",
              "1                  -0.938709           -0.855520     -0.879401   \n",
              "2                  -2.146802           -0.984891     -0.889913   \n",
              "3                  -3.438694           -1.081920     -0.894117   \n",
              "4                  -0.910776           -0.944463     -0.740651   \n",
              "..                       ...                 ...           ...   \n",
              "238                 0.527763            0.106678     -0.103661   \n",
              "239                -2.565794           -0.661463     -0.870992   \n",
              "240                -2.230600           -0.904034     -0.873095   \n",
              "241                 0.129721           -0.839349     -0.719628   \n",
              "242                -0.736196           -0.879777     -0.692299   \n",
              "\n",
              "     Initial_Spread_IDX  Buildup_IDX  Fire_Weather_IDX  Region  \n",
              "0             -0.830356    -0.936012         -0.880159       0  \n",
              "1             -0.902720    -0.900798         -0.893626       0  \n",
              "2             -1.071571    -0.985310         -0.934029       0  \n",
              "3             -1.143935    -1.055737         -0.947497       0  \n",
              "4             -0.854477    -0.900798         -0.880159       0  \n",
              "..                  ...          ...               ...     ...  \n",
              "238           -0.058467     0.014752         -0.072104       1  \n",
              "239           -1.119814    -0.738816         -0.947497       1  \n",
              "240           -1.047449    -0.936012         -0.920561       1  \n",
              "241           -0.733870    -0.816286         -0.853223       1  \n",
              "242           -0.854477    -0.837414         -0.880159       1  \n",
              "\n",
              "[243 rows x 11 columns]"
            ]
          },
          "execution_count": 64,
          "metadata": {},
          "output_type": "execute_result"
        }
      ],
      "source": [
        "final_df_log = pd.concat([df_sc_log_1, cat_col_log], axis = 1)\n",
        "final_df_log"
      ]
    },
    {
      "cell_type": "code",
      "execution_count": 65,
      "metadata": {
        "id": "7us3O6xRrDZC"
      },
      "outputs": [],
      "source": [
        "X_train, X_test, y_train, y_test = train_test_split(final_df_log, y, test_size = 0.25, random_state=42)"
      ]
    },
    {
      "cell_type": "code",
      "execution_count": 66,
      "metadata": {
        "colab": {
          "base_uri": "https://localhost:8080/",
          "height": 75
        },
        "id": "7rHi6co2rDb6",
        "outputId": "45a36e98-e6f7-4b54-fff4-9ee08b2907ab"
      },
      "outputs": [
        {
          "data": {
            "text/html": [
              "<style>#sk-container-id-3 {color: black;background-color: white;}#sk-container-id-3 pre{padding: 0;}#sk-container-id-3 div.sk-toggleable {background-color: white;}#sk-container-id-3 label.sk-toggleable__label {cursor: pointer;display: block;width: 100%;margin-bottom: 0;padding: 0.3em;box-sizing: border-box;text-align: center;}#sk-container-id-3 label.sk-toggleable__label-arrow:before {content: \"▸\";float: left;margin-right: 0.25em;color: #696969;}#sk-container-id-3 label.sk-toggleable__label-arrow:hover:before {color: black;}#sk-container-id-3 div.sk-estimator:hover label.sk-toggleable__label-arrow:before {color: black;}#sk-container-id-3 div.sk-toggleable__content {max-height: 0;max-width: 0;overflow: hidden;text-align: left;background-color: #f0f8ff;}#sk-container-id-3 div.sk-toggleable__content pre {margin: 0.2em;color: black;border-radius: 0.25em;background-color: #f0f8ff;}#sk-container-id-3 input.sk-toggleable__control:checked~div.sk-toggleable__content {max-height: 200px;max-width: 100%;overflow: auto;}#sk-container-id-3 input.sk-toggleable__control:checked~label.sk-toggleable__label-arrow:before {content: \"▾\";}#sk-container-id-3 div.sk-estimator input.sk-toggleable__control:checked~label.sk-toggleable__label {background-color: #d4ebff;}#sk-container-id-3 div.sk-label input.sk-toggleable__control:checked~label.sk-toggleable__label {background-color: #d4ebff;}#sk-container-id-3 input.sk-hidden--visually {border: 0;clip: rect(1px 1px 1px 1px);clip: rect(1px, 1px, 1px, 1px);height: 1px;margin: -1px;overflow: hidden;padding: 0;position: absolute;width: 1px;}#sk-container-id-3 div.sk-estimator {font-family: monospace;background-color: #f0f8ff;border: 1px dotted black;border-radius: 0.25em;box-sizing: border-box;margin-bottom: 0.5em;}#sk-container-id-3 div.sk-estimator:hover {background-color: #d4ebff;}#sk-container-id-3 div.sk-parallel-item::after {content: \"\";width: 100%;border-bottom: 1px solid gray;flex-grow: 1;}#sk-container-id-3 div.sk-label:hover label.sk-toggleable__label {background-color: #d4ebff;}#sk-container-id-3 div.sk-serial::before {content: \"\";position: absolute;border-left: 1px solid gray;box-sizing: border-box;top: 0;bottom: 0;left: 50%;z-index: 0;}#sk-container-id-3 div.sk-serial {display: flex;flex-direction: column;align-items: center;background-color: white;padding-right: 0.2em;padding-left: 0.2em;position: relative;}#sk-container-id-3 div.sk-item {position: relative;z-index: 1;}#sk-container-id-3 div.sk-parallel {display: flex;align-items: stretch;justify-content: center;background-color: white;position: relative;}#sk-container-id-3 div.sk-item::before, #sk-container-id-3 div.sk-parallel-item::before {content: \"\";position: absolute;border-left: 1px solid gray;box-sizing: border-box;top: 0;bottom: 0;left: 50%;z-index: -1;}#sk-container-id-3 div.sk-parallel-item {display: flex;flex-direction: column;z-index: 1;position: relative;background-color: white;}#sk-container-id-3 div.sk-parallel-item:first-child::after {align-self: flex-end;width: 50%;}#sk-container-id-3 div.sk-parallel-item:last-child::after {align-self: flex-start;width: 50%;}#sk-container-id-3 div.sk-parallel-item:only-child::after {width: 0;}#sk-container-id-3 div.sk-dashed-wrapped {border: 1px dashed gray;margin: 0 0.4em 0.5em 0.4em;box-sizing: border-box;padding-bottom: 0.4em;background-color: white;}#sk-container-id-3 div.sk-label label {font-family: monospace;font-weight: bold;display: inline-block;line-height: 1.2em;}#sk-container-id-3 div.sk-label-container {text-align: center;}#sk-container-id-3 div.sk-container {/* jupyter's `normalize.less` sets `[hidden] { display: none; }` but bootstrap.min.css set `[hidden] { display: none !important; }` so we also need the `!important` here to be able to override the default hidden behavior on the sphinx rendered scikit-learn.org. See: https://github.com/scikit-learn/scikit-learn/issues/21755 */display: inline-block !important;position: relative;}#sk-container-id-3 div.sk-text-repr-fallback {display: none;}</style><div id=\"sk-container-id-3\" class=\"sk-top-container\"><div class=\"sk-text-repr-fallback\"><pre>LogisticRegression(solver=&#x27;liblinear&#x27;)</pre><b>In a Jupyter environment, please rerun this cell to show the HTML representation or trust the notebook. <br />On GitHub, the HTML representation is unable to render, please try loading this page with nbviewer.org.</b></div><div class=\"sk-container\" hidden><div class=\"sk-item\"><div class=\"sk-estimator sk-toggleable\"><input class=\"sk-toggleable__control sk-hidden--visually\" id=\"sk-estimator-id-3\" type=\"checkbox\" checked><label for=\"sk-estimator-id-3\" class=\"sk-toggleable__label sk-toggleable__label-arrow\">LogisticRegression</label><div class=\"sk-toggleable__content\"><pre>LogisticRegression(solver=&#x27;liblinear&#x27;)</pre></div></div></div></div></div>"
            ],
            "text/plain": [
              "LogisticRegression(solver='liblinear')"
            ]
          },
          "execution_count": 66,
          "metadata": {},
          "output_type": "execute_result"
        }
      ],
      "source": [
        "# Model Building\n",
        "log_reg = LogisticRegression(solver='liblinear')\n",
        "log_reg.fit(X_train,y_train)"
      ]
    },
    {
      "cell_type": "code",
      "execution_count": 67,
      "metadata": {
        "id": "PzsZee5MrDjH"
      },
      "outputs": [],
      "source": [
        "y_pred_log = log_reg.predict(X_test)"
      ]
    },
    {
      "cell_type": "code",
      "execution_count": 68,
      "metadata": {
        "colab": {
          "base_uri": "https://localhost:8080/"
        },
        "id": "FumFDh6KrDmI",
        "outputId": "1ed54876-0a09-4097-b2a9-c36a5b1c0a6f"
      },
      "outputs": [
        {
          "data": {
            "text/plain": [
              "0.9508196721311475"
            ]
          },
          "execution_count": 68,
          "metadata": {},
          "output_type": "execute_result"
        }
      ],
      "source": [
        "accuracy_score(y_test,y_pred_log)"
      ]
    },
    {
      "cell_type": "markdown",
      "metadata": {
        "id": "DMrITxvMrvhq"
      },
      "source": []
    },
    {
      "cell_type": "markdown",
      "metadata": {
        "id": "qmQiZDLixLoc"
      },
      "source": [
        "## **GridSearch for Logistic Regression**"
      ]
    },
    {
      "cell_type": "code",
      "execution_count": 69,
      "metadata": {
        "id": "tDIj2YVZrx0O"
      },
      "outputs": [],
      "source": [
        "parameter_log = {'C':[0.01,0.1,1,5,100],\n",
        "           'penalty':['l1','l2', 'elasticnet']}"
      ]
    },
    {
      "cell_type": "code",
      "execution_count": 70,
      "metadata": {
        "colab": {
          "base_uri": "https://localhost:8080/",
          "height": 137
        },
        "id": "LWgKCAPZrx3E",
        "outputId": "35b06a4e-c175-449d-e412-03d56a5b0f47"
      },
      "outputs": [
        {
          "name": "stdout",
          "output_type": "stream",
          "text": [
            "Fitting 5 folds for each of 15 candidates, totalling 75 fits\n"
          ]
        },
        {
          "data": {
            "text/html": [
              "<style>#sk-container-id-4 {color: black;background-color: white;}#sk-container-id-4 pre{padding: 0;}#sk-container-id-4 div.sk-toggleable {background-color: white;}#sk-container-id-4 label.sk-toggleable__label {cursor: pointer;display: block;width: 100%;margin-bottom: 0;padding: 0.3em;box-sizing: border-box;text-align: center;}#sk-container-id-4 label.sk-toggleable__label-arrow:before {content: \"▸\";float: left;margin-right: 0.25em;color: #696969;}#sk-container-id-4 label.sk-toggleable__label-arrow:hover:before {color: black;}#sk-container-id-4 div.sk-estimator:hover label.sk-toggleable__label-arrow:before {color: black;}#sk-container-id-4 div.sk-toggleable__content {max-height: 0;max-width: 0;overflow: hidden;text-align: left;background-color: #f0f8ff;}#sk-container-id-4 div.sk-toggleable__content pre {margin: 0.2em;color: black;border-radius: 0.25em;background-color: #f0f8ff;}#sk-container-id-4 input.sk-toggleable__control:checked~div.sk-toggleable__content {max-height: 200px;max-width: 100%;overflow: auto;}#sk-container-id-4 input.sk-toggleable__control:checked~label.sk-toggleable__label-arrow:before {content: \"▾\";}#sk-container-id-4 div.sk-estimator input.sk-toggleable__control:checked~label.sk-toggleable__label {background-color: #d4ebff;}#sk-container-id-4 div.sk-label input.sk-toggleable__control:checked~label.sk-toggleable__label {background-color: #d4ebff;}#sk-container-id-4 input.sk-hidden--visually {border: 0;clip: rect(1px 1px 1px 1px);clip: rect(1px, 1px, 1px, 1px);height: 1px;margin: -1px;overflow: hidden;padding: 0;position: absolute;width: 1px;}#sk-container-id-4 div.sk-estimator {font-family: monospace;background-color: #f0f8ff;border: 1px dotted black;border-radius: 0.25em;box-sizing: border-box;margin-bottom: 0.5em;}#sk-container-id-4 div.sk-estimator:hover {background-color: #d4ebff;}#sk-container-id-4 div.sk-parallel-item::after {content: \"\";width: 100%;border-bottom: 1px solid gray;flex-grow: 1;}#sk-container-id-4 div.sk-label:hover label.sk-toggleable__label {background-color: #d4ebff;}#sk-container-id-4 div.sk-serial::before {content: \"\";position: absolute;border-left: 1px solid gray;box-sizing: border-box;top: 0;bottom: 0;left: 50%;z-index: 0;}#sk-container-id-4 div.sk-serial {display: flex;flex-direction: column;align-items: center;background-color: white;padding-right: 0.2em;padding-left: 0.2em;position: relative;}#sk-container-id-4 div.sk-item {position: relative;z-index: 1;}#sk-container-id-4 div.sk-parallel {display: flex;align-items: stretch;justify-content: center;background-color: white;position: relative;}#sk-container-id-4 div.sk-item::before, #sk-container-id-4 div.sk-parallel-item::before {content: \"\";position: absolute;border-left: 1px solid gray;box-sizing: border-box;top: 0;bottom: 0;left: 50%;z-index: -1;}#sk-container-id-4 div.sk-parallel-item {display: flex;flex-direction: column;z-index: 1;position: relative;background-color: white;}#sk-container-id-4 div.sk-parallel-item:first-child::after {align-self: flex-end;width: 50%;}#sk-container-id-4 div.sk-parallel-item:last-child::after {align-self: flex-start;width: 50%;}#sk-container-id-4 div.sk-parallel-item:only-child::after {width: 0;}#sk-container-id-4 div.sk-dashed-wrapped {border: 1px dashed gray;margin: 0 0.4em 0.5em 0.4em;box-sizing: border-box;padding-bottom: 0.4em;background-color: white;}#sk-container-id-4 div.sk-label label {font-family: monospace;font-weight: bold;display: inline-block;line-height: 1.2em;}#sk-container-id-4 div.sk-label-container {text-align: center;}#sk-container-id-4 div.sk-container {/* jupyter's `normalize.less` sets `[hidden] { display: none; }` but bootstrap.min.css set `[hidden] { display: none !important; }` so we also need the `!important` here to be able to override the default hidden behavior on the sphinx rendered scikit-learn.org. See: https://github.com/scikit-learn/scikit-learn/issues/21755 */display: inline-block !important;position: relative;}#sk-container-id-4 div.sk-text-repr-fallback {display: none;}</style><div id=\"sk-container-id-4\" class=\"sk-top-container\"><div class=\"sk-text-repr-fallback\"><pre>GridSearchCV(cv=5, estimator=LogisticRegression(solver=&#x27;liblinear&#x27;), n_jobs=-1,\n",
              "             param_grid={&#x27;C&#x27;: [0.01, 0.1, 1, 5, 100],\n",
              "                         &#x27;penalty&#x27;: [&#x27;l1&#x27;, &#x27;l2&#x27;, &#x27;elasticnet&#x27;]},\n",
              "             scoring=&#x27;precision&#x27;, verbose=2)</pre><b>In a Jupyter environment, please rerun this cell to show the HTML representation or trust the notebook. <br />On GitHub, the HTML representation is unable to render, please try loading this page with nbviewer.org.</b></div><div class=\"sk-container\" hidden><div class=\"sk-item sk-dashed-wrapped\"><div class=\"sk-label-container\"><div class=\"sk-label sk-toggleable\"><input class=\"sk-toggleable__control sk-hidden--visually\" id=\"sk-estimator-id-4\" type=\"checkbox\" ><label for=\"sk-estimator-id-4\" class=\"sk-toggleable__label sk-toggleable__label-arrow\">GridSearchCV</label><div class=\"sk-toggleable__content\"><pre>GridSearchCV(cv=5, estimator=LogisticRegression(solver=&#x27;liblinear&#x27;), n_jobs=-1,\n",
              "             param_grid={&#x27;C&#x27;: [0.01, 0.1, 1, 5, 100],\n",
              "                         &#x27;penalty&#x27;: [&#x27;l1&#x27;, &#x27;l2&#x27;, &#x27;elasticnet&#x27;]},\n",
              "             scoring=&#x27;precision&#x27;, verbose=2)</pre></div></div></div><div class=\"sk-parallel\"><div class=\"sk-parallel-item\"><div class=\"sk-item\"><div class=\"sk-label-container\"><div class=\"sk-label sk-toggleable\"><input class=\"sk-toggleable__control sk-hidden--visually\" id=\"sk-estimator-id-5\" type=\"checkbox\" ><label for=\"sk-estimator-id-5\" class=\"sk-toggleable__label sk-toggleable__label-arrow\">estimator: LogisticRegression</label><div class=\"sk-toggleable__content\"><pre>LogisticRegression(solver=&#x27;liblinear&#x27;)</pre></div></div></div><div class=\"sk-serial\"><div class=\"sk-item\"><div class=\"sk-estimator sk-toggleable\"><input class=\"sk-toggleable__control sk-hidden--visually\" id=\"sk-estimator-id-6\" type=\"checkbox\" ><label for=\"sk-estimator-id-6\" class=\"sk-toggleable__label sk-toggleable__label-arrow\">LogisticRegression</label><div class=\"sk-toggleable__content\"><pre>LogisticRegression(solver=&#x27;liblinear&#x27;)</pre></div></div></div></div></div></div></div></div></div></div>"
            ],
            "text/plain": [
              "GridSearchCV(cv=5, estimator=LogisticRegression(solver='liblinear'), n_jobs=-1,\n",
              "             param_grid={'C': [0.01, 0.1, 1, 5, 100],\n",
              "                         'penalty': ['l1', 'l2', 'elasticnet']},\n",
              "             scoring='precision', verbose=2)"
            ]
          },
          "execution_count": 70,
          "metadata": {},
          "output_type": "execute_result"
        }
      ],
      "source": [
        "grid_log = GridSearchCV(log_reg, param_grid = parameter_log, cv=5, verbose=2, n_jobs=-1, scoring='precision')\n",
        "grid_log.fit(X_train,y_train)"
      ]
    },
    {
      "cell_type": "code",
      "execution_count": 71,
      "metadata": {
        "colab": {
          "base_uri": "https://localhost:8080/"
        },
        "id": "VVN9Q2c3rx6I",
        "outputId": "ccd577e7-8512-4c3c-d526-5516fd6821b1"
      },
      "outputs": [
        {
          "name": "stdout",
          "output_type": "stream",
          "text": [
            "GridSearch for logistic Regression:\n",
            "\n",
            "Best Parameters are: {'C': 0.01, 'penalty': 'l1'}\n",
            "\n",
            "Best Parameters are: nan\n",
            "\n",
            " Prescion Score is: 0.9565217391304348\n"
          ]
        }
      ],
      "source": [
        "ps = precision_score(y_test,y_pred_log, pos_label='fire')\n",
        "\n",
        "print('GridSearch for logistic Regression:\\n')\n",
        "print(f'Best Parameters are: {grid_log.best_params_}')\n",
        "print(f'\\nBest Parameters are: {grid_log.best_score_}')\n",
        "print(f'\\n Prescion Score is: {ps}')"
      ]
    },
    {
      "cell_type": "markdown",
      "metadata": {
        "id": "bu9Hk1M4sE5e"
      },
      "source": []
    },
    {
      "cell_type": "markdown",
      "metadata": {
        "id": "YeldXmIOxXwB"
      },
      "source": [
        "## **RandomizedSearch for Logistic Regression**"
      ]
    },
    {
      "cell_type": "code",
      "execution_count": 72,
      "metadata": {
        "colab": {
          "base_uri": "https://localhost:8080/",
          "height": 137
        },
        "id": "gNFjlAp5rx8q",
        "outputId": "5c388896-8e02-44bb-8ab2-d88beb8ee539"
      },
      "outputs": [
        {
          "name": "stdout",
          "output_type": "stream",
          "text": [
            "Fitting 5 folds for each of 10 candidates, totalling 50 fits\n"
          ]
        },
        {
          "data": {
            "text/html": [
              "<style>#sk-container-id-5 {color: black;background-color: white;}#sk-container-id-5 pre{padding: 0;}#sk-container-id-5 div.sk-toggleable {background-color: white;}#sk-container-id-5 label.sk-toggleable__label {cursor: pointer;display: block;width: 100%;margin-bottom: 0;padding: 0.3em;box-sizing: border-box;text-align: center;}#sk-container-id-5 label.sk-toggleable__label-arrow:before {content: \"▸\";float: left;margin-right: 0.25em;color: #696969;}#sk-container-id-5 label.sk-toggleable__label-arrow:hover:before {color: black;}#sk-container-id-5 div.sk-estimator:hover label.sk-toggleable__label-arrow:before {color: black;}#sk-container-id-5 div.sk-toggleable__content {max-height: 0;max-width: 0;overflow: hidden;text-align: left;background-color: #f0f8ff;}#sk-container-id-5 div.sk-toggleable__content pre {margin: 0.2em;color: black;border-radius: 0.25em;background-color: #f0f8ff;}#sk-container-id-5 input.sk-toggleable__control:checked~div.sk-toggleable__content {max-height: 200px;max-width: 100%;overflow: auto;}#sk-container-id-5 input.sk-toggleable__control:checked~label.sk-toggleable__label-arrow:before {content: \"▾\";}#sk-container-id-5 div.sk-estimator input.sk-toggleable__control:checked~label.sk-toggleable__label {background-color: #d4ebff;}#sk-container-id-5 div.sk-label input.sk-toggleable__control:checked~label.sk-toggleable__label {background-color: #d4ebff;}#sk-container-id-5 input.sk-hidden--visually {border: 0;clip: rect(1px 1px 1px 1px);clip: rect(1px, 1px, 1px, 1px);height: 1px;margin: -1px;overflow: hidden;padding: 0;position: absolute;width: 1px;}#sk-container-id-5 div.sk-estimator {font-family: monospace;background-color: #f0f8ff;border: 1px dotted black;border-radius: 0.25em;box-sizing: border-box;margin-bottom: 0.5em;}#sk-container-id-5 div.sk-estimator:hover {background-color: #d4ebff;}#sk-container-id-5 div.sk-parallel-item::after {content: \"\";width: 100%;border-bottom: 1px solid gray;flex-grow: 1;}#sk-container-id-5 div.sk-label:hover label.sk-toggleable__label {background-color: #d4ebff;}#sk-container-id-5 div.sk-serial::before {content: \"\";position: absolute;border-left: 1px solid gray;box-sizing: border-box;top: 0;bottom: 0;left: 50%;z-index: 0;}#sk-container-id-5 div.sk-serial {display: flex;flex-direction: column;align-items: center;background-color: white;padding-right: 0.2em;padding-left: 0.2em;position: relative;}#sk-container-id-5 div.sk-item {position: relative;z-index: 1;}#sk-container-id-5 div.sk-parallel {display: flex;align-items: stretch;justify-content: center;background-color: white;position: relative;}#sk-container-id-5 div.sk-item::before, #sk-container-id-5 div.sk-parallel-item::before {content: \"\";position: absolute;border-left: 1px solid gray;box-sizing: border-box;top: 0;bottom: 0;left: 50%;z-index: -1;}#sk-container-id-5 div.sk-parallel-item {display: flex;flex-direction: column;z-index: 1;position: relative;background-color: white;}#sk-container-id-5 div.sk-parallel-item:first-child::after {align-self: flex-end;width: 50%;}#sk-container-id-5 div.sk-parallel-item:last-child::after {align-self: flex-start;width: 50%;}#sk-container-id-5 div.sk-parallel-item:only-child::after {width: 0;}#sk-container-id-5 div.sk-dashed-wrapped {border: 1px dashed gray;margin: 0 0.4em 0.5em 0.4em;box-sizing: border-box;padding-bottom: 0.4em;background-color: white;}#sk-container-id-5 div.sk-label label {font-family: monospace;font-weight: bold;display: inline-block;line-height: 1.2em;}#sk-container-id-5 div.sk-label-container {text-align: center;}#sk-container-id-5 div.sk-container {/* jupyter's `normalize.less` sets `[hidden] { display: none; }` but bootstrap.min.css set `[hidden] { display: none !important; }` so we also need the `!important` here to be able to override the default hidden behavior on the sphinx rendered scikit-learn.org. See: https://github.com/scikit-learn/scikit-learn/issues/21755 */display: inline-block !important;position: relative;}#sk-container-id-5 div.sk-text-repr-fallback {display: none;}</style><div id=\"sk-container-id-5\" class=\"sk-top-container\"><div class=\"sk-text-repr-fallback\"><pre>RandomizedSearchCV(cv=5, estimator=LogisticRegression(solver=&#x27;liblinear&#x27;),\n",
              "                   n_jobs=-1,\n",
              "                   param_distributions={&#x27;C&#x27;: [0.01, 0.1, 1, 5, 100],\n",
              "                                        &#x27;penalty&#x27;: [&#x27;l1&#x27;, &#x27;l2&#x27;, &#x27;elasticnet&#x27;]},\n",
              "                   verbose=2)</pre><b>In a Jupyter environment, please rerun this cell to show the HTML representation or trust the notebook. <br />On GitHub, the HTML representation is unable to render, please try loading this page with nbviewer.org.</b></div><div class=\"sk-container\" hidden><div class=\"sk-item sk-dashed-wrapped\"><div class=\"sk-label-container\"><div class=\"sk-label sk-toggleable\"><input class=\"sk-toggleable__control sk-hidden--visually\" id=\"sk-estimator-id-7\" type=\"checkbox\" ><label for=\"sk-estimator-id-7\" class=\"sk-toggleable__label sk-toggleable__label-arrow\">RandomizedSearchCV</label><div class=\"sk-toggleable__content\"><pre>RandomizedSearchCV(cv=5, estimator=LogisticRegression(solver=&#x27;liblinear&#x27;),\n",
              "                   n_jobs=-1,\n",
              "                   param_distributions={&#x27;C&#x27;: [0.01, 0.1, 1, 5, 100],\n",
              "                                        &#x27;penalty&#x27;: [&#x27;l1&#x27;, &#x27;l2&#x27;, &#x27;elasticnet&#x27;]},\n",
              "                   verbose=2)</pre></div></div></div><div class=\"sk-parallel\"><div class=\"sk-parallel-item\"><div class=\"sk-item\"><div class=\"sk-label-container\"><div class=\"sk-label sk-toggleable\"><input class=\"sk-toggleable__control sk-hidden--visually\" id=\"sk-estimator-id-8\" type=\"checkbox\" ><label for=\"sk-estimator-id-8\" class=\"sk-toggleable__label sk-toggleable__label-arrow\">estimator: LogisticRegression</label><div class=\"sk-toggleable__content\"><pre>LogisticRegression(solver=&#x27;liblinear&#x27;)</pre></div></div></div><div class=\"sk-serial\"><div class=\"sk-item\"><div class=\"sk-estimator sk-toggleable\"><input class=\"sk-toggleable__control sk-hidden--visually\" id=\"sk-estimator-id-9\" type=\"checkbox\" ><label for=\"sk-estimator-id-9\" class=\"sk-toggleable__label sk-toggleable__label-arrow\">LogisticRegression</label><div class=\"sk-toggleable__content\"><pre>LogisticRegression(solver=&#x27;liblinear&#x27;)</pre></div></div></div></div></div></div></div></div></div></div>"
            ],
            "text/plain": [
              "RandomizedSearchCV(cv=5, estimator=LogisticRegression(solver='liblinear'),\n",
              "                   n_jobs=-1,\n",
              "                   param_distributions={'C': [0.01, 0.1, 1, 5, 100],\n",
              "                                        'penalty': ['l1', 'l2', 'elasticnet']},\n",
              "                   verbose=2)"
            ]
          },
          "execution_count": 72,
          "metadata": {},
          "output_type": "execute_result"
        }
      ],
      "source": [
        "rand = RandomizedSearchCV(log_reg, param_distributions=parameter_log, cv=5, verbose=2, n_jobs=-1, n_iter=10)\n",
        "rand.fit(X_train,y_train)"
      ]
    },
    {
      "cell_type": "code",
      "execution_count": 73,
      "metadata": {
        "colab": {
          "base_uri": "https://localhost:8080/"
        },
        "id": "Z7ONBVBzryAj",
        "outputId": "b23eb5c3-6a6d-4a96-a8c0-41b1ed246e07"
      },
      "outputs": [
        {
          "name": "stdout",
          "output_type": "stream",
          "text": [
            "RandomizedSearch for logistic Regression:\n",
            "\n",
            "Best Parameters are: {'penalty': 'l1', 'C': 1}\n",
            "\n",
            "Best Score is: 0.978078078078078\n"
          ]
        }
      ],
      "source": [
        "print('RandomizedSearch for logistic Regression:\\n')\n",
        "print(f'Best Parameters are: {rand.best_params_}')\n",
        "print(f'\\nBest Score is: {rand.best_score_}')"
      ]
    },
    {
      "cell_type": "markdown",
      "metadata": {
        "id": "w-uuJpIKsSlr"
      },
      "source": []
    },
    {
      "cell_type": "markdown",
      "metadata": {
        "id": "is7H-GC-xnLy"
      },
      "source": [
        "## **Using SMOTE to overcome Imbalance**"
      ]
    },
    {
      "cell_type": "code",
      "execution_count": 74,
      "metadata": {
        "colab": {
          "base_uri": "https://localhost:8080/"
        },
        "id": "qnKfKlVbryDX",
        "outputId": "68b6a2ea-9dfb-4b06-d609-e1999ac463c6"
      },
      "outputs": [
        {
          "data": {
            "text/plain": [
              "Classes\n",
              "0    137\n",
              "1    106\n",
              "Name: count, dtype: int64"
            ]
          },
          "execution_count": 74,
          "metadata": {},
          "output_type": "execute_result"
        }
      ],
      "source": [
        "df['Classes'].value_counts()"
      ]
    },
    {
      "cell_type": "code",
      "execution_count": 75,
      "metadata": {
        "id": "XNRv_HwNsa8K"
      },
      "outputs": [],
      "source": [
        "sm=SMOTE()\n",
        "\n",
        "X_train_sm, y_train_sm = sm.fit_resample(X_train,y_train)"
      ]
    },
    {
      "cell_type": "code",
      "execution_count": 76,
      "metadata": {
        "colab": {
          "base_uri": "https://localhost:8080/"
        },
        "id": "HpefrgcysbEO",
        "outputId": "dba8d769-042f-492f-e27a-1c83fabdbfc5"
      },
      "outputs": [
        {
          "data": {
            "text/plain": [
              "Classes\n",
              "not fire    100\n",
              "fire         82\n",
              "Name: count, dtype: int64"
            ]
          },
          "execution_count": 76,
          "metadata": {},
          "output_type": "execute_result"
        }
      ],
      "source": [
        "y_train.value_counts()"
      ]
    },
    {
      "cell_type": "code",
      "execution_count": 77,
      "metadata": {
        "colab": {
          "base_uri": "https://localhost:8080/"
        },
        "id": "AWunuIU6sbaG",
        "outputId": "c0daa7c2-ada9-4585-97a1-08187731ee1b"
      },
      "outputs": [
        {
          "data": {
            "text/plain": [
              "Classes\n",
              "fire        100\n",
              "not fire    100\n",
              "Name: count, dtype: int64"
            ]
          },
          "execution_count": 77,
          "metadata": {},
          "output_type": "execute_result"
        }
      ],
      "source": [
        "y_train_sm.value_counts()"
      ]
    },
    {
      "cell_type": "markdown",
      "metadata": {
        "id": "TzxzRS5fsq2m"
      },
      "source": []
    },
    {
      "cell_type": "markdown",
      "metadata": {
        "id": "zLXdQrpCyLZc"
      },
      "source": [
        "## **GridSearch with SMOTE**"
      ]
    },
    {
      "cell_type": "code",
      "execution_count": 78,
      "metadata": {
        "colab": {
          "base_uri": "https://localhost:8080/",
          "height": 137
        },
        "id": "L0Uys7iNsbc5",
        "outputId": "27275508-bbb1-4171-95d9-63d67158384d"
      },
      "outputs": [
        {
          "name": "stdout",
          "output_type": "stream",
          "text": [
            "Fitting 5 folds for each of 15 candidates, totalling 75 fits\n"
          ]
        },
        {
          "data": {
            "text/html": [
              "<style>#sk-container-id-6 {color: black;background-color: white;}#sk-container-id-6 pre{padding: 0;}#sk-container-id-6 div.sk-toggleable {background-color: white;}#sk-container-id-6 label.sk-toggleable__label {cursor: pointer;display: block;width: 100%;margin-bottom: 0;padding: 0.3em;box-sizing: border-box;text-align: center;}#sk-container-id-6 label.sk-toggleable__label-arrow:before {content: \"▸\";float: left;margin-right: 0.25em;color: #696969;}#sk-container-id-6 label.sk-toggleable__label-arrow:hover:before {color: black;}#sk-container-id-6 div.sk-estimator:hover label.sk-toggleable__label-arrow:before {color: black;}#sk-container-id-6 div.sk-toggleable__content {max-height: 0;max-width: 0;overflow: hidden;text-align: left;background-color: #f0f8ff;}#sk-container-id-6 div.sk-toggleable__content pre {margin: 0.2em;color: black;border-radius: 0.25em;background-color: #f0f8ff;}#sk-container-id-6 input.sk-toggleable__control:checked~div.sk-toggleable__content {max-height: 200px;max-width: 100%;overflow: auto;}#sk-container-id-6 input.sk-toggleable__control:checked~label.sk-toggleable__label-arrow:before {content: \"▾\";}#sk-container-id-6 div.sk-estimator input.sk-toggleable__control:checked~label.sk-toggleable__label {background-color: #d4ebff;}#sk-container-id-6 div.sk-label input.sk-toggleable__control:checked~label.sk-toggleable__label {background-color: #d4ebff;}#sk-container-id-6 input.sk-hidden--visually {border: 0;clip: rect(1px 1px 1px 1px);clip: rect(1px, 1px, 1px, 1px);height: 1px;margin: -1px;overflow: hidden;padding: 0;position: absolute;width: 1px;}#sk-container-id-6 div.sk-estimator {font-family: monospace;background-color: #f0f8ff;border: 1px dotted black;border-radius: 0.25em;box-sizing: border-box;margin-bottom: 0.5em;}#sk-container-id-6 div.sk-estimator:hover {background-color: #d4ebff;}#sk-container-id-6 div.sk-parallel-item::after {content: \"\";width: 100%;border-bottom: 1px solid gray;flex-grow: 1;}#sk-container-id-6 div.sk-label:hover label.sk-toggleable__label {background-color: #d4ebff;}#sk-container-id-6 div.sk-serial::before {content: \"\";position: absolute;border-left: 1px solid gray;box-sizing: border-box;top: 0;bottom: 0;left: 50%;z-index: 0;}#sk-container-id-6 div.sk-serial {display: flex;flex-direction: column;align-items: center;background-color: white;padding-right: 0.2em;padding-left: 0.2em;position: relative;}#sk-container-id-6 div.sk-item {position: relative;z-index: 1;}#sk-container-id-6 div.sk-parallel {display: flex;align-items: stretch;justify-content: center;background-color: white;position: relative;}#sk-container-id-6 div.sk-item::before, #sk-container-id-6 div.sk-parallel-item::before {content: \"\";position: absolute;border-left: 1px solid gray;box-sizing: border-box;top: 0;bottom: 0;left: 50%;z-index: -1;}#sk-container-id-6 div.sk-parallel-item {display: flex;flex-direction: column;z-index: 1;position: relative;background-color: white;}#sk-container-id-6 div.sk-parallel-item:first-child::after {align-self: flex-end;width: 50%;}#sk-container-id-6 div.sk-parallel-item:last-child::after {align-self: flex-start;width: 50%;}#sk-container-id-6 div.sk-parallel-item:only-child::after {width: 0;}#sk-container-id-6 div.sk-dashed-wrapped {border: 1px dashed gray;margin: 0 0.4em 0.5em 0.4em;box-sizing: border-box;padding-bottom: 0.4em;background-color: white;}#sk-container-id-6 div.sk-label label {font-family: monospace;font-weight: bold;display: inline-block;line-height: 1.2em;}#sk-container-id-6 div.sk-label-container {text-align: center;}#sk-container-id-6 div.sk-container {/* jupyter's `normalize.less` sets `[hidden] { display: none; }` but bootstrap.min.css set `[hidden] { display: none !important; }` so we also need the `!important` here to be able to override the default hidden behavior on the sphinx rendered scikit-learn.org. See: https://github.com/scikit-learn/scikit-learn/issues/21755 */display: inline-block !important;position: relative;}#sk-container-id-6 div.sk-text-repr-fallback {display: none;}</style><div id=\"sk-container-id-6\" class=\"sk-top-container\"><div class=\"sk-text-repr-fallback\"><pre>GridSearchCV(cv=5, estimator=LogisticRegression(solver=&#x27;liblinear&#x27;), n_jobs=-1,\n",
              "             param_grid={&#x27;C&#x27;: [0.01, 0.1, 1, 5, 100],\n",
              "                         &#x27;penalty&#x27;: [&#x27;l1&#x27;, &#x27;l2&#x27;, &#x27;elasticnet&#x27;]},\n",
              "             scoring=&#x27;precision&#x27;, verbose=2)</pre><b>In a Jupyter environment, please rerun this cell to show the HTML representation or trust the notebook. <br />On GitHub, the HTML representation is unable to render, please try loading this page with nbviewer.org.</b></div><div class=\"sk-container\" hidden><div class=\"sk-item sk-dashed-wrapped\"><div class=\"sk-label-container\"><div class=\"sk-label sk-toggleable\"><input class=\"sk-toggleable__control sk-hidden--visually\" id=\"sk-estimator-id-10\" type=\"checkbox\" ><label for=\"sk-estimator-id-10\" class=\"sk-toggleable__label sk-toggleable__label-arrow\">GridSearchCV</label><div class=\"sk-toggleable__content\"><pre>GridSearchCV(cv=5, estimator=LogisticRegression(solver=&#x27;liblinear&#x27;), n_jobs=-1,\n",
              "             param_grid={&#x27;C&#x27;: [0.01, 0.1, 1, 5, 100],\n",
              "                         &#x27;penalty&#x27;: [&#x27;l1&#x27;, &#x27;l2&#x27;, &#x27;elasticnet&#x27;]},\n",
              "             scoring=&#x27;precision&#x27;, verbose=2)</pre></div></div></div><div class=\"sk-parallel\"><div class=\"sk-parallel-item\"><div class=\"sk-item\"><div class=\"sk-label-container\"><div class=\"sk-label sk-toggleable\"><input class=\"sk-toggleable__control sk-hidden--visually\" id=\"sk-estimator-id-11\" type=\"checkbox\" ><label for=\"sk-estimator-id-11\" class=\"sk-toggleable__label sk-toggleable__label-arrow\">estimator: LogisticRegression</label><div class=\"sk-toggleable__content\"><pre>LogisticRegression(solver=&#x27;liblinear&#x27;)</pre></div></div></div><div class=\"sk-serial\"><div class=\"sk-item\"><div class=\"sk-estimator sk-toggleable\"><input class=\"sk-toggleable__control sk-hidden--visually\" id=\"sk-estimator-id-12\" type=\"checkbox\" ><label for=\"sk-estimator-id-12\" class=\"sk-toggleable__label sk-toggleable__label-arrow\">LogisticRegression</label><div class=\"sk-toggleable__content\"><pre>LogisticRegression(solver=&#x27;liblinear&#x27;)</pre></div></div></div></div></div></div></div></div></div></div>"
            ],
            "text/plain": [
              "GridSearchCV(cv=5, estimator=LogisticRegression(solver='liblinear'), n_jobs=-1,\n",
              "             param_grid={'C': [0.01, 0.1, 1, 5, 100],\n",
              "                         'penalty': ['l1', 'l2', 'elasticnet']},\n",
              "             scoring='precision', verbose=2)"
            ]
          },
          "execution_count": 78,
          "metadata": {},
          "output_type": "execute_result"
        }
      ],
      "source": [
        "grid_log.fit(X_train_sm, y_train_sm)"
      ]
    },
    {
      "cell_type": "code",
      "execution_count": 79,
      "metadata": {
        "colab": {
          "base_uri": "https://localhost:8080/"
        },
        "id": "CTzoMRflsbk4",
        "outputId": "dd06b94a-7782-44ce-b220-420e4f208d0d"
      },
      "outputs": [
        {
          "name": "stdout",
          "output_type": "stream",
          "text": [
            "GridSearch for logistic Regression:\n",
            "\n",
            "Best Parameters are: {'C': 0.01, 'penalty': 'l1'}\n",
            "\n",
            "Best Parameters are: nan\n"
          ]
        }
      ],
      "source": [
        "print('GridSearch for logistic Regression:\\n')\n",
        "print(f'Best Parameters are: {grid_log.best_params_}')\n",
        "print(f'\\nBest Parameters are: {grid_log.best_score_}')"
      ]
    },
    {
      "cell_type": "code",
      "execution_count": null,
      "metadata": {
        "id": "B0vEx4FdrDo9"
      },
      "outputs": [],
      "source": []
    },
    {
      "cell_type": "code",
      "execution_count": null,
      "metadata": {
        "id": "WQ4wSqQ4rDrl"
      },
      "outputs": [],
      "source": []
    },
    {
      "cell_type": "code",
      "execution_count": null,
      "metadata": {
        "id": "L3C2RYdaq1jd"
      },
      "outputs": [],
      "source": []
    },
    {
      "cell_type": "code",
      "execution_count": null,
      "metadata": {
        "id": "rUChNzx8q1lr"
      },
      "outputs": [],
      "source": []
    },
    {
      "cell_type": "code",
      "execution_count": null,
      "metadata": {
        "id": "pMZaqOrzq1uo"
      },
      "outputs": [],
      "source": []
    },
    {
      "cell_type": "code",
      "execution_count": null,
      "metadata": {
        "id": "e7TiRWHkqSt6"
      },
      "outputs": [],
      "source": []
    },
    {
      "cell_type": "code",
      "execution_count": null,
      "metadata": {
        "id": "Je_RI446qS0J"
      },
      "outputs": [],
      "source": []
    },
    {
      "cell_type": "code",
      "execution_count": null,
      "metadata": {
        "id": "HwQX2UZAqFLr"
      },
      "outputs": [],
      "source": []
    },
    {
      "cell_type": "code",
      "execution_count": null,
      "metadata": {
        "id": "Y7b-MfyPqFhs"
      },
      "outputs": [],
      "source": []
    },
    {
      "cell_type": "code",
      "execution_count": null,
      "metadata": {
        "id": "Itx3pxIaqFkZ"
      },
      "outputs": [],
      "source": []
    },
    {
      "cell_type": "code",
      "execution_count": null,
      "metadata": {
        "id": "Qfsb3WtCp0NQ"
      },
      "outputs": [],
      "source": []
    },
    {
      "cell_type": "code",
      "execution_count": null,
      "metadata": {
        "id": "MKgG8dmpp0RS"
      },
      "outputs": [],
      "source": []
    }
  ],
  "metadata": {
    "colab": {
      "provenance": []
    },
    "kernelspec": {
      "display_name": "Python 3",
      "name": "python3"
    },
    "language_info": {
      "codemirror_mode": {
        "name": "ipython",
        "version": 3
      },
      "file_extension": ".py",
      "mimetype": "text/x-python",
      "name": "python",
      "nbconvert_exporter": "python",
      "pygments_lexer": "ipython3",
      "version": "3.11.9"
    }
  },
  "nbformat": 4,
  "nbformat_minor": 0
}
